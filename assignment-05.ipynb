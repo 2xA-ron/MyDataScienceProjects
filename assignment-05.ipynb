{
 "cells": [
  {
   "cell_type": "markdown",
   "id": "convertible-xerox",
   "metadata": {},
   "source": [
    "# This is Assigment 05 -Aaron Rodriguez \n",
    "## ITSE 1302"
   ]
  },
  {
   "cell_type": "markdown",
   "id": "danish-lexington",
   "metadata": {},
   "source": [
    "## Requirement 1"
   ]
  },
  {
   "cell_type": "code",
   "execution_count": 7,
   "id": "committed-bench",
   "metadata": {},
   "outputs": [
    {
     "name": "stdout",
     "output_type": "stream",
     "text": [
      "30\n",
      "18\n",
      "435\n",
      "3750.0\n",
      "800\n",
      "9765625\n"
     ]
    }
   ],
   "source": [
    "# Demonstrate arithmetic operations\n",
    "\n",
    "#addition\n",
    "x = 20 + 10\n",
    "print( 20 +10) \n",
    "#subtract\n",
    "x = 39 - 21\n",
    "print( 39 - 21 )\n",
    "#Multiply\n",
    "x = 87 * 5\n",
    "print( 87 * 5)\n",
    "# true division\n",
    "x = 45000 / 12\n",
    "print( 45000 / 12)\n",
    "# Floor division \n",
    "x = 3200 // 4\n",
    "print( 3200 // 4)\n",
    "# Exponentiation\n",
    "x = 25 ** 5\n",
    "print( 25 ** 5)"
   ]
  },
  {
   "cell_type": "markdown",
   "id": "italian-finder",
   "metadata": {},
   "source": [
    "## Requirment 2"
   ]
  },
  {
   "cell_type": "code",
   "execution_count": 140,
   "id": "boolean-pakistan",
   "metadata": {},
   "outputs": [
    {
     "name": "stdout",
     "output_type": "stream",
     "text": [
      "True\n",
      "True\n",
      "True\n",
      "True\n",
      "False\n",
      "True\n"
     ]
    }
   ],
   "source": [
    "# Demonstrate# Demonstrate Comparison Operations\n",
    "\n",
    "# Equal to\n",
    "67 % 3 == 1\n",
    "print(67 % 3 == 1)\n",
    "# Not Equal to\n",
    "b = 33\n",
    "99 / 2 != b\n",
    "print(99 / 2 != b)\n",
    "# less Than\n",
    "21 < 29\n",
    "print(21 < 29)\n",
    "# Greater Than\n",
    "85 > 1\n",
    "print(85 > 1)\n",
    "# Less than or equal to\n",
    "b = 19\n",
    "20 <= b\n",
    "print(20 <= b)\n",
    "# Greater Than or equal to \n",
    "b = 1000\n",
    "1025 >= b\n",
    "print(1025 >= b)"
   ]
  },
  {
   "cell_type": "markdown",
   "id": "decent-plastic",
   "metadata": {},
   "source": [
    "## Requirement 3"
   ]
  },
  {
   "cell_type": "code",
   "execution_count": 141,
   "id": "tested-cathedral",
   "metadata": {},
   "outputs": [
    {
     "name": "stdout",
     "output_type": "stream",
     "text": [
      "Even -> [4, 6, 2, 8, 90, 0, 66, 102, 44, 88, 34, 10]\n",
      "Odd -> [1, 89, 5, 77, 11, 95, 9]\n"
     ]
    }
   ],
   "source": [
    "#create list and split populate\n",
    "list_1 = [1,4,6,2,89, 8, 90, 5, 0]\n",
    "list_2 = [77, 66, 11, 95,102, 44,88, 34, 9, 10]\n",
    "\n",
    "list_even = []\n",
    "list_odd = []\n",
    "for num in list_1:\n",
    "    if num%2 == 0:\n",
    "        list_even.append(num)\n",
    "    else:\n",
    "        list_odd.append(num)\n",
    "for num in list_2:\n",
    "    if num%2 == 0:\n",
    "        list_even.append(num)\n",
    "    else:\n",
    "        list_odd.append(num)        \n",
    "                  \n",
    "print ( \"Even ->\", list_even) \n",
    "print (\"Odd ->\", list_odd)"
   ]
  },
  {
   "cell_type": "markdown",
   "id": "secret-representation",
   "metadata": {},
   "source": [
    "##  Requirement 4"
   ]
  },
  {
   "cell_type": "code",
   "execution_count": 1,
   "id": "civil-railway",
   "metadata": {},
   "outputs": [
    {
     "name": "stdout",
     "output_type": "stream",
     "text": [
      "result1 False\n",
      "result2 True\n"
     ]
    }
   ],
   "source": [
    "# Demonstrate the use of the method is_integer\n",
    "print (\"result1\",2.5.is_integer())\n",
    "print (\"result2\",3.0.is_integer())"
   ]
  },
  {
   "cell_type": "markdown",
   "id": "threaded-person",
   "metadata": {},
   "source": [
    "## Requirement 5"
   ]
  },
  {
   "cell_type": "code",
   "execution_count": 156,
   "id": "accomplished-content",
   "metadata": {},
   "outputs": [
    {
     "name": "stdout",
     "output_type": "stream",
     "text": [
      "True\n",
      "False\n",
      "False\n",
      "True\n",
      "True\n",
      "True\n",
      "2032297593712\n",
      "2032297594192\n"
     ]
    }
   ],
   "source": [
    "# Demonstrate Boolean, Identity, and Membership operations\n",
    "\n",
    "#AND\n",
    "x =4\n",
    "(x < 66) and (x > 3)\n",
    "print(x < 66) and (x > 3)\n",
    "#OR\n",
    "(x > 90) or (x % 2 ==0)\n",
    "print(x > 90) or (x % 2 ==0)\n",
    "# NOT \n",
    "not (x < 85)\n",
    "a = [1, 2, 3]\n",
    "b = [1, 2, 3]\n",
    "# IS \n",
    "a is b\n",
    "print(a is b)\n",
    "# IS NOT\n",
    "a is not b\n",
    "print(a is not b)\n",
    "#IN\n",
    "12 in [2, 4, 12]\n",
    "print(12 in [2, 4, 12])\n",
    "#NOT IN\n",
    "66 not in [ 97, 2, 21]\n",
    "print(66 not in [ 97, 2, 21])\n",
    "# Object Identity\n",
    "n = 300\n",
    "id(n)\n",
    "print(id(n))\n",
    "m = 300\n",
    "id(m)\n",
    "print(id(m))"
   ]
  },
  {
   "cell_type": "markdown",
   "id": "downtown-quarter",
   "metadata": {},
   "source": [
    "## Requirement 6"
   ]
  },
  {
   "cell_type": "code",
   "execution_count": 150,
   "id": "strong-hudson",
   "metadata": {},
   "outputs": [
    {
     "name": "stdout",
     "output_type": "stream",
     "text": [
      "2032297593744\n",
      "2032297594000\n"
     ]
    }
   ],
   "source": [
    "# Object Identity\n",
    "n = 300\n",
    "id(n)\n",
    "print(id(n))\n",
    "m = 300\n",
    "id(m)\n",
    "print(id(m))"
   ]
  },
  {
   "cell_type": "markdown",
   "id": "white-shoulder",
   "metadata": {},
   "source": [
    "## Requirement 7"
   ]
  },
  {
   "cell_type": "code",
   "execution_count": 152,
   "id": "caring-agent",
   "metadata": {},
   "outputs": [
    {
     "name": "stdout",
     "output_type": "stream",
     "text": [
      "9.459770114942529\n",
      "Variable Precision 9.46\n"
     ]
    }
   ],
   "source": [
    "# Demonstrate variable precision\n",
    "food = 87\n",
    "bank = 823\n",
    "paid = bank / food\n",
    "precisionAmt = format(paid, \".2f\")\n",
    "print(bank / food)\n",
    "print(\"Variable Precision\", precisionAmt)"
   ]
  },
  {
   "cell_type": "markdown",
   "id": "exact-conviction",
   "metadata": {},
   "source": [
    "## Requirement 8"
   ]
  },
  {
   "cell_type": "code",
   "execution_count": 153,
   "id": "divided-district",
   "metadata": {},
   "outputs": [
    {
     "name": "stdout",
     "output_type": "stream",
     "text": [
      "11\n",
      "HELLO MY FRIENDS\n",
      "Hey, hows it going?\n",
      "Master Obi Wan..Hello There\n",
      "Hello ThereHello ThereHello ThereHello ThereHello ThereHello There\n",
      "M\n"
     ]
    }
   ],
   "source": [
    "#Demonstrate the following string operations\n",
    "\n",
    "#len\n",
    "message = \"Master Obi Wan..\"\n",
    "response = 'Hello There'\n",
    "len(response)\n",
    "print(len(response))\n",
    "#upper\n",
    "txt = \"Hello my friends\"\n",
    "x = txt.upper()\n",
    "print(x)\n",
    "#capitalize\n",
    "msg = \"hey, hows it going?\"\n",
    "rsp = msg.capitalize()\n",
    "print(rsp)\n",
    "#concatenation\n",
    "message + response\n",
    "print(message + response)\n",
    "#multi-concatenation\n",
    "6 * response\n",
    "print(6 * response)\n",
    "#access of individual characters\n",
    "message[0]\n",
    "print(message[0])"
   ]
  }
 ],
 "metadata": {
  "kernelspec": {
   "display_name": "Python 3",
   "language": "python",
   "name": "python3"
  },
  "language_info": {
   "codemirror_mode": {
    "name": "ipython",
    "version": 3
   },
   "file_extension": ".py",
   "mimetype": "text/x-python",
   "name": "python",
   "nbconvert_exporter": "python",
   "pygments_lexer": "ipython3",
   "version": "3.8.8"
  }
 },
 "nbformat": 4,
 "nbformat_minor": 5
}
