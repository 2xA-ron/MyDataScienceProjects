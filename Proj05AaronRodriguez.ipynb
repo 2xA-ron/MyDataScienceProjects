{
 "cells": [
  {
   "cell_type": "markdown",
   "id": "powerful-identifier",
   "metadata": {},
   "source": [
    "### Table of contents"
   ]
  },
  {
   "cell_type": "markdown",
   "id": "generic-lawrence",
   "metadata": {},
   "source": [
    "* [Certification](#certification)\n",
    "* [Import libraries](#import-libraries)\n",
    "   * [Step 1](#step1)\n",
    "   * [Step 2](#step2)\n",
    "   * [Step 3](#step3)\n",
    "* [Solution](#solution)\n"
   ]
  },
  {
   "cell_type": "markdown",
   "id": "appointed-filename",
   "metadata": {},
   "source": [
    "### Certification <a class=\"anchor\" id=\"certification\"></a>"
   ]
  },
  {
   "cell_type": "markdown",
   "id": "infinite-serbia",
   "metadata": {},
   "source": [
    "I certify that this project is my own work and is not the work of others. I agree not to share my solution with others. -Aaron Rodriguez"
   ]
  },
  {
   "cell_type": "markdown",
   "id": "excited-wrestling",
   "metadata": {},
   "source": [
    "### Import libraries <a class=\"anchor\" id=\"import-libraries\"></a>"
   ]
  },
  {
   "cell_type": "code",
   "execution_count": 26,
   "id": "steady-anime",
   "metadata": {},
   "outputs": [],
   "source": [
    "import numpy as np\n",
    "from scipy import linalg"
   ]
  },
  {
   "cell_type": "markdown",
   "id": "optical-substitute",
   "metadata": {},
   "source": [
    "3x + 4y + 3z = 10\n",
    "\n",
    "9x - 10y - 10z = -11\n",
    "\n",
    "4x + 15y +18z = 37"
   ]
  },
  {
   "cell_type": "markdown",
   "id": "ignored-horror",
   "metadata": {},
   "source": [
    "### Step 1 <a class=\"anchor\" id=\"step1\"></a>"
   ]
  },
  {
   "cell_type": "markdown",
   "id": "professional-albany",
   "metadata": {},
   "source": [
    "In this code we have changed the the following equation above known as a Linear system to below what is known as a Augmneted Matrix. An Augmented Matrix is used for solving multiple equations such X, Y , and Z. In this case we are solving for 3 equations."
   ]
  },
  {
   "cell_type": "code",
   "execution_count": 42,
   "id": "flexible-contamination",
   "metadata": {},
   "outputs": [],
   "source": [
    "A = np.array([[3,4,3],[9,-10,-10],[4,15,18]])"
   ]
  },
  {
   "cell_type": "code",
   "execution_count": 43,
   "id": "ceramic-scoop",
   "metadata": {},
   "outputs": [
    {
     "name": "stdout",
     "output_type": "stream",
     "text": [
      "[[  3   4   3]\n",
      " [  9 -10 -10]\n",
      " [  4  15  18]]\n"
     ]
    }
   ],
   "source": [
    "print(A)"
   ]
  },
  {
   "cell_type": "markdown",
   "id": "functional-garlic",
   "metadata": {},
   "source": [
    "### Step 2 <a class=\"anchor\" id=\"step2\"></a>"
   ]
  },
  {
   "cell_type": "markdown",
   "id": "fallen-canberra",
   "metadata": {},
   "source": [
    " Each number in B represents the total from each column in A "
   ]
  },
  {
   "cell_type": "code",
   "execution_count": 44,
   "id": "built-slovakia",
   "metadata": {},
   "outputs": [],
   "source": [
    "b = np.array([10,-11,37])"
   ]
  },
  {
   "cell_type": "code",
   "execution_count": 45,
   "id": "permanent-advocate",
   "metadata": {},
   "outputs": [
    {
     "name": "stdout",
     "output_type": "stream",
     "text": [
      "[ 10 -11  37]\n"
     ]
    }
   ],
   "source": [
    "print(B)"
   ]
  },
  {
   "cell_type": "markdown",
   "id": "loaded-preliminary",
   "metadata": {},
   "source": [
    "### Step 3 <a class=\"anchor\" id=\"step3\"></a>"
   ]
  },
  {
   "cell_type": "markdown",
   "id": "polyphonic-renaissance",
   "metadata": {},
   "source": [
    "Next we will use what is called the linear-algebra package to solve a linear matrix equation, or system of linear scalar equations. In this case we are solving for x,y,and z of the equation of A by using the .linalg.solve funtion and pluging in A and B. "
   ]
  },
  {
   "cell_type": "code",
   "execution_count": 46,
   "id": "specified-float",
   "metadata": {},
   "outputs": [],
   "source": [
    "xyz = np.linalg.solve(A,b)"
   ]
  },
  {
   "cell_type": "code",
   "execution_count": 47,
   "id": "killing-copper",
   "metadata": {},
   "outputs": [
    {
     "name": "stdout",
     "output_type": "stream",
     "text": [
      "[1. 1. 1.]\n"
     ]
    }
   ],
   "source": [
    "print(xyz)"
   ]
  },
  {
   "cell_type": "markdown",
   "id": "adapted-italy",
   "metadata": {},
   "source": [
    "To confirm the solution is correct we use (.dot) by computing the A matrix with the solution with the original B matrix if the solution matches the original B matrix then your solution is comfirmed to be correct. "
   ]
  },
  {
   "cell_type": "code",
   "execution_count": 48,
   "id": "danish-latino",
   "metadata": {
    "scrolled": true
   },
   "outputs": [
    {
     "name": "stdout",
     "output_type": "stream",
     "text": [
      "[ 10. -11.  37.]\n"
     ]
    }
   ],
   "source": [
    "print(A.dot(xyz))"
   ]
  },
  {
   "cell_type": "markdown",
   "id": "editorial-notification",
   "metadata": {},
   "source": [
    "### Solution <a class=\"anchor\" id=\"solution\"></a>"
   ]
  },
  {
   "cell_type": "markdown",
   "id": "growing-tennessee",
   "metadata": {},
   "source": [
    "X = 1"
   ]
  },
  {
   "cell_type": "markdown",
   "id": "operational-incident",
   "metadata": {},
   "source": [
    "Y = 1"
   ]
  },
  {
   "cell_type": "markdown",
   "id": "applicable-exploration",
   "metadata": {},
   "source": [
    "Z = 1"
   ]
  },
  {
   "cell_type": "code",
   "execution_count": 41,
   "id": "exclusive-heater",
   "metadata": {},
   "outputs": [],
   "source": [
    "##The End##"
   ]
  }
 ],
 "metadata": {
  "kernelspec": {
   "display_name": "Python 3",
   "language": "python",
   "name": "python3"
  },
  "language_info": {
   "codemirror_mode": {
    "name": "ipython",
    "version": 3
   },
   "file_extension": ".py",
   "mimetype": "text/x-python",
   "name": "python",
   "nbconvert_exporter": "python",
   "pygments_lexer": "ipython3",
   "version": "3.8.8"
  }
 },
 "nbformat": 4,
 "nbformat_minor": 5
}
