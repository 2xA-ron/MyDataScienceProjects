{
 "cells": [
  {
   "cell_type": "markdown",
   "id": "minimal-default",
   "metadata": {},
   "source": [
    "### Table of Contents"
   ]
  },
  {
   "cell_type": "markdown",
   "id": "static-suspension",
   "metadata": {},
   "source": [
    "* [Certification](#certification)\n",
    "* [Import Libraries](#import-libraries)\n",
    "   * [Step 1](#step1)\n",
    "   * [Step 2](#step2)\n",
    "   * [Step 3](#step3)\n",
    "* [Solution](#solution)"
   ]
  },
  {
   "cell_type": "markdown",
   "id": "injured-constitution",
   "metadata": {},
   "source": [
    "### Certification <a class=\"anchor\" id=\"certification\"></a>"
   ]
  },
  {
   "cell_type": "markdown",
   "id": "fourth-accreditation",
   "metadata": {},
   "source": [
    "I certify that this project is my own work and is not the work of others. I agree not to share my solution with others. -Aaron Rodriguez"
   ]
  },
  {
   "cell_type": "markdown",
   "id": "young-headset",
   "metadata": {},
   "source": [
    "### Import Libraries <a class=\"anchor\" id=\"import-libraries\"></a>"
   ]
  },
  {
   "cell_type": "code",
   "execution_count": 52,
   "id": "electronic-motorcycle",
   "metadata": {},
   "outputs": [],
   "source": [
    "import numpy as np\n",
    "from scipy import linalg"
   ]
  },
  {
   "cell_type": "markdown",
   "id": "compound-michigan",
   "metadata": {},
   "source": [
    " 16v +17w +12x  +66y +45z = 156\n",
    " \n",
    " 29v -18w -15x  +73y +70z = 139\n",
    " \n",
    "-14v +46w -27x  +58y +91z = 154\n",
    "\n",
    " 33v +37w +24x -123y +54z =  25\n",
    " \n",
    " 20v -27w +18x  +19y -56z = -26"
   ]
  },
  {
   "cell_type": "markdown",
   "id": "related-simulation",
   "metadata": {},
   "source": [
    "### Step 1 <a class=\"anchor\" id=\"step1\"></a>"
   ]
  },
  {
   "cell_type": "markdown",
   "id": "biblical-colors",
   "metadata": {},
   "source": [
    "In this code we have changed the the following equation above known as a Linear system to below what is known as a Augmneted Matrix. An Augmented Matrix is used for solving multiple equations such V,W,X,Y, and Z. In this case we are solving for 5 equations."
   ]
  },
  {
   "cell_type": "code",
   "execution_count": 64,
   "id": "structural-change",
   "metadata": {},
   "outputs": [],
   "source": [
    "A = np.array([[16,17,12,66,45,],[29,-18,-15,73,70],[-14,46,-27,58,91],[33,37,24,-123,54],[20,-27,18,19,-56]])"
   ]
  },
  {
   "cell_type": "code",
   "execution_count": 65,
   "id": "suited-section",
   "metadata": {},
   "outputs": [
    {
     "name": "stdout",
     "output_type": "stream",
     "text": [
      "[[  16   17   12   66   45]\n",
      " [  29  -18  -15   73   70]\n",
      " [ -14   46  -27   58   91]\n",
      " [  33   37   24 -123   54]\n",
      " [  20  -27   18   19  -56]]\n"
     ]
    }
   ],
   "source": [
    "print(A)"
   ]
  },
  {
   "cell_type": "markdown",
   "id": "boolean-jewelry",
   "metadata": {},
   "source": [
    "### Step2 <a class=\"anchor\" id=\"step2\"></a>"
   ]
  },
  {
   "cell_type": "markdown",
   "id": "terminal-charger",
   "metadata": {},
   "source": [
    " Each number in B represents the total from each column in A "
   ]
  },
  {
   "cell_type": "code",
   "execution_count": 66,
   "id": "passing-touch",
   "metadata": {},
   "outputs": [],
   "source": [
    "B = np.array([156,139,154,25,-26])"
   ]
  },
  {
   "cell_type": "code",
   "execution_count": 67,
   "id": "literary-vintage",
   "metadata": {},
   "outputs": [
    {
     "name": "stdout",
     "output_type": "stream",
     "text": [
      "[156 139 154  25 -26]\n"
     ]
    }
   ],
   "source": [
    "print(B)"
   ]
  },
  {
   "cell_type": "markdown",
   "id": "listed-earth",
   "metadata": {},
   "source": [
    "### Step 3 <a class=\"anchor\" id=\"step3\" ></a>"
   ]
  },
  {
   "cell_type": "markdown",
   "id": "forty-distinction",
   "metadata": {},
   "source": [
    "Next we will use what is called the linear-algebra package to solve a linear matrix equation, or system of linear scalar equations. In this case we are solving for V,W,X,Y,and Z of the equation of A by using the .linalg.solve funtion and pluging in A and B. "
   ]
  },
  {
   "cell_type": "code",
   "execution_count": 68,
   "id": "friendly-point",
   "metadata": {},
   "outputs": [],
   "source": [
    "vwxyz = np.linalg.solve(A,B)"
   ]
  },
  {
   "cell_type": "code",
   "execution_count": 69,
   "id": "wound-interest",
   "metadata": {},
   "outputs": [
    {
     "name": "stdout",
     "output_type": "stream",
     "text": [
      "[1. 1. 1. 1. 1.]\n"
     ]
    }
   ],
   "source": [
    "print(vwxyz)"
   ]
  },
  {
   "cell_type": "markdown",
   "id": "prerequisite-friendship",
   "metadata": {},
   "source": [
    "To confirm the solution is correct we use (.dot) by computing the A matrix with the solution with the original B matrix if the solution matches the original B matrix then your solution is comfirmed to be correct. "
   ]
  },
  {
   "cell_type": "code",
   "execution_count": 70,
   "id": "honey-moldova",
   "metadata": {},
   "outputs": [
    {
     "name": "stdout",
     "output_type": "stream",
     "text": [
      "[156. 139. 154.  25. -26.]\n"
     ]
    }
   ],
   "source": [
    "print(A.dot(vwxyz))"
   ]
  },
  {
   "cell_type": "markdown",
   "id": "hindu-drinking",
   "metadata": {},
   "source": [
    "### Solution <a class=\"anchor\" id=\"solution\"></a>"
   ]
  },
  {
   "cell_type": "markdown",
   "id": "radio-township",
   "metadata": {},
   "source": [
    "V = 1\n",
    "\n",
    "W = 1\n",
    "\n",
    "X = 1\n",
    "\n",
    "Y = 1\n",
    "\n",
    "Z = 1"
   ]
  },
  {
   "cell_type": "code",
   "execution_count": 63,
   "id": "derived-trunk",
   "metadata": {},
   "outputs": [],
   "source": [
    "##TheEnd##"
   ]
  }
 ],
 "metadata": {
  "kernelspec": {
   "display_name": "Python 3",
   "language": "python",
   "name": "python3"
  },
  "language_info": {
   "codemirror_mode": {
    "name": "ipython",
    "version": 3
   },
   "file_extension": ".py",
   "mimetype": "text/x-python",
   "name": "python",
   "nbconvert_exporter": "python",
   "pygments_lexer": "ipython3",
   "version": "3.8.8"
  }
 },
 "nbformat": 4,
 "nbformat_minor": 5
}
