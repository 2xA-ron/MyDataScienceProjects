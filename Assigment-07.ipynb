{
 "cells": [
  {
   "cell_type": "markdown",
   "id": "diagnostic-silver",
   "metadata": {},
   "source": [
    "## This is Assignment-07 Aaron Rodriguez"
   ]
  },
  {
   "cell_type": "markdown",
   "id": "applied-stuart",
   "metadata": {},
   "source": [
    "## Requiremnt 1"
   ]
  },
  {
   "cell_type": "code",
   "execution_count": 29,
   "id": "liked-photograph",
   "metadata": {},
   "outputs": [
    {
     "name": "stdout",
     "output_type": "stream",
     "text": [
      "[0]\n"
     ]
    }
   ],
   "source": [
    "# Not in range\n",
    "not_equal = []\n",
    "for val in range(30):\n",
    "    if val %3==0 and val %13==0 and val %17==0:\n",
    "        not_equal.append(val)\n",
    "\n",
    "print(not_equal)\n"
   ]
  },
  {
   "cell_type": "markdown",
   "id": "hawaiian-deployment",
   "metadata": {},
   "source": [
    "## Requirement 2"
   ]
  },
  {
   "cell_type": "code",
   "execution_count": 36,
   "id": "premium-screen",
   "metadata": {},
   "outputs": [
    {
     "name": "stdout",
     "output_type": "stream",
     "text": [
      "0 3 6 9 12 13 15 17 18 21 24 26 27 "
     ]
    }
   ],
   "source": [
    "# Using loop syntax instead of list comprehension\n",
    "for val in range (30):\n",
    "     if val %3==0 or val %13==0 or val %17==0:\n",
    "        print(val, end= ' ')\n"
   ]
  },
  {
   "cell_type": "markdown",
   "id": "possible-venice",
   "metadata": {},
   "source": [
    "## Requiremnt 3"
   ]
  },
  {
   "cell_type": "code",
   "execution_count": 63,
   "id": "outdoor-hunter",
   "metadata": {},
   "outputs": [
    {
     "name": "stdout",
     "output_type": "stream",
     "text": [
      "[0, -1, 2, -3, 4, -5, 6, -7, 8, -9, 10, -11, 12, -13, 14, -15, 16, -17, 18, -19, 20, -21, 22, -23, 24, -25, 26, -27, 28, -29]\n"
     ]
    }
   ],
   "source": [
    "#From range(30)\n",
    "my_list = [-num if num%2 != 0 else num for num in range(30)]\n",
    "print(my_list)\n",
    "\n",
    "\n"
   ]
  },
  {
   "cell_type": "markdown",
   "id": "subject-bottom",
   "metadata": {},
   "source": [
    "## Requirement 4"
   ]
  },
  {
   "cell_type": "code",
   "execution_count": 34,
   "id": "enabling-weather",
   "metadata": {},
   "outputs": [
    {
     "data": {
      "text/plain": [
       "{0, 1, 2, 3, 4}"
      ]
     },
     "execution_count": 34,
     "metadata": {},
     "output_type": "execute_result"
    }
   ],
   "source": [
    "# From range(1000)\n",
    "{i % 5 for i in range(1000)}"
   ]
  },
  {
   "cell_type": "markdown",
   "id": "later-surgeon",
   "metadata": {},
   "source": [
    "## Requirement 5"
   ]
  },
  {
   "cell_type": "code",
   "execution_count": 35,
   "id": "third-egypt",
   "metadata": {},
   "outputs": [
    {
     "data": {
      "text/plain": [
       "{0: 0,\n",
       " 1: 1,\n",
       " 2: 8,\n",
       " 3: 27,\n",
       " 4: 64,\n",
       " 5: 125,\n",
       " 6: 216,\n",
       " 7: 343,\n",
       " 8: 512,\n",
       " 9: 729,\n",
       " 10: 1000,\n",
       " 11: 1331,\n",
       " 12: 1728,\n",
       " 13: 2197,\n",
       " 14: 2744,\n",
       " 15: 3375,\n",
       " 16: 4096,\n",
       " 17: 4913,\n",
       " 18: 5832,\n",
       " 19: 6859}"
      ]
     },
     "execution_count": 35,
     "metadata": {},
     "output_type": "execute_result"
    }
   ],
   "source": [
    "#  dictionary comprehension\n",
    "{i:i**3 for i in range(20)}\n"
   ]
  },
  {
   "cell_type": "markdown",
   "id": "fossil-annual",
   "metadata": {},
   "source": [
    "## Requiremnt 6"
   ]
  },
  {
   "cell_type": "code",
   "execution_count": 2,
   "id": "competent-offering",
   "metadata": {},
   "outputs": [
    {
     "ename": "NameError",
     "evalue": "name 'G' is not defined",
     "output_type": "error",
     "traceback": [
      "\u001b[1;31m---------------------------------------------------------------------------\u001b[0m",
      "\u001b[1;31mNameError\u001b[0m                                 Traceback (most recent call last)",
      "\u001b[1;32m<ipython-input-2-c5d9c04454da>\u001b[0m in \u001b[0;36m<module>\u001b[1;34m\u001b[0m\n\u001b[0;32m      1\u001b[0m \u001b[1;31m#printing type of G / even number\u001b[0m\u001b[1;33m\u001b[0m\u001b[1;33m\u001b[0m\u001b[1;33m\u001b[0m\u001b[0m\n\u001b[1;32m----> 2\u001b[1;33m \u001b[0mmy_generator\u001b[0m \u001b[1;33m=\u001b[0m \u001b[0mG\u001b[0m\u001b[1;33m(\u001b[0m\u001b[1;33m)\u001b[0m\u001b[1;33m\u001b[0m\u001b[1;33m\u001b[0m\u001b[0m\n\u001b[0m\u001b[0;32m      3\u001b[0m \u001b[1;33m\u001b[0m\u001b[0m\n\u001b[0;32m      4\u001b[0m \u001b[0mprint\u001b[0m\u001b[1;33m(\u001b[0m\u001b[0mtype\u001b[0m\u001b[1;33m(\u001b[0m\u001b[0mmy_generator\u001b[0m\u001b[1;33m)\u001b[0m\u001b[1;33m)\u001b[0m\u001b[1;33m\u001b[0m\u001b[1;33m\u001b[0m\u001b[0m\n\u001b[0;32m      5\u001b[0m \u001b[1;33m\u001b[0m\u001b[0m\n",
      "\u001b[1;31mNameError\u001b[0m: name 'G' is not defined"
     ]
    }
   ],
   "source": [
    "#printing type of G / even number\n",
    "my_generator = G()\n",
    "\n",
    "print(type(my_generator))\n",
    "\n",
    "while True:\n",
    "        try:\n",
    "            print (\"Even output(): \", next(my_generator) )\n",
    "\n",
    "        except StopIteration:\n",
    "\n",
    "            break\n",
    "\n"
   ]
  },
  {
   "cell_type": "markdown",
   "id": "failing-blackberry",
   "metadata": {},
   "source": [
    "## Requirement 7"
   ]
  },
  {
   "cell_type": "code",
   "execution_count": 87,
   "id": "structured-parker",
   "metadata": {},
   "outputs": [
    {
     "name": "stdout",
     "output_type": "stream",
     "text": [
      "<generator object <genexpr> at 0x00000230B7657E40>\n",
      "<generator object gen_divby2 at 0x00000230B7657740>\n"
     ]
    }
   ],
   "source": [
    "# From range(15) use a generator in two ways\n",
    "G1 = (n/2 for i in range(15))\n",
    " \n",
    "def gen_divby2():\n",
    "    for n in range(15):\n",
    "        yield n/2\n",
    "G2 = gen_divby2()\n",
    "print(G1)\n",
    "print(G2)"
   ]
  },
  {
   "cell_type": "markdown",
   "id": "welsh-imperial",
   "metadata": {},
   "source": [
    "## Requirement 8"
   ]
  },
  {
   "cell_type": "code",
   "execution_count": 94,
   "id": "false-produce",
   "metadata": {},
   "outputs": [
    {
     "name": "stdout",
     "output_type": "stream",
     "text": [
      "2 3 5 7 11 13 17 19 23 29 31 37 41 43 47 53 59 61 67 71 73 79 83 89 97\n"
     ]
    }
   ],
   "source": [
    "# Prim number generator defined\n",
    "def gen_prime(r):\n",
    "    prime = set()\n",
    "    for r in range(2,r):\n",
    "        if all(r % p > 0 for p in prime):\n",
    "            prime.add(r)\n",
    "            yield r\n",
    "\n",
    "print(*gen_prime(100))"
   ]
  },
  {
   "cell_type": "markdown",
   "id": "diagnostic-employee",
   "metadata": {},
   "source": [
    "## Requirement 9"
   ]
  },
  {
   "cell_type": "code",
   "execution_count": 183,
   "id": "sixth-sigma",
   "metadata": {},
   "outputs": [
    {
     "name": "stdout",
     "output_type": "stream",
     "text": [
      "C:\\Users\\Rogue Leader\\Downloads\\WPy64-3880\\notebooks\n",
      "['C:\\\\Users\\\\Rogue Leader\\\\Downloads\\\\WPy64-3880\\\\python-3.8.8.amd64\\\\lib\\\\site-packages\\\\ipykernel_launcher.py', '-f', 'C:\\\\Users\\\\Rogue Leader\\\\Downloads\\\\WPy64-3880\\\\settings\\\\runtime\\\\kernel-0ef58aa2-deb2-4110-815b-5db1b0d743f1.json']\n",
      "-1.0\n",
      "<function namedtuple at 0x00000230B01EEF70>\n",
      "<class 'random.Random'>\n",
      "5\n",
      "<module 'json' from 'C:\\\\Users\\\\Rogue Leader\\\\Downloads\\\\WPy64-3880\\\\python-3.8.8.amd64\\\\lib\\\\json\\\\__init__.py'>\n",
      "<built-in function reader>\n",
      "<module 'urllib.request' from 'C:\\\\Users\\\\Rogue Leader\\\\Downloads\\\\WPy64-3880\\\\python-3.8.8.amd64\\\\lib\\\\urllib\\\\request.py'>\n"
     ]
    }
   ],
   "source": [
    "# Import from Python's Standard Library\n",
    "import os\n",
    "os.getcwd()\n",
    "print(os.getcwd())\n",
    "import sys\n",
    "sys.argv\n",
    "print(sys.argv)\n",
    "import math\n",
    "math.cos(math.pi)\n",
    "print(math.cos(math.pi))\n",
    "import cmath\n",
    "cmath.cos\n",
    "import itertools\n",
    "itertools.accumulate\n",
    "import functools\n",
    "functools.namedtuple\n",
    "print(functools.namedtuple)\n",
    "import random\n",
    "random.Random\n",
    "print(random.Random)\n",
    "import pickle\n",
    "pickle.HIGHEST_PROTOCOL\n",
    "print(pickle.HIGHEST_PROTOCOL)\n",
    "import json\n",
    "print(json)\n",
    "import csv\n",
    "csv.reader\n",
    "print(csv.reader)\n",
    "import urllib\n",
    "urllib.request\n",
    "print(urllib.request)"
   ]
  },
  {
   "cell_type": "markdown",
   "id": "outdoor-crack",
   "metadata": {},
   "source": [
    "## Requirement 10"
   ]
  },
  {
   "cell_type": "code",
   "execution_count": 135,
   "id": "computational-bidder",
   "metadata": {},
   "outputs": [
    {
     "name": "stdout",
     "output_type": "stream",
     "text": [
      "HI HOW ARE YOU, WHAT CAN I DO FOR YOU?\n",
      "hi how are you, what can i do for you?\n"
     ]
    }
   ],
   "source": [
    "# Using String Methods\n",
    "\n",
    "#Upper/Lower case\n",
    "intro = \"hI hOW ArE You, WhAt Can i do fOr yOu?\"\n",
    "intro.upper()\n",
    "print(intro.upper())\n",
    "intro.lower()\n",
    "print(intro.lower())\n"
   ]
  },
  {
   "cell_type": "code",
   "execution_count": 137,
   "id": "worst-runner",
   "metadata": {},
   "outputs": [
    {
     "data": {
      "text/plain": [
       "'This Is The Title Of My Latest Novel'"
      ]
     },
     "execution_count": 137,
     "metadata": {},
     "output_type": "execute_result"
    }
   ],
   "source": [
    "# Convert to title\n",
    "ti = 'this is the title of my latest novel'\n",
    "ti.title()\n"
   ]
  },
  {
   "cell_type": "code",
   "execution_count": 139,
   "id": "potential-walker",
   "metadata": {},
   "outputs": [
    {
     "data": {
      "text/plain": [
       "'hey what is up?'"
      ]
     },
     "execution_count": 139,
     "metadata": {},
     "output_type": "execute_result"
    }
   ],
   "source": [
    "#Removing leading and trailing spaces\n",
    "line = '          hey what is up?               '\n",
    "line.strip()"
   ]
  },
  {
   "cell_type": "code",
   "execution_count": 142,
   "id": "digital-circle",
   "metadata": {},
   "outputs": [
    {
     "data": {
      "text/plain": [
       "'2343243242'"
      ]
     },
     "execution_count": 142,
     "metadata": {},
     "output_type": "execute_result"
    }
   ],
   "source": [
    "# Remove leading zeros\n",
    "\n",
    "calc = '00000000002343243242'\n",
    "calc.strip('0')\n"
   ]
  },
  {
   "cell_type": "code",
   "execution_count": 146,
   "id": "distant-motor",
   "metadata": {},
   "outputs": [
    {
     "data": {
      "text/plain": [
       "21"
      ]
     },
     "execution_count": 146,
     "metadata": {},
     "output_type": "execute_result"
    }
   ],
   "source": [
    "# Return the index of a substring\n",
    "\n",
    "indstr = ' How are you holding up this lovely evening can I get yoou a drink'\n",
    "indstr.find('up')\n",
    "\n"
   ]
  },
  {
   "cell_type": "code",
   "execution_count": 150,
   "id": "complete-label",
   "metadata": {},
   "outputs": [
    {
     "name": "stdout",
     "output_type": "stream",
     "text": [
      "False\n"
     ]
    },
    {
     "data": {
      "text/plain": [
       "True"
      ]
     },
     "execution_count": 150,
     "metadata": {},
     "output_type": "execute_result"
    }
   ],
   "source": [
    "# Return the index of a substring\n",
    "indstr.startswith('are')\n",
    "print(indstr.startswith('are'))\n",
    "indstr.endswith('drink')\n"
   ]
  },
  {
   "cell_type": "code",
   "execution_count": 151,
   "id": "classified-writing",
   "metadata": {},
   "outputs": [
    {
     "data": {
      "text/plain": [
       "' How are you holding up this ugly evening can I get yoou a drink'"
      ]
     },
     "execution_count": 151,
     "metadata": {},
     "output_type": "execute_result"
    }
   ],
   "source": [
    "# Replace a substring with another substring\n",
    "\n",
    "indstr.replace('lovely', 'ugly')\n",
    "\n"
   ]
  },
  {
   "cell_type": "markdown",
   "id": "thirty-yellow",
   "metadata": {},
   "source": [
    "## Split a string of words into a list of individual words\n",
    "\n",
    "indstr.split()\n"
   ]
  },
  {
   "cell_type": "code",
   "execution_count": 158,
   "id": "biblical-arthritis",
   "metadata": {},
   "outputs": [
    {
     "data": {
      "text/plain": [
       "'3**4**5'"
      ]
     },
     "execution_count": 158,
     "metadata": {},
     "output_type": "execute_result"
    }
   ],
   "source": [
    "# Join a list into a string using ** as separators\n",
    "\n",
    "'**'.join(['3', '4', '5'])\n"
   ]
  },
  {
   "cell_type": "code",
   "execution_count": 159,
   "id": "black-fifth",
   "metadata": {},
   "outputs": [
    {
     "name": "stdout",
     "output_type": "stream",
     "text": [
      "Hey hey ya!\n",
      "Yee yah yah\n",
      "Oh yeaaaaah!\n"
     ]
    }
   ],
   "source": [
    "# Print list elements each on its own line using join() \n",
    "print(\"\\n\".join(['Hey hey ya!', 'Yee yah yah', 'Oh yeaaaaah!']))\n"
   ]
  },
  {
   "cell_type": "code",
   "execution_count": 179,
   "id": "wired-circulation",
   "metadata": {
    "tags": []
   },
   "outputs": [
    {
     "name": "stdout",
     "output_type": "stream",
     "text": [
      "3.1415926\n"
     ]
    }
   ],
   "source": [
    "# Define pi\n",
    "\n",
    "pi = '3.14159265359'\n",
    "\n",
    "print(\"{:.9s}\".format(pi))"
   ]
  },
  {
   "cell_type": "code",
   "execution_count": 181,
   "id": "regulated-hands",
   "metadata": {},
   "outputs": [
    {
     "name": "stdout",
     "output_type": "stream",
     "text": [
      "Valid Email\n",
      "Invalid Email\n",
      "Valid Email\n"
     ]
    }
   ],
   "source": [
    "# Regular expression\n",
    "import re\n",
    "\n",
    "  \n",
    "regex = '..[@]\\w+[.]\\w{2,3}$'  \n",
    "\n",
    "email_expression = re.compile(regex)  \n",
    "# Used compile() method to create an object which can be reused\n",
    "# in matching multiple emails\n",
    "\n",
    "def check(email):   \n",
    "  \n",
    "    if(email_expression.search(email)):   \n",
    "        print(\"Valid Email\")   \n",
    "    else:   \n",
    "        print(\"Invalid Email\")   \n",
    "\n",
    "      \n",
    "if __name__ == '__main__' :   \n",
    "      \n",
    "    email = \"..a@india.net\"  \n",
    "    check(email)   \n",
    "  \n",
    "    email = \"..k@put-sh.com\"  \n",
    "    check(email)   \n",
    "  \n",
    "    email = \"..s@gmail.com\"  \n",
    "    check(email)   "
   ]
  },
  {
   "cell_type": "code",
   "execution_count": null,
   "id": "colonial-panel",
   "metadata": {},
   "outputs": [],
   "source": []
  }
 ],
 "metadata": {
  "kernelspec": {
   "display_name": "Python 3",
   "language": "python",
   "name": "python3"
  },
  "language_info": {
   "codemirror_mode": {
    "name": "ipython",
    "version": 3
   },
   "file_extension": ".py",
   "mimetype": "text/x-python",
   "name": "python",
   "nbconvert_exporter": "python",
   "pygments_lexer": "ipython3",
   "version": "3.8.8"
  }
 },
 "nbformat": 4,
 "nbformat_minor": 5
}
