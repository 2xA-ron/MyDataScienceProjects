{
 "cells": [
  {
   "cell_type": "markdown",
   "id": "formal-gamma",
   "metadata": {},
   "source": [
    "# Assignment-06 Aaron Rodriguez "
   ]
  },
  {
   "cell_type": "markdown",
   "id": "beneficial-testament",
   "metadata": {},
   "source": [
    "## Requiremnt 1"
   ]
  },
  {
   "cell_type": "code",
   "execution_count": 217,
   "id": "developed-riding",
   "metadata": {},
   "outputs": [
    {
     "name": "stdout",
     "output_type": "stream",
     "text": [
      "[1, 98, 11, 30, 88, 10, 9, 77, 51, 7, 63, 3, 28, 47, 19, 41, 66, 8, 17, 20]\n",
      "20\n",
      "[1, 98, 11, 30, 88, 10, 9, 77, 51, 7, 63, 3, 28, 47, 19, 41, 66, 8, 17, 20, 97, 99, 96]\n",
      "[1, 98, 11, 30, 88, 10, 9, 77, 51, 7, 63, 3, 28, 47, 19, 41, 66, 8, 17, 20, 97, 99, 96, 13, 2, 4, 3, 6, 2]\n",
      "[1, 3, 7, 8, 9, 10, 11, 17, 19, 20, 28, 30, 41, 47, 51, 63, 66, 77, 88, 96, 97, 98, 99]\n"
     ]
    }
   ],
   "source": [
    "# Creating a list with 20 arbitrary numbers\n",
    "list_1 = [1, 98, 11, 30, 88, 10, 9, 77, 51, 7, 63, 3, 28, 47, 19, 41, 66, 8, 17, 20 ]\n",
    "print(list_1)\n",
    "len(list_1)\n",
    "print(len(list_1))\n",
    "# append 3 numbers to the list between 0 and 99\n",
    "list_1.append(97)\n",
    "list_1.append(99)\n",
    "list_1.append(96)\n",
    "print(list_1)\n",
    "# use the addition operator (+ sign) to append a literal list of 7 numbers\n",
    "list_1 + [13, 2, 4, 3, 6, 2]\n",
    "print(list_1 + [13, 2, 4, 3, 6, 2])\n",
    "# sort list_1\n",
    "list_1.sort()\n",
    "print(list_1)"
   ]
  },
  {
   "cell_type": "markdown",
   "id": "satisfactory-federation",
   "metadata": {},
   "source": [
    "## Requirement 2"
   ]
  },
  {
   "cell_type": "code",
   "execution_count": 218,
   "id": "placed-sense",
   "metadata": {
    "scrolled": true
   },
   "outputs": [
    {
     "name": "stdout",
     "output_type": "stream",
     "text": [
      "8\n",
      "51\n",
      "97\n",
      "66\n",
      "[1, 3, 7, 8]\n",
      "[88, 96, 97, 98, 99]\n"
     ]
    }
   ],
   "source": [
    "# Show the following values from list_1\n",
    "\n",
    "# 4th Element\n",
    "list_1[3]\n",
    "print(list_1[3])\n",
    "# 15th Element \n",
    "list_1[14]\n",
    "print(list_1[14])\n",
    "#3rd element from the end\n",
    "list_1[-3]\n",
    "print(list_1[-3])\n",
    "# 7th element from the end\n",
    "list_1[-7]\n",
    "print(list_1[-7])\n",
    "# the first 4 elements\n",
    "list_1[:4]\n",
    "print(list_1[:4])\n",
    "# last 5 elements\n",
    "list_1[-5:]\n",
    "print(list_1[-5:])\n",
    "# elements in reverse order\n"
   ]
  },
  {
   "cell_type": "code",
   "execution_count": 219,
   "id": "experienced-dealer",
   "metadata": {},
   "outputs": [
    {
     "name": "stdout",
     "output_type": "stream",
     "text": [
      "[99, 98, 97, 96, 88, 77, 66, 63, 51, 47, 41, 30, 28, 20, 19, 17, 11, 10, 9, 8, 7, 3, 1]\n"
     ]
    }
   ],
   "source": [
    "list_1.reverse()\n",
    "print(list_1)\n"
   ]
  },
  {
   "cell_type": "code",
   "execution_count": 221,
   "id": "brave-routine",
   "metadata": {},
   "outputs": [
    {
     "name": "stdout",
     "output_type": "stream",
     "text": [
      "[99, 98, 97, 96, 88, 77, 66, 63, 100, 100, 100, 100, 100, 99, 100, 19, 17, 11, 10, 9, 8, 7, 3, 1]\n"
     ]
    }
   ],
   "source": [
    "# set the 14th element = -99\n",
    "list_1[13] = 99\n",
    "print(list_1)"
   ]
  },
  {
   "cell_type": "code",
   "execution_count": 223,
   "id": "immune-large",
   "metadata": {},
   "outputs": [
    {
     "data": {
      "text/plain": [
       "[99, 97, 88, 66, 100, 100, 100, 100, 19, 11, 9, 7, 1]"
      ]
     },
     "execution_count": 223,
     "metadata": {},
     "output_type": "execute_result"
    }
   ],
   "source": [
    "# every other element in the list\n",
    "list_1[::2]"
   ]
  },
  {
   "cell_type": "code",
   "execution_count": 224,
   "id": "flush-disease",
   "metadata": {},
   "outputs": [
    {
     "name": "stdout",
     "output_type": "stream",
     "text": [
      "[99, 98, 97, 96, 88, 77, 66, 63, 100, 100, 100, 100, 100, 100, 100, 100, 100, 19, 17, 11, 10, 9, 8, 7, 3, 1]\n"
     ]
    }
   ],
   "source": [
    "# set elements 9th through 15th to -77\n",
    "list_1[8:14] = [100, 100, 100, 100, 100, 100, 100]\n",
    "print(list_1)"
   ]
  },
  {
   "cell_type": "markdown",
   "id": "lonely-control",
   "metadata": {},
   "source": [
    "## Requirement 3"
   ]
  },
  {
   "cell_type": "code",
   "execution_count": 226,
   "id": "metropolitan-pasta",
   "metadata": {},
   "outputs": [
    {
     "ename": "TypeError",
     "evalue": "'tuple' object does not support item assignment",
     "output_type": "error",
     "traceback": [
      "\u001b[1;31m---------------------------------------------------------------------------\u001b[0m",
      "\u001b[1;31mTypeError\u001b[0m                                 Traceback (most recent call last)",
      "\u001b[1;32m<ipython-input-226-a6aa3cbb6e25>\u001b[0m in \u001b[0;36m<module>\u001b[1;34m\u001b[0m\n\u001b[0;32m      3\u001b[0m \u001b[0mtp\u001b[0m \u001b[1;33m=\u001b[0m \u001b[1;33m(\u001b[0m\u001b[1;36m2\u001b[0m\u001b[1;33m,\u001b[0m \u001b[1;36m9\u001b[0m\u001b[1;33m,\u001b[0m \u001b[1;36m0\u001b[0m\u001b[1;33m,\u001b[0m \u001b[1;36m78\u001b[0m\u001b[1;33m,\u001b[0m \u001b[1;36m12\u001b[0m\u001b[1;33m,\u001b[0m \u001b[1;36m55\u001b[0m\u001b[1;33m,\u001b[0m \u001b[1;36m82\u001b[0m\u001b[1;33m)\u001b[0m\u001b[1;33m\u001b[0m\u001b[1;33m\u001b[0m\u001b[0m\n\u001b[0;32m      4\u001b[0m \u001b[1;31m# attempt\u001b[0m\u001b[1;33m\u001b[0m\u001b[1;33m\u001b[0m\u001b[1;33m\u001b[0m\u001b[0m\n\u001b[1;32m----> 5\u001b[1;33m \u001b[0mtp\u001b[0m\u001b[1;33m[\u001b[0m\u001b[1;36m2\u001b[0m\u001b[1;33m]\u001b[0m \u001b[1;33m=\u001b[0m \u001b[1;36m4\u001b[0m\u001b[1;33m\u001b[0m\u001b[1;33m\u001b[0m\u001b[0m\n\u001b[0m\u001b[0;32m      6\u001b[0m \u001b[1;31m# append\u001b[0m\u001b[1;33m\u001b[0m\u001b[1;33m\u001b[0m\u001b[1;33m\u001b[0m\u001b[0m\n\u001b[0;32m      7\u001b[0m \u001b[0mtp\u001b[0m\u001b[1;33m.\u001b[0m\u001b[0mappend\u001b[0m\u001b[1;33m(\u001b[0m\u001b[1;33m-\u001b[0m\u001b[1;36m22\u001b[0m\u001b[1;33m)\u001b[0m\u001b[1;33m\u001b[0m\u001b[1;33m\u001b[0m\u001b[0m\n",
      "\u001b[1;31mTypeError\u001b[0m: 'tuple' object does not support item assignment"
     ]
    }
   ],
   "source": [
    "# Create a tuple\n",
    "\n",
    "tp = (2, 9, 0, 78, 12, 55, 82)\n",
    "# attempt \n",
    "tp[2] = 4\n",
    "# append \n",
    "tp.append(-22)"
   ]
  },
  {
   "cell_type": "markdown",
   "id": "distributed-cattle",
   "metadata": {},
   "source": [
    "## Requirement 4"
   ]
  },
  {
   "cell_type": "code",
   "execution_count": 251,
   "id": "soviet-paris",
   "metadata": {},
   "outputs": [
    {
     "name": "stdout",
     "output_type": "stream",
     "text": [
      "{'Fowar-Center': 'Davis', 'Defensive-End': 'Jones', 'Linebacker': 'Watson', 'Kicker': 'McManus', 'Cornerback': 'fuller', 'Defensive-Tackle': 'Stephen', 'Nose-Tackle': 'Purcell', 'Offensive-Guard': 'Risner', 'Quaterback': 'Rypien'}\n"
     ]
    }
   ],
   "source": [
    "# Create a dictionary\n",
    "players_football = {'Center':'Morris', 'Defensive-End':'Jones', 'Linebacker':'Watson', 'Kicker':'McManus', 'Cornerback':'fuller', 'Defensive-Tackle':'Stephen', 'Nose-Tackle':'Purcell', 'Offensive-Guard':'Risner', 'Quaterback':'Rypien'}\n",
    "# change a key::value pair\n",
    "players_football =({'Fowar-Center':'Davis', 'Defensive-End':'Jones', 'Linebacker':'Watson', 'Kicker':'McManus', 'Cornerback':'fuller', 'Defensive-Tackle':'Stephen', 'Nose-Tackle':'Purcell', 'Offensive-Guard':'Risner', 'Quaterback':'Rypien'})\n",
    "print(players_football)"
   ]
  },
  {
   "cell_type": "code",
   "execution_count": 252,
   "id": "assured-measure",
   "metadata": {},
   "outputs": [
    {
     "name": "stdout",
     "output_type": "stream",
     "text": [
      "{'Fowar-Center': 'Davis', 'Defensive-End': 'Jones', 'Linebacker': 'Watson', 'Kicker': 'McManus', 'Cornerback': 'fuller', 'Defensive-Tackle': 'Stephen', 'Nose-Tackle': 'Purcell', 'Offensive-Guard': 'Risner', 'Quaterback': 'Rypien', 'Errin': 'Lakers-Cheerleader'}\n"
     ]
    }
   ],
   "source": [
    "# add a new key::value pair\n",
    "players_football['Errin'] = 'Lakers-Cheerleader'\n",
    "print(players_football)"
   ]
  },
  {
   "cell_type": "markdown",
   "id": "mechanical-yacht",
   "metadata": {},
   "source": [
    "## Requirement 5"
   ]
  },
  {
   "cell_type": "code",
   "execution_count": 258,
   "id": "optional-madagascar",
   "metadata": {},
   "outputs": [
    {
     "name": "stdout",
     "output_type": "stream",
     "text": [
      "{'Heather', 'Sarah', 'Luke', 'Megan', 'Amy', 'Rex', 'Tory', 'Kevin', 'Ralph', 'Anakin', 'Tommy', 'Greg', 'Tony', 'Ramon', 'Roy', 'Bob', 'Joy'}\n",
      "{'Sarah', 'Rex', 'Anakin'}\n"
     ]
    }
   ],
   "source": [
    "hatsfields ={'Roy', 'Heather', 'Megan', 'Sarah', 'Amy', 'Rex', 'Anakin', 'Luke', 'Tommy', 'Bob'}\n",
    "mccoys = {'Anakin', 'Ralph', 'Sarah', 'Joy', 'Tory', 'Rex', 'Ramon', 'Tony', 'Greg', 'Kevin'}\n",
    "# Union \n",
    "hatsfields | mccoys\n",
    "hatsfields.union(mccoys)\n",
    "print(hatsfields.union(mccoys))"
   ]
  },
  {
   "cell_type": "code",
   "execution_count": 263,
   "id": "alike-verse",
   "metadata": {},
   "outputs": [
    {
     "name": "stdout",
     "output_type": "stream",
     "text": [
      "{'Sarah', 'Rex', 'Anakin'}\n"
     ]
    }
   ],
   "source": [
    "# Intersection\n",
    "hatsfields & mccoys\n",
    "hatsfields.intersection(mccoys)\n",
    "print(hatsfields.intersection(mccoys))"
   ]
  },
  {
   "cell_type": "code",
   "execution_count": 261,
   "id": "numeric-witch",
   "metadata": {},
   "outputs": [
    {
     "name": "stdout",
     "output_type": "stream",
     "text": [
      "{'Heather', 'Luke', 'Tommy', 'Megan', 'Amy', 'Roy', 'Bob'}\n",
      "{'Greg', 'Tony', 'Ramon', 'Joy', 'Tory', 'Kevin', 'Ralph'}\n"
     ]
    }
   ],
   "source": [
    "# Difference\n",
    "hatsfields - mccoys\n",
    "hatsfields.difference(mccoys)\n",
    "print(hatsfields.difference(mccoys))\n",
    "mccoys.difference(hatsfields)\n",
    "print(mccoys.difference(hatsfields))"
   ]
  },
  {
   "cell_type": "markdown",
   "id": "forbidden-classroom",
   "metadata": {},
   "source": [
    "## Requirement 6"
   ]
  },
  {
   "cell_type": "code",
   "execution_count": 272,
   "id": "premium-strain",
   "metadata": {},
   "outputs": [
    {
     "name": "stdout",
     "output_type": "stream",
     "text": [
      "01234567891011121314151617181920"
     ]
    }
   ],
   "source": [
    "# Demonstrate the use of a for loop using\n",
    "\n",
    "# a range\n",
    "for i in range(21):\n",
    "    print(i, end ='')\n",
    "# list contents\n"
   ]
  },
  {
   "cell_type": "code",
   "execution_count": 274,
   "id": "renewable-meditation",
   "metadata": {},
   "outputs": [
    {
     "name": "stdout",
     "output_type": "stream",
     "text": [
      "Starwberries\n",
      "Kiwi\n",
      "Orange\n"
     ]
    }
   ],
   "source": [
    "#list contents\n",
    "fruits =[\"Starwberries\", \"Kiwi\", \"Orange\"]\n",
    "for f in fruits:\n",
    "    print(f)"
   ]
  },
  {
   "cell_type": "markdown",
   "id": "intensive-hunter",
   "metadata": {},
   "source": [
    "## Requirement 7"
   ]
  },
  {
   "cell_type": "code",
   "execution_count": 7,
   "id": "african-motorcycle",
   "metadata": {},
   "outputs": [
    {
     "name": "stdout",
     "output_type": "stream",
     "text": [
      "0\n",
      "1\n",
      "2\n",
      "3\n",
      "4\n",
      "5\n",
      "6\n"
     ]
    }
   ],
   "source": [
    "# Two while loops\n",
    "#i = 0 to 7\n",
    "i = 0\n",
    "while i < 7:\n",
    "    print(i)\n",
    "    i += 1\n",
    " \n",
    "\n"
   ]
  },
  {
   "cell_type": "code",
   "execution_count": 8,
   "id": "flexible-choice",
   "metadata": {},
   "outputs": [
    {
     "name": "stdout",
     "output_type": "stream",
     "text": [
      "1\n",
      "2\n",
      "3\n",
      "4\n",
      "5\n",
      "6\n"
     ]
    }
   ],
   "source": [
    "# i = 1 to 7\n",
    "i = 1\n",
    "while i < 7:\n",
    "    print(i)\n",
    "    i += 1"
   ]
  },
  {
   "cell_type": "markdown",
   "id": "phantom-monitor",
   "metadata": {},
   "source": [
    "## Requirment 8"
   ]
  },
  {
   "cell_type": "code",
   "execution_count": 21,
   "id": "available-ivory",
   "metadata": {},
   "outputs": [
    {
     "data": {
      "text/plain": [
       "120"
      ]
     },
     "execution_count": 21,
     "metadata": {},
     "output_type": "execute_result"
    }
   ],
   "source": [
    "# Define and use a function\n",
    "\n",
    "def factorial(R):\n",
    "    L = 1\n",
    "    for i in range(R):\n",
    "        L = L * (i+1)\n",
    "    return L\n",
    "\n",
    "\n",
    "factorial(5)\n"
   ]
  },
  {
   "cell_type": "markdown",
   "id": "joined-rings",
   "metadata": {},
   "source": [
    "## Requirement 9"
   ]
  },
  {
   "cell_type": "code",
   "execution_count": 62,
   "id": "checked-continuity",
   "metadata": {},
   "outputs": [
    {
     "name": "stdout",
     "output_type": "stream",
     "text": [
      "With 40$ I was able to buy 90lbs of Zucchini\n",
      "My favorite vegetable to cook with is Carrots\n"
     ]
    }
   ],
   "source": [
    "#*args\n",
    "def vegetables(*nums):\n",
    "    print(\"With 40$ I was able to buy 90lbs of \" + nums[2])\n",
    "vegetables('Tomatoes''lettuce','Carrots', 'Zucchini')\n",
    "#**kwargs\n",
    "def vegetables(**vegg):\n",
    "    print(\"My favorite vegetable to cook with is \" + vegg[\"keyword3\"])\n",
    "vegetables(keyword1='Tomatoes', keyword2='lettuce', keyword3='Carrots', keyword4='Zucchini')\n",
    "\n"
   ]
  },
  {
   "cell_type": "code",
   "execution_count": 95,
   "id": "nonprofit-hollywood",
   "metadata": {},
   "outputs": [
    {
     "data": {
      "text/plain": [
       "[{'Popularity': 'Rodester', 'Cost': 75000.0, 'Type': 'SolarPowered'},\n",
       " {'Popularity': 'Supra', 'Cost': 55000.0, 'Type': 'Unleaded'},\n",
       " {'Popularity': 'Titan', 'Cost': 1200.0, 'Type': 'Diesel'}]"
      ]
     },
     "execution_count": 95,
     "metadata": {},
     "output_type": "execute_result"
    }
   ],
   "source": [
    "# . Create a list named cars that contains three dictionaries each \n",
    "\n",
    "cars = [ {'Popularity':'Titan', 'Cost': 1200.00, 'Type':'Diesel'},\n",
    "        {'Popularity':'Rodester','Cost':75000.00, 'Type':'SolarPowered'},\n",
    "        {'Popularity':'Supra', 'Cost':55000.00, 'Type':'Unleaded' }]\n",
    "\n",
    "sorted(cars, key=lambda car: car['Popularity'])\n"
   ]
  },
  {
   "cell_type": "code",
   "execution_count": 98,
   "id": "packed-indian",
   "metadata": {},
   "outputs": [
    {
     "data": {
      "text/plain": [
       "[{'Popularity': 'Titan', 'Cost': 1200.0, 'Type': 'Diesel'},\n",
       " {'Popularity': 'Supra', 'Cost': 55000.0, 'Type': 'Unleaded'},\n",
       " {'Popularity': 'Rodester', 'Cost': 75000.0, 'Type': 'SolarPowered'}]"
      ]
     },
     "execution_count": 98,
     "metadata": {},
     "output_type": "execute_result"
    }
   ],
   "source": [
    "# Performing another sort using diff key \n",
    "\n",
    "sorted(cars, key=lambda car: car['Cost'])\n",
    "\n"
   ]
  },
  {
   "cell_type": "markdown",
   "id": "junior-omega",
   "metadata": {},
   "source": [
    "## Requirement 10"
   ]
  },
  {
   "cell_type": "code",
   "execution_count": 101,
   "id": "amber-welcome",
   "metadata": {},
   "outputs": [
    {
     "name": "stdout",
     "output_type": "stream",
     "text": [
      "Fatal Error Throw computer away ASAP!!\n"
     ]
    }
   ],
   "source": [
    "# Demonstrate the use of a try and except statement\n",
    "try:\n",
    "    print(x)\n",
    "except:\n",
    "    print(\"Fatal Error Throw computer away ASAP!!\")"
   ]
  },
  {
   "cell_type": "markdown",
   "id": "thrown-appraisal",
   "metadata": {},
   "source": [
    "## Requirement 11"
   ]
  },
  {
   "cell_type": "code",
   "execution_count": 108,
   "id": "everyday-ordinance",
   "metadata": {},
   "outputs": [
    {
     "name": "stdout",
     "output_type": "stream",
     "text": [
      "something went wrong.. I don't want to\n"
     ]
    }
   ],
   "source": [
    "# Demonstrate the use of try, except, else, and finally statements\n",
    "try:\n",
    "    print(w)\n",
    "except:\n",
    "    print(\"something went wrong.. I don't want to do \")\n",
    "else:\n",
    "    print(\"Okay i'll see what I can do\")\n"
   ]
  },
  {
   "cell_type": "code",
   "execution_count": 109,
   "id": "mature-dictionary",
   "metadata": {},
   "outputs": [
    {
     "name": "stdout",
     "output_type": "stream",
     "text": [
      "Shut down computer\n",
      "You dont tell me what to do.. No!\n"
     ]
    }
   ],
   "source": [
    "try:\n",
    "    print(\"Shut down computer\")\n",
    "except:\n",
    "    print(\"Okay will do \")\n",
    "finally:\n",
    "    print(\"You dont tell me what to do.. No!\")"
   ]
  },
  {
   "cell_type": "markdown",
   "id": "solar-biotechnology",
   "metadata": {},
   "source": [
    "## Requirement 12"
   ]
  },
  {
   "cell_type": "markdown",
   "id": "casual-scene",
   "metadata": {},
   "source": [
    "### Iterator Indirection - It is a methood in which can be written once within a program and an constinue to run as long has information continues to be feed into it. It works kind of like a (in Range) method "
   ]
  },
  {
   "cell_type": "markdown",
   "id": "interracial-anger",
   "metadata": {},
   "source": [
    "## Requirement 13"
   ]
  },
  {
   "cell_type": "code",
   "execution_count": 115,
   "id": "necessary-garlic",
   "metadata": {},
   "outputs": [
    {
     "name": "stdout",
     "output_type": "stream",
     "text": [
      "10\n",
      "<list_iterator object at 0x000001AB9F3605E0>\n"
     ]
    }
   ],
   "source": [
    "# Creating a list of animals\n",
    "\n",
    "animals_list = ['Bears', 'Lion', 'Eagle', 'Cheetah', 'Giraffe', 'Rhino', 'Hog', 'Monkeys', 'Tigars', 'Kangaro']\n",
    "len(animals_list)\n",
    "print(len(animals_list))\n",
    "#d iteration to print the index and values\n",
    "iter(animals_list)\n",
    "print(iter(animals_list))"
   ]
  },
  {
   "cell_type": "markdown",
   "id": "aerial-tradition",
   "metadata": {},
   "source": [
    "## Requirement 14"
   ]
  },
  {
   "cell_type": "code",
   "execution_count": 121,
   "id": "spectacular-stand",
   "metadata": {},
   "outputs": [
    {
     "name": "stdout",
     "output_type": "stream",
     "text": [
      "animals 0 = Bears\n",
      "animals 1 = Lion\n",
      "animals 2 = Eagle\n",
      "animals 3 = Cheetah\n",
      "animals 4 = Giraffe\n",
      "animals 5 = Rhino\n",
      "animals 6 = Hog\n",
      "animals 7 = Monkeys\n",
      "animals 8 = Tigars\n",
      "animals 9 = Kangaro\n"
     ]
    }
   ],
   "source": [
    "#  Use the enumerate iterator to perform the same actions as the previous requirement.\n",
    "for index, item in enumerate(animals_list):\n",
    "    print('animals', index, '=', animals_list[index])\n",
    "\n"
   ]
  },
  {
   "cell_type": "markdown",
   "id": "intelligent-exhaust",
   "metadata": {},
   "source": [
    "## Requirement 15"
   ]
  },
  {
   "cell_type": "code",
   "execution_count": 126,
   "id": "processed-syndication",
   "metadata": {},
   "outputs": [
    {
     "data": {
      "text/plain": [
       "[('blue', 'Bears'),\n",
       " ('red', 'Lion'),\n",
       " ('orange', 'Eagle'),\n",
       " ('yellow', 'Cheetah'),\n",
       " ('green', 'Giraffe'),\n",
       " ('white', 'Rhino'),\n",
       " ('teal', 'Hog'),\n",
       " ('black', 'Monkeys'),\n",
       " ('grey', 'Tigars'),\n",
       " ('pink', 'Kangaro')]"
      ]
     },
     "execution_count": 126,
     "metadata": {},
     "output_type": "execute_result"
    }
   ],
   "source": [
    "# Creating a list of 10 colors\n",
    "\n",
    "color_list = ['blue', 'red', 'orange', 'yellow', 'green', 'white', 'teal', 'black', 'grey', 'pink']\n",
    "\n",
    "list(zip(color_list, animals_list))\n"
   ]
  },
  {
   "cell_type": "code",
   "execution_count": 130,
   "id": "copyrighted-singer",
   "metadata": {},
   "outputs": [
    {
     "name": "stdout",
     "output_type": "stream",
     "text": [
      "blue Bears\n",
      "red Lion\n",
      "orange Eagle\n",
      "yellow Cheetah\n",
      "green Giraffe\n",
      "white Rhino\n",
      "teal Hog\n",
      "black Monkeys\n",
      "grey Tigars\n",
      "pink Kangaro\n"
     ]
    }
   ],
   "source": [
    "for color_list, animals_list in zip(color_list,animals_list):\n",
    "    print(color_list, animals_list)"
   ]
  },
  {
   "cell_type": "markdown",
   "id": "pursuant-cylinder",
   "metadata": {},
   "source": [
    "## Requirement 16"
   ]
  },
  {
   "cell_type": "code",
   "execution_count": 134,
   "id": "crazy-mineral",
   "metadata": {},
   "outputs": [
    {
     "data": {
      "text/plain": [
       "40"
      ]
     },
     "execution_count": 134,
     "metadata": {},
     "output_type": "execute_result"
    }
   ],
   "source": [
    "# Create lamda\n",
    "# Multiplies the variable x by 10\n",
    "times_ten = lambda x: x * 10\n",
    "times_ten(4)\n"
   ]
  },
  {
   "cell_type": "code",
   "execution_count": 142,
   "id": "dental-mapping",
   "metadata": {},
   "outputs": [
    {
     "name": "stdout",
     "output_type": "stream",
     "text": [
      "0 true 3 true 6 true 9 true 12 true 15 true 18 true 21 true 24 true 27 true "
     ]
    }
   ],
   "source": [
    "# Returns true if the variable x is evenly divisible by 3\n",
    "\n",
    "by_three = lambda n: n % 3 == 0\n",
    "for val in filter(by_three, range(30)):\n",
    "    print(val, end= ' true ')\n",
    "\n",
    "\n"
   ]
  },
  {
   "cell_type": "markdown",
   "id": "latest-circular",
   "metadata": {},
   "source": [
    "#### I was very fascinated with everything I learned in this chapter. The various ways of combining information from 2 seperate list. To looping a function. I have enjoyed learing python in this course. Writing the code really helps obsorb the information. "
   ]
  },
  {
   "cell_type": "code",
   "execution_count": null,
   "id": "israeli-lying",
   "metadata": {},
   "outputs": [],
   "source": []
  }
 ],
 "metadata": {
  "kernelspec": {
   "display_name": "Python 3",
   "language": "python",
   "name": "python3"
  },
  "language_info": {
   "codemirror_mode": {
    "name": "ipython",
    "version": 3
   },
   "file_extension": ".py",
   "mimetype": "text/x-python",
   "name": "python",
   "nbconvert_exporter": "python",
   "pygments_lexer": "ipython3",
   "version": "3.8.8"
  }
 },
 "nbformat": 4,
 "nbformat_minor": 5
}
