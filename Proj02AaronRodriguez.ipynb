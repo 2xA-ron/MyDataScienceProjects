{
 "cells": [
  {
   "cell_type": "markdown",
   "id": "official-accused",
   "metadata": {},
   "source": [
    "### Table of Contents"
   ]
  },
  {
   "cell_type": "markdown",
   "id": "foster-fight",
   "metadata": {},
   "source": [
    "* [Certification](#certification)\n",
    "* [Lists](#list)\n",
    "     * [Unordered lists](#unordered-list)\n",
    "     * [Ordered lists](#ordered-list)\n",
    "* [Tables](#tables)"
   ]
  },
  {
   "cell_type": "markdown",
   "id": "similar-gibraltar",
   "metadata": {},
   "source": [
    "### Certification <a class=\"anchor\" id=\"certification\"></a>"
   ]
  },
  {
   "cell_type": "markdown",
   "id": "affecting-indian",
   "metadata": {},
   "source": [
    "I certify that this project is my own work and is not the work of others. I agree not to share my solution with others. -Aaron Rodriguez"
   ]
  },
  {
   "cell_type": "markdown",
   "id": "manual-toyota",
   "metadata": {},
   "source": [
    "## Lists  <a class=\"anchor\" id=\"list\"></a>"
   ]
  },
  {
   "cell_type": "markdown",
   "id": "efficient-knitting",
   "metadata": {},
   "source": [
    "### Unordered lists  <a class=\"anchor\" id=\"unordered-list\"></a>"
   ]
  },
  {
   "cell_type": "markdown",
   "id": "sought-burke",
   "metadata": {},
   "source": [
    "* Lists\n",
    "    * Bear\n",
    "    * Elephant\n",
    "    * Horse\n",
    "* Small\n",
    "    * Dog\n",
    "    * Tiny\n",
    "         * Mosquito\n",
    "         * Ant\n",
    "    * Cat\n",
    "    * Goat"
   ]
  },
  {
   "cell_type": "markdown",
   "id": "competitive-matrix",
   "metadata": {},
   "source": [
    "### Ordered lists  <a class=\"anchor\" id=\"ordered-list\"></a>"
   ]
  },
  {
   "cell_type": "markdown",
   "id": "promotional-intention",
   "metadata": {},
   "source": [
    "1. Large \n",
    "        A.Bear\n",
    "        B.Elephant\n",
    "        C.Horse\n",
    "2. Small\n",
    "        A.Dog\n",
    "        B.Tiny\n",
    "            a.Mosquito\n",
    "            b.Ant\n",
    "        C.Cat\n",
    "        D.Goat"
   ]
  },
  {
   "cell_type": "markdown",
   "id": "excessive-faith",
   "metadata": {},
   "source": [
    "### Tabels  <a class=\"anchor\" id=\"tables\"></a>"
   ]
  },
  {
   "cell_type": "markdown",
   "id": "peripheral-laundry",
   "metadata": {},
   "source": [
    "Row | Column 1| Column 2 | Column 3\n",
    "--- | ------- | -------- | --------\n",
    "A   |A1       |A2        |A3     \n",
    "B   |B1       |B2        |B3\n",
    "C   |C1       |C2        |C3\n"
   ]
  },
  {
   "cell_type": "code",
   "execution_count": 10,
   "id": "dedicated-board",
   "metadata": {},
   "outputs": [],
   "source": [
    "##The End##"
   ]
  }
 ],
 "metadata": {
  "kernelspec": {
   "display_name": "Python 3",
   "language": "python",
   "name": "python3"
  },
  "language_info": {
   "codemirror_mode": {
    "name": "ipython",
    "version": 3
   },
   "file_extension": ".py",
   "mimetype": "text/x-python",
   "name": "python",
   "nbconvert_exporter": "python",
   "pygments_lexer": "ipython3",
   "version": "3.8.8"
  }
 },
 "nbformat": 4,
 "nbformat_minor": 5
}
