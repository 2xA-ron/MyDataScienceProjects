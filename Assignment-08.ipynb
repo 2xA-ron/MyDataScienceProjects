{
 "cells": [
  {
   "cell_type": "markdown",
   "id": "painted-caution",
   "metadata": {},
   "source": [
    "## This is Assigment 08 - Aaron Rodriguez"
   ]
  },
  {
   "cell_type": "markdown",
   "id": "revised-uzbekistan",
   "metadata": {},
   "source": [
    "## Requirement 1"
   ]
  },
  {
   "cell_type": "code",
   "execution_count": null,
   "id": "waiting-scratch",
   "metadata": {},
   "outputs": [],
   "source": [
    "# Access three sources for definitions of Data Science\n",
    "\n",
    "''' \n",
    "   Data science is a subset of AI, and it refers more to the overlapping areas of statistics, scientific methods, \n",
    "   and data analysis—all of which are used to extract meaning and insights from data.. (Source - ORACLE) https://www.oracle.com/data-science/what-is-data-science\n",
    "'''\n",
    "'''\n",
    "Data science is a \"concept to unify statistics, data analysis, informatics, and their related methods\" in order to \"understand and analyze actual phenomena\" with data.[3] \n",
    " It uses techniques and theories drawn from many fields within the context of mathematics, statistics, computer science, information science, and domain knowledge. \n",
    " (Source WIKIPEDIA) https://en.wikipedia.org/wiki/Data_science\n",
    "'''\n",
    "'''\n",
    "Data science encompasses preparing data for analysis and processing, performing advanced data analysis,\n",
    " and presenting the results to reveal patterns and enable stakeholders to draw informed conclusions.\\\n",
    " (Source - IBM) https://www.ibm.com/cloud/learn/data-science-introduction\n",
    "'''"
   ]
  },
  {
   "cell_type": "markdown",
   "id": "appreciated-seeking",
   "metadata": {},
   "source": [
    "## Requirement 2"
   ]
  },
  {
   "cell_type": "code",
   "execution_count": 9,
   "id": "african-panama",
   "metadata": {},
   "outputs": [
    {
     "name": "stdout",
     "output_type": "stream",
     "text": [
      "Help on built-in function len in module builtins:\n",
      "\n",
      "len(obj, /)\n",
      "    Return the number of items in a container.\n",
      "\n",
      "Help on built-in function globals in module builtins:\n",
      "\n",
      "globals()\n",
      "    Return the dictionary containing the current scope's global variables.\n",
      "    \n",
      "    NOTE: Updates to this dictionary *will* affect name lookups in the current\n",
      "    global scope and vice-versa.\n",
      "\n",
      "Help on built-in function print in module builtins:\n",
      "\n",
      "print(...)\n",
      "    print(value, ..., sep=' ', end='\\n', file=sys.stdout, flush=False)\n",
      "    \n",
      "    Prints the values to a stream, or to sys.stdout by default.\n",
      "    Optional keyword arguments:\n",
      "    file:  a file-like object (stream); defaults to the current sys.stdout.\n",
      "    sep:   string inserted between values, default a space.\n",
      "    end:   string appended after the last value, default a newline.\n",
      "    flush: whether to forcibly flush the stream.\n",
      "\n",
      "Help on built-in function dir in module builtins:\n",
      "\n",
      "dir(...)\n",
      "    dir([object]) -> list of strings\n",
      "    \n",
      "    If called without an argument, return the names in the current scope.\n",
      "    Else, return an alphabetized list of names comprising (some of) the attributes\n",
      "    of the given object, and of attributes reachable from it.\n",
      "    If the object supplies a method named __dir__, it will be used; otherwise\n",
      "    the default dir() logic is used and returns:\n",
      "      for a module object: the module's attributes.\n",
      "      for a class object:  its attributes, and recursively the attributes\n",
      "        of its bases.\n",
      "      for any other object: its attributes, its class's attributes, and\n",
      "        recursively the attributes of its class's base classes.\n",
      "\n"
     ]
    }
   ],
   "source": [
    "#  Demonstrate accessing the help system for five different topics.\n",
    "help(len)\n",
    "help(globals)\n",
    "help('print')\n",
    "help(dir)"
   ]
  },
  {
   "cell_type": "markdown",
   "id": "powered-happening",
   "metadata": {},
   "source": [
    "## Requirement 3"
   ]
  },
  {
   "cell_type": "code",
   "execution_count": 28,
   "id": "fresh-degree",
   "metadata": {},
   "outputs": [
    {
     "data": {
      "text/plain": [
       "512"
      ]
     },
     "execution_count": 28,
     "metadata": {},
     "output_type": "execute_result"
    }
   ],
   "source": [
    "# Write a function\n",
    "def cube(number):\n",
    "    ''' this step we are raising an arguement to the third power'''\n",
    "    \n",
    "    exmpl = 3\n",
    "    value = number**exmpl\n",
    "    ''' number to the power of (exmpl) which is 3.'''\n",
    "    return value\n",
    "''' The number we chose to raise to the third. '''\n",
    "cube(8)"
   ]
  },
  {
   "cell_type": "markdown",
   "id": "infinite-exposure",
   "metadata": {},
   "source": [
    "## Requirement 4"
   ]
  },
  {
   "cell_type": "code",
   "execution_count": 9,
   "id": "adjusted-perth",
   "metadata": {},
   "outputs": [
    {
     "name": "stdout",
     "output_type": "stream",
     "text": [
      " this step we are raising an arguement to the third power\n"
     ]
    },
    {
     "data": {
      "text/plain": [
       "\u001b[1;31mSignature:\u001b[0m \u001b[0mcube\u001b[0m\u001b[1;33m(\u001b[0m\u001b[0mnumber\u001b[0m\u001b[1;33m)\u001b[0m\u001b[1;33m\u001b[0m\u001b[1;33m\u001b[0m\u001b[0m\n",
       "\u001b[1;31mSource:\u001b[0m   \n",
       "\u001b[1;32mdef\u001b[0m \u001b[0mcube\u001b[0m\u001b[1;33m(\u001b[0m\u001b[0mnumber\u001b[0m\u001b[1;33m)\u001b[0m\u001b[1;33m:\u001b[0m\u001b[1;33m\n",
       "\u001b[0m    \u001b[1;34m''' this step we are raising an arguement to the third power'''\u001b[0m\u001b[1;33m\n",
       "\u001b[0m    \u001b[1;33m\n",
       "\u001b[0m    \u001b[0mexmpl\u001b[0m \u001b[1;33m=\u001b[0m \u001b[1;36m3\u001b[0m\u001b[1;33m\n",
       "\u001b[0m    \u001b[0mvalue\u001b[0m \u001b[1;33m=\u001b[0m \u001b[0mnumber\u001b[0m\u001b[1;33m**\u001b[0m\u001b[0mexmpl\u001b[0m\u001b[1;33m\n",
       "\u001b[0m    \u001b[1;34m''' number to the power of (exmpl) which is 3.'''\u001b[0m\u001b[1;33m\n",
       "\u001b[0m    \u001b[1;32mreturn\u001b[0m \u001b[0mvalue\u001b[0m\u001b[1;33m\u001b[0m\u001b[1;33m\u001b[0m\u001b[0m\n",
       "\u001b[1;31mFile:\u001b[0m      c:\\users\\rogue leader\\downloads\\wpy64-3880\\notebooks\\<ipython-input-2-a63f0f0c2763>\n",
       "\u001b[1;31mType:\u001b[0m      function\n"
      ]
     },
     "metadata": {},
     "output_type": "display_data"
    }
   ],
   "source": [
    "# Display the docstring and source code of cube()\n",
    "\n",
    "print(cube.__doc__)\n",
    "cube??"
   ]
  },
  {
   "cell_type": "markdown",
   "id": "analyzed-resolution",
   "metadata": {},
   "source": [
    "## Requirement5"
   ]
  },
  {
   "cell_type": "code",
   "execution_count": 35,
   "id": "accredited-grain",
   "metadata": {},
   "outputs": [
    {
     "name": "stdout",
     "output_type": "stream",
     "text": [
      "[8, 10, 21, 5, 99]\n"
     ]
    }
   ],
   "source": [
    "# Define a list L. Include L. in a code\n",
    "\n",
    "L = [8, 10, 21, 5]\n",
    "L.append(99)\n",
    "print(L)"
   ]
  },
  {
   "cell_type": "markdown",
   "id": "applied-intermediate",
   "metadata": {},
   "source": [
    "## Requirement 6"
   ]
  },
  {
   "cell_type": "code",
   "execution_count": 28,
   "id": "maritime-permit",
   "metadata": {},
   "outputs": [
    {
     "data": {
      "text/plain": [
       "ImportError"
      ]
     },
     "execution_count": 28,
     "metadata": {},
     "output_type": "execute_result"
    }
   ],
   "source": [
    "ImportError"
   ]
  },
  {
   "cell_type": "markdown",
   "id": "failing-pursuit",
   "metadata": {},
   "source": [
    "## Requirement 7"
   ]
  },
  {
   "cell_type": "code",
   "execution_count": 2,
   "id": "armed-lender",
   "metadata": {},
   "outputs": [],
   "source": [
    "# Demonstrate the use of wildcard matching.\n",
    "\n",
    "import re #import regular expression"
   ]
  },
  {
   "cell_type": "code",
   "execution_count": 20,
   "id": "cutting-signature",
   "metadata": {},
   "outputs": [
    {
     "data": {
      "text/plain": [
       "[' bat', ' sat', ' cat', ' mat']"
      ]
     },
     "execution_count": 20,
     "metadata": {},
     "output_type": "execute_result"
    }
   ],
   "source": [
    "\n",
    "# Findall\n",
    "re.findall(r\" .at\",\"At the bat sat a large cat that ate a mat\" )\n"
   ]
  },
  {
   "cell_type": "markdown",
   "id": "nutritional-honduras",
   "metadata": {},
   "source": [
    "## Requirement 8"
   ]
  },
  {
   "cell_type": "code",
   "execution_count": 37,
   "id": "helpful-observation",
   "metadata": {},
   "outputs": [
    {
     "name": "stdout",
     "output_type": "stream",
     "text": [
      "512\n",
      "512\n",
      "512\n",
      "512\n",
      "512\n"
     ]
    }
   ],
   "source": [
    "# Create a file myscript.py and call the function multiple times \n",
    "\n",
    "%run myscript.py"
   ]
  },
  {
   "cell_type": "markdown",
   "id": "norman-better",
   "metadata": {},
   "source": [
    "## Requirement 9"
   ]
  },
  {
   "cell_type": "code",
   "execution_count": 44,
   "id": "super-abuse",
   "metadata": {},
   "outputs": [
    {
     "name": "stdout",
     "output_type": "stream",
     "text": [
      "happy\n",
      "Wall time: 992 µs\n",
      "sad\n",
      "Wall time: 0 ns\n",
      "angry\n",
      "Wall time: 0 ns\n",
      "hopeful\n",
      "Wall time: 0 ns\n",
      "hopefuly\n",
      "Wall time: 0 ns\n"
     ]
    }
   ],
   "source": [
    "# Use the magic command to time and operation\n",
    "\n",
    "emotions =['happy', 'sad', 'angry', 'hopeful', 'hopefuly']\n",
    "for i in emotions:\n",
    "    %time print(i)\n",
    "\n"
   ]
  },
  {
   "cell_type": "markdown",
   "id": "tough-broadcasting",
   "metadata": {},
   "source": [
    "#"
   ]
  },
  {
   "cell_type": "markdown",
   "id": "answering-exhibition",
   "metadata": {},
   "source": [
    "## Requirement 10"
   ]
  },
  {
   "cell_type": "code",
   "execution_count": 49,
   "id": "governmental-routine",
   "metadata": {},
   "outputs": [
    {
     "data": {
      "text/plain": [
       "0.4931505902785393"
      ]
     },
     "execution_count": 49,
     "metadata": {},
     "output_type": "execute_result"
    }
   ],
   "source": [
    "# Demonstrate silently displaying output\n",
    "\n",
    "#Without surpressing \n",
    "math.sin(2) + math.cos(2)"
   ]
  },
  {
   "cell_type": "code",
   "execution_count": 50,
   "id": "banned-commission",
   "metadata": {},
   "outputs": [],
   "source": [
    "# With Surpressing semicolon is added at the end of statement\n",
    "math.sin(2) + math.cos(2);"
   ]
  },
  {
   "cell_type": "markdown",
   "id": "patient-contact",
   "metadata": {},
   "source": [
    "## Requirement 11"
   ]
  },
  {
   "cell_type": "code",
   "execution_count": 1,
   "id": "moral-collectible",
   "metadata": {},
   "outputs": [
    {
     "name": "stdout",
     "output_type": "stream",
     "text": [
      "C:\\Users\\Rogue Leader\\Downloads\\WPy64-3880\\notebooks\n"
     ]
    }
   ],
   "source": [
    "# Demonstrate five different command console shell commands\\\n",
    "!cd"
   ]
  },
  {
   "cell_type": "code",
   "execution_count": 3,
   "id": "backed-string",
   "metadata": {},
   "outputs": [
    {
     "name": "stdout",
     "output_type": "stream",
     "text": [
      "desktop-o7jvvhr\\rogue leader\n"
     ]
    }
   ],
   "source": [
    "!whoami"
   ]
  },
  {
   "cell_type": "code",
   "execution_count": 13,
   "id": "continent-crash",
   "metadata": {},
   "outputs": [
    {
     "data": {
      "text/plain": [
       "'C:\\\\Users\\\\Rogue Leader\\\\Downloads\\\\WPy64-3880\\\\notebooks'"
      ]
     },
     "execution_count": 13,
     "metadata": {},
     "output_type": "execute_result"
    }
   ],
   "source": [
    "pwd!"
   ]
  },
  {
   "cell_type": "code",
   "execution_count": 28,
   "id": "underlying-consortium",
   "metadata": {},
   "outputs": [
    {
     "name": "stdout",
     "output_type": "stream",
     "text": [
      " Volume in drive C has no label.\n",
      " Volume Serial Number is 2EDE-388F\n",
      "\n",
      " Directory of C:\\Users\\Rogue Leader\\Downloads\\WPy64-3880\\notebooks\n",
      "\n",
      "06/29/2021  07:50 PM    <DIR>          .\n",
      "06/29/2021  07:50 PM    <DIR>          ..\n",
      "06/29/2021  01:00 PM    <DIR>          .ipynb_checkpoints\n",
      "06/29/2021  07:35 PM    <DIR>          .virtual_documents\n",
      "06/27/2021  09:45 PM            15,883 Assigment-07.ipynb\n",
      "06/21/2021  07:06 PM             8,252 assignment-05.ipynb\n",
      "06/27/2021  01:48 PM            22,842 assignment-06.ipynb\n",
      "06/29/2021  07:50 PM            11,084 Assignment-08.ipynb\n",
      "06/03/2021  09:11 PM             1,934 Divisor function.ipynb\n",
      "06/18/2021  02:35 PM    <DIR>          docs\n",
      "06/03/2021  08:20 PM                72 Untitled.ipynb\n",
      "06/03/2021  08:50 PM             3,257 Untitled1.ipynb\n",
      "06/18/2021  02:05 PM               584 Untitled2.ipynb\n",
      "06/27/2021  01:50 PM                72 Untitled3.ipynb\n",
      "06/29/2021  12:59 PM               583 Untitled4.ipynb\n",
      "              10 File(s)         64,563 bytes\n",
      "               5 Dir(s)  140,804,669,440 bytes free\n"
     ]
    }
   ],
   "source": [
    "!dir"
   ]
  },
  {
   "cell_type": "code",
   "execution_count": 14,
   "id": "naughty-sunglasses",
   "metadata": {},
   "outputs": [
    {
     "name": "stdout",
     "output_type": "stream",
     "text": [
      " Volume in drive C has no label.\n",
      " Volume Serial Number is 2EDE-388F\n",
      "\n",
      " Directory of C:\\Users\\Rogue Leader\\Downloads\\WPy64-3880\\notebooks\n",
      "\n"
     ]
    },
    {
     "name": "stderr",
     "output_type": "stream",
     "text": [
      "File Not Found\n"
     ]
    }
   ],
   "source": [
    "ls -l!"
   ]
  },
  {
   "cell_type": "markdown",
   "id": "cathedral-habitat",
   "metadata": {},
   "source": [
    "## Requirement 12"
   ]
  },
  {
   "cell_type": "code",
   "execution_count": 49,
   "id": "handled-halifax",
   "metadata": {
    "tags": []
   },
   "outputs": [
    {
     "name": "stdout",
     "output_type": "stream",
     "text": [
      "\n",
      "Automagic is OFF, % prefix IS needed for line magics.\n"
     ]
    }
   ],
   "source": [
    "#  With automagic set to off, demonstrate five different shell-related magic commands.\n",
    "%automagic 0"
   ]
  },
  {
   "cell_type": "code",
   "execution_count": 48,
   "id": "brutal-tattoo",
   "metadata": {},
   "outputs": [
    {
     "name": "stdout",
     "output_type": "stream",
     "text": [
      " Volume in drive C has no label.\n",
      " Volume Serial Number is 2EDE-388F\n",
      "\n",
      " Directory of C:\\Users\\Rogue Leader\n",
      "\n",
      "06/03/2021  05:47 PM    <DIR>          .\n",
      "06/03/2021  05:47 PM    <DIR>          ..\n",
      "06/02/2021  05:03 PM    <DIR>          .config\n",
      "06/25/2021  02:01 PM    <DIR>          .ipython\n",
      "06/21/2021  06:35 PM    <DIR>          .jupyter\n",
      "06/02/2021  05:10 PM    <DIR>          .matplotlib\n",
      "12/20/2020  11:22 AM    <DIR>          .vscode\n",
      "04/06/2021  12:29 AM    <DIR>          3D Objects\n",
      "04/06/2021  12:29 AM    <DIR>          Contacts\n",
      "06/22/2021  04:55 PM    <DIR>          Desktop\n",
      "06/29/2021  07:53 PM    <DIR>          Documents\n",
      "06/30/2021  10:23 AM    <DIR>          Downloads\n",
      "04/06/2021  12:29 AM    <DIR>          Favorites\n",
      "04/06/2021  12:29 AM    <DIR>          Links\n",
      "04/06/2021  12:29 AM    <DIR>          Music\n",
      "06/24/2021  10:18 AM    <DIR>          OneDrive\n",
      "01/26/2021  12:09 PM    <DIR>          Oracle\n",
      "06/29/2021  08:24 PM    <DIR>          Pictures\n",
      "06/29/2021  06:24 PM    <DIR>          PycharmProjects\n",
      "04/06/2021  12:29 AM    <DIR>          Saved Games\n",
      "06/02/2021  06:04 PM    <DIR>          seaborn-data\n",
      "04/06/2021  12:29 AM    <DIR>          Searches\n",
      "04/06/2021  12:29 AM    <DIR>          Videos\n",
      "               0 File(s)              0 bytes\n",
      "              23 Dir(s)  138,724,876,288 bytes free\n"
     ]
    }
   ],
   "source": [
    "%ls"
   ]
  },
  {
   "cell_type": "code",
   "execution_count": 50,
   "id": "about-hypothetical",
   "metadata": {},
   "outputs": [
    {
     "name": "stdout",
     "output_type": "stream",
     "text": [
      "C:\\Users\\Rogue Leader\n"
     ]
    }
   ],
   "source": [
    "%cd"
   ]
  },
  {
   "cell_type": "code",
   "execution_count": 43,
   "id": "impaired-synthesis",
   "metadata": {},
   "outputs": [
    {
     "name": "stdout",
     "output_type": "stream",
     "text": [
      "C:\\Users\n"
     ]
    }
   ],
   "source": [
    "%cd .."
   ]
  },
  {
   "cell_type": "code",
   "execution_count": 44,
   "id": "lonely-auckland",
   "metadata": {},
   "outputs": [
    {
     "data": {
      "text/plain": [
       "'C:\\\\Users'"
      ]
     },
     "execution_count": 44,
     "metadata": {},
     "output_type": "execute_result"
    }
   ],
   "source": [
    "%pwd"
   ]
  },
  {
   "cell_type": "code",
   "execution_count": 51,
   "id": "stable-adult",
   "metadata": {},
   "outputs": [
    {
     "name": "stdout",
     "output_type": "stream",
     "text": [
      "\"print thy shell\"\n"
     ]
    }
   ],
   "source": [
    "%echo \"print thy shell\""
   ]
  },
  {
   "cell_type": "markdown",
   "id": "heard-convert",
   "metadata": {},
   "source": [
    "## Requirement 14"
   ]
  },
  {
   "cell_type": "code",
   "execution_count": 53,
   "id": "gross-render",
   "metadata": {},
   "outputs": [
    {
     "name": "stdout",
     "output_type": "stream",
     "text": [
      "\n",
      "Automagic is ON, % prefix IS NOT needed for line magics.\n"
     ]
    }
   ],
   "source": [
    "%automagic 1\n",
    "# With automagic set to on"
   ]
  },
  {
   "cell_type": "code",
   "execution_count": 54,
   "id": "comparative-button",
   "metadata": {},
   "outputs": [],
   "source": [
    "mkdir tmp"
   ]
  },
  {
   "cell_type": "code",
   "execution_count": 55,
   "id": "vocal-culture",
   "metadata": {},
   "outputs": [
    {
     "name": "stdout",
     "output_type": "stream",
     "text": [
      " Volume in drive C has no label.\n",
      " Volume Serial Number is 2EDE-388F\n",
      "\n",
      " Directory of C:\\Users\\Rogue Leader\n",
      "\n",
      "06/30/2021  03:35 PM    <DIR>          .\n",
      "06/30/2021  03:35 PM    <DIR>          ..\n",
      "06/02/2021  05:03 PM    <DIR>          .config\n",
      "06/25/2021  02:01 PM    <DIR>          .ipython\n",
      "06/21/2021  06:35 PM    <DIR>          .jupyter\n",
      "06/02/2021  05:10 PM    <DIR>          .matplotlib\n",
      "12/20/2020  11:22 AM    <DIR>          .vscode\n",
      "04/06/2021  12:29 AM    <DIR>          3D Objects\n",
      "04/06/2021  12:29 AM    <DIR>          Contacts\n",
      "06/22/2021  04:55 PM    <DIR>          Desktop\n",
      "06/29/2021  07:53 PM    <DIR>          Documents\n",
      "06/30/2021  10:23 AM    <DIR>          Downloads\n",
      "04/06/2021  12:29 AM    <DIR>          Favorites\n",
      "04/06/2021  12:29 AM    <DIR>          Links\n",
      "04/06/2021  12:29 AM    <DIR>          Music\n",
      "06/24/2021  10:18 AM    <DIR>          OneDrive\n",
      "01/26/2021  12:09 PM    <DIR>          Oracle\n",
      "06/29/2021  08:24 PM    <DIR>          Pictures\n",
      "06/29/2021  06:24 PM    <DIR>          PycharmProjects\n",
      "04/06/2021  12:29 AM    <DIR>          Saved Games\n",
      "06/02/2021  06:04 PM    <DIR>          seaborn-data\n",
      "04/06/2021  12:29 AM    <DIR>          Searches\n",
      "06/30/2021  03:35 PM    <DIR>          tmp\n",
      "04/06/2021  12:29 AM    <DIR>          Videos\n",
      "               0 File(s)              0 bytes\n",
      "              24 Dir(s)  138,711,531,520 bytes free\n"
     ]
    }
   ],
   "source": [
    "ls"
   ]
  },
  {
   "cell_type": "code",
   "execution_count": 57,
   "id": "biblical-emission",
   "metadata": {},
   "outputs": [
    {
     "name": "stdout",
     "output_type": "stream",
     "text": [
      " Volume in drive C has no label.\n",
      " Volume Serial Number is 2EDE-388F\n",
      "\n",
      " Directory of C:\\Users\\Rogue Leader\n",
      "\n"
     ]
    },
    {
     "name": "stderr",
     "output_type": "stream",
     "text": [
      "File Not Found\n"
     ]
    }
   ],
   "source": [
    "ls -la"
   ]
  },
  {
   "cell_type": "code",
   "execution_count": 68,
   "id": "corrected-cleaning",
   "metadata": {},
   "outputs": [
    {
     "name": "stdout",
     "output_type": "stream",
     "text": [
      "N\t cube\t os\t prompt\t promt\t re\t \n"
     ]
    }
   ],
   "source": [
    "who"
   ]
  },
  {
   "cell_type": "code",
   "execution_count": 1,
   "id": "celtic-joint",
   "metadata": {},
   "outputs": [
    {
     "name": "stdout",
     "output_type": "stream",
     "text": [
      "Total number of aliases: 8\n"
     ]
    },
    {
     "data": {
      "text/plain": [
       "[('copy', 'copy'),\n",
       " ('ddir', 'dir /ad /on'),\n",
       " ('echo', 'echo'),\n",
       " ('ldir', 'dir /ad /on'),\n",
       " ('ls', 'dir /on'),\n",
       " ('mkdir', 'mkdir'),\n",
       " ('ren', 'ren'),\n",
       " ('rmdir', 'rmdir')]"
      ]
     },
     "execution_count": 1,
     "metadata": {},
     "output_type": "execute_result"
    }
   ],
   "source": [
    "alias"
   ]
  },
  {
   "cell_type": "markdown",
   "id": "baking-thriller",
   "metadata": {},
   "source": [
    "## Requirement 15"
   ]
  },
  {
   "cell_type": "code",
   "execution_count": 24,
   "id": "resident-employment",
   "metadata": {},
   "outputs": [],
   "source": [
    "# Demonstrate the use %xmode magic function.\n",
    "def exm1(a , b):\n",
    "    return(a * b)\n",
    "exm1(-2,7)\n",
    "\n",
    "\n",
    "def exm2(r):\n",
    "    a = x\n",
    "    b = a *9\n",
    "    return(a,b)"
   ]
  },
  {
   "cell_type": "code",
   "execution_count": 25,
   "id": "elect-terminology",
   "metadata": {},
   "outputs": [
    {
     "name": "stdout",
     "output_type": "stream",
     "text": [
      "Exception reporting mode: Plain\n"
     ]
    }
   ],
   "source": [
    "%xmode plain"
   ]
  },
  {
   "cell_type": "code",
   "execution_count": 26,
   "id": "variable-south",
   "metadata": {},
   "outputs": [
    {
     "ename": "NameError",
     "evalue": "name 'x' is not defined",
     "output_type": "error",
     "traceback": [
      "Traceback \u001b[1;36m(most recent call last)\u001b[0m:\n",
      "  File \u001b[0;32m\"<ipython-input-26-eee1cc7c801a>\"\u001b[0m, line \u001b[0;32m1\u001b[0m, in \u001b[0;35m<module>\u001b[0m\n    exm2(2)\n",
      "\u001b[1;36m  File \u001b[1;32m\"<ipython-input-24-0154194df15d>\"\u001b[1;36m, line \u001b[1;32m8\u001b[1;36m, in \u001b[1;35mexm2\u001b[1;36m\u001b[0m\n\u001b[1;33m    a = x\u001b[0m\n",
      "\u001b[1;31mNameError\u001b[0m\u001b[1;31m:\u001b[0m name 'x' is not defined\n"
     ]
    }
   ],
   "source": [
    "exm2(2)"
   ]
  },
  {
   "cell_type": "markdown",
   "id": "unexpected-yukon",
   "metadata": {},
   "source": [
    "## Requirement 16"
   ]
  },
  {
   "cell_type": "code",
   "execution_count": 11,
   "id": "american-survivor",
   "metadata": {},
   "outputs": [],
   "source": [
    "#Demonstrate throwing three of these exception types \n",
    "*Error?"
   ]
  },
  {
   "cell_type": "code",
   "execution_count": 12,
   "id": "statistical-drink",
   "metadata": {},
   "outputs": [
    {
     "ename": "AssertionError",
     "evalue": "This code runs on Linux only.",
     "output_type": "error",
     "traceback": [
      "\u001b[1;31m---------------------------------------------------------------------------\u001b[0m",
      "\u001b[1;31mAssertionError\u001b[0m                            Traceback (most recent call last)",
      "\u001b[1;32m<ipython-input-12-e31e8d82fd13>\u001b[0m in \u001b[0;36m<module>\u001b[1;34m\u001b[0m\n\u001b[0;32m      1\u001b[0m \u001b[1;32mimport\u001b[0m \u001b[0msys\u001b[0m\u001b[1;33m\u001b[0m\u001b[1;33m\u001b[0m\u001b[0m\n\u001b[1;32m----> 2\u001b[1;33m \u001b[1;32massert\u001b[0m \u001b[1;33m(\u001b[0m\u001b[1;34m'linux'\u001b[0m \u001b[1;32min\u001b[0m \u001b[0msys\u001b[0m\u001b[1;33m.\u001b[0m\u001b[0mplatform\u001b[0m\u001b[1;33m)\u001b[0m\u001b[1;33m,\u001b[0m \u001b[1;34m\"This code runs on Linux only.\"\u001b[0m\u001b[1;33m\u001b[0m\u001b[1;33m\u001b[0m\u001b[0m\n\u001b[0m",
      "\u001b[1;31mAssertionError\u001b[0m: This code runs on Linux only."
     ]
    }
   ],
   "source": [
    "import sys\n",
    "assert ('linux' in sys.platform), \"This code runs on Linux only.\""
   ]
  },
  {
   "cell_type": "code",
   "execution_count": 13,
   "id": "indoor-rolling",
   "metadata": {},
   "outputs": [
    {
     "ename": "SyntaxError",
     "evalue": "invalid syntax (<ipython-input-13-e12daea48f5a>, line 1)",
     "output_type": "error",
     "traceback": [
      "\u001b[1;36m  File \u001b[1;32m\"<ipython-input-13-e12daea48f5a>\"\u001b[1;36m, line \u001b[1;32m1\u001b[0m\n\u001b[1;33m    type run\u001b[0m\n\u001b[1;37m         ^\u001b[0m\n\u001b[1;31mSyntaxError\u001b[0m\u001b[1;31m:\u001b[0m invalid syntax\n"
     ]
    }
   ],
   "source": [
    "type run"
   ]
  },
  {
   "cell_type": "code",
   "execution_count": 14,
   "id": "innovative-break",
   "metadata": {},
   "outputs": [
    {
     "ename": "TypeError",
     "evalue": "fund() takes 0 positional arguments but 1 was given",
     "output_type": "error",
     "traceback": [
      "\u001b[1;31m---------------------------------------------------------------------------\u001b[0m",
      "\u001b[1;31mTypeError\u001b[0m                                 Traceback (most recent call last)",
      "\u001b[1;32m<ipython-input-14-f1aa6e921c23>\u001b[0m in \u001b[0;36m<module>\u001b[1;34m\u001b[0m\n\u001b[0;32m      1\u001b[0m \u001b[1;32mdef\u001b[0m \u001b[0mfund\u001b[0m\u001b[1;33m(\u001b[0m\u001b[1;33m)\u001b[0m\u001b[1;33m:\u001b[0m\u001b[1;33m\u001b[0m\u001b[1;33m\u001b[0m\u001b[0m\n\u001b[0;32m      2\u001b[0m     \u001b[1;32mreturn\u001b[0m\u001b[1;33m(\u001b[0m\u001b[1;33m)\u001b[0m\u001b[1;33m\u001b[0m\u001b[1;33m\u001b[0m\u001b[0m\n\u001b[1;32m----> 3\u001b[1;33m \u001b[0mfund\u001b[0m\u001b[1;33m(\u001b[0m\u001b[1;36m1\u001b[0m\u001b[1;33m)\u001b[0m\u001b[1;33m\u001b[0m\u001b[1;33m\u001b[0m\u001b[0m\n\u001b[0m",
      "\u001b[1;31mTypeError\u001b[0m: fund() takes 0 positional arguments but 1 was given"
     ]
    }
   ],
   "source": [
    "def fund():\n",
    "    return()\n",
    "fund(1)"
   ]
  },
  {
   "cell_type": "markdown",
   "id": "nominated-drill",
   "metadata": {},
   "source": [
    "## Requirement 17"
   ]
  },
  {
   "cell_type": "code",
   "execution_count": 1,
   "id": "sharing-harrison",
   "metadata": {},
   "outputs": [
    {
     "ename": "TypeError",
     "evalue": "fund() takes 0 positional arguments but 1 was given",
     "output_type": "error",
     "traceback": [
      "\u001b[1;31m---------------------------------------------------------------------------\u001b[0m",
      "\u001b[1;31mTypeError\u001b[0m                                 Traceback (most recent call last)",
      "\u001b[1;32m<ipython-input-1-f1aa6e921c23>\u001b[0m in \u001b[0;36m<module>\u001b[1;34m\u001b[0m\n\u001b[0;32m      1\u001b[0m \u001b[1;32mdef\u001b[0m \u001b[0mfund\u001b[0m\u001b[1;33m(\u001b[0m\u001b[1;33m)\u001b[0m\u001b[1;33m:\u001b[0m\u001b[1;33m\u001b[0m\u001b[1;33m\u001b[0m\u001b[0m\n\u001b[0;32m      2\u001b[0m     \u001b[1;32mreturn\u001b[0m\u001b[1;33m(\u001b[0m\u001b[1;33m)\u001b[0m\u001b[1;33m\u001b[0m\u001b[1;33m\u001b[0m\u001b[0m\n\u001b[1;32m----> 3\u001b[1;33m \u001b[0mfund\u001b[0m\u001b[1;33m(\u001b[0m\u001b[1;36m1\u001b[0m\u001b[1;33m)\u001b[0m\u001b[1;33m\u001b[0m\u001b[1;33m\u001b[0m\u001b[0m\n\u001b[0m",
      "\u001b[1;31mTypeError\u001b[0m: fund() takes 0 positional arguments but 1 was given"
     ]
    }
   ],
   "source": [
    "# Demonstrate the use of the debugger with the exceptions thrown\n",
    "\n",
    "def fund():\n",
    "    return()\n",
    "fund(1)"
   ]
  },
  {
   "cell_type": "code",
   "execution_count": null,
   "id": "revolutionary-nursing",
   "metadata": {},
   "outputs": [
    {
     "name": "stdout",
     "output_type": "stream",
     "text": [
      "> \u001b[1;32m<ipython-input-1-f1aa6e921c23>\u001b[0m(3)\u001b[0;36m<module>\u001b[1;34m()\u001b[0m\n",
      "\u001b[1;32m      1 \u001b[1;33m\u001b[1;32mdef\u001b[0m \u001b[0mfund\u001b[0m\u001b[1;33m(\u001b[0m\u001b[1;33m)\u001b[0m\u001b[1;33m:\u001b[0m\u001b[1;33m\u001b[0m\u001b[1;33m\u001b[0m\u001b[0m\n",
      "\u001b[0m\u001b[1;32m      2 \u001b[1;33m    \u001b[1;32mreturn\u001b[0m\u001b[1;33m(\u001b[0m\u001b[1;33m)\u001b[0m\u001b[1;33m\u001b[0m\u001b[1;33m\u001b[0m\u001b[0m\n",
      "\u001b[0m\u001b[1;32m----> 3 \u001b[1;33m\u001b[0mfund\u001b[0m\u001b[1;33m(\u001b[0m\u001b[1;36m1\u001b[0m\u001b[1;33m)\u001b[0m\u001b[1;33m\u001b[0m\u001b[1;33m\u001b[0m\u001b[0m\n",
      "\u001b[0m\n"
     ]
    }
   ],
   "source": [
    "%debug"
   ]
  },
  {
   "cell_type": "code",
   "execution_count": 1,
   "id": "brown-instruction",
   "metadata": {},
   "outputs": [
    {
     "ename": "SyntaxError",
     "evalue": "invalid syntax (<ipython-input-1-e12daea48f5a>, line 1)",
     "output_type": "error",
     "traceback": [
      "\u001b[1;36m  File \u001b[1;32m\"<ipython-input-1-e12daea48f5a>\"\u001b[1;36m, line \u001b[1;32m1\u001b[0m\n\u001b[1;33m    type run\u001b[0m\n\u001b[1;37m         ^\u001b[0m\n\u001b[1;31mSyntaxError\u001b[0m\u001b[1;31m:\u001b[0m invalid syntax\n"
     ]
    }
   ],
   "source": [
    "type run"
   ]
  },
  {
   "cell_type": "code",
   "execution_count": null,
   "id": "whole-duncan",
   "metadata": {},
   "outputs": [
    {
     "name": "stdout",
     "output_type": "stream",
     "text": [
      "> \u001b[1;32mc:\\users\\rogue leader\\downloads\\wpy64-3880\\python-3.8.8.amd64\\lib\\site-packages\\ipython\\core\\compilerop.py\u001b[0m(101)\u001b[0;36mast_parse\u001b[1;34m()\u001b[0m\n",
      "\u001b[1;32m     99 \u001b[1;33m        \u001b[0mArguments\u001b[0m \u001b[0mare\u001b[0m \u001b[0mexactly\u001b[0m \u001b[0mthe\u001b[0m \u001b[0msame\u001b[0m \u001b[1;32mas\u001b[0m \u001b[0mast\u001b[0m\u001b[1;33m.\u001b[0m\u001b[0mparse\u001b[0m \u001b[1;33m(\u001b[0m\u001b[1;32min\u001b[0m \u001b[0mthe\u001b[0m \u001b[0mstandard\u001b[0m \u001b[0mlibrary\u001b[0m\u001b[1;33m)\u001b[0m\u001b[1;33m,\u001b[0m\u001b[1;33m\u001b[0m\u001b[1;33m\u001b[0m\u001b[0m\n",
      "\u001b[0m\u001b[1;32m    100 \u001b[1;33m        and are passed to the built-in compile function.\"\"\"\n",
      "\u001b[0m\u001b[1;32m--> 101 \u001b[1;33m        \u001b[1;32mreturn\u001b[0m \u001b[0mcompile\u001b[0m\u001b[1;33m(\u001b[0m\u001b[0msource\u001b[0m\u001b[1;33m,\u001b[0m \u001b[0mfilename\u001b[0m\u001b[1;33m,\u001b[0m \u001b[0msymbol\u001b[0m\u001b[1;33m,\u001b[0m \u001b[0mself\u001b[0m\u001b[1;33m.\u001b[0m\u001b[0mflags\u001b[0m \u001b[1;33m|\u001b[0m \u001b[0mPyCF_ONLY_AST\u001b[0m\u001b[1;33m,\u001b[0m \u001b[1;36m1\u001b[0m\u001b[1;33m)\u001b[0m\u001b[1;33m\u001b[0m\u001b[1;33m\u001b[0m\u001b[0m\n",
      "\u001b[0m\u001b[1;32m    102 \u001b[1;33m\u001b[1;33m\u001b[0m\u001b[0m\n",
      "\u001b[0m\u001b[1;32m    103 \u001b[1;33m    \u001b[1;32mdef\u001b[0m \u001b[0mreset_compiler_flags\u001b[0m\u001b[1;33m(\u001b[0m\u001b[0mself\u001b[0m\u001b[1;33m)\u001b[0m\u001b[1;33m:\u001b[0m\u001b[1;33m\u001b[0m\u001b[1;33m\u001b[0m\u001b[0m\n",
      "\u001b[0m\n"
     ]
    }
   ],
   "source": [
    "%debug"
   ]
  },
  {
   "cell_type": "code",
   "execution_count": 1,
   "id": "extra-digit",
   "metadata": {},
   "outputs": [
    {
     "ename": "AssertionError",
     "evalue": "This code runs on Linux only.",
     "output_type": "error",
     "traceback": [
      "\u001b[1;31m---------------------------------------------------------------------------\u001b[0m",
      "\u001b[1;31mAssertionError\u001b[0m                            Traceback (most recent call last)",
      "\u001b[1;32m<ipython-input-1-e31e8d82fd13>\u001b[0m in \u001b[0;36m<module>\u001b[1;34m\u001b[0m\n\u001b[0;32m      1\u001b[0m \u001b[1;32mimport\u001b[0m \u001b[0msys\u001b[0m\u001b[1;33m\u001b[0m\u001b[1;33m\u001b[0m\u001b[0m\n\u001b[1;32m----> 2\u001b[1;33m \u001b[1;32massert\u001b[0m \u001b[1;33m(\u001b[0m\u001b[1;34m'linux'\u001b[0m \u001b[1;32min\u001b[0m \u001b[0msys\u001b[0m\u001b[1;33m.\u001b[0m\u001b[0mplatform\u001b[0m\u001b[1;33m)\u001b[0m\u001b[1;33m,\u001b[0m \u001b[1;34m\"This code runs on Linux only.\"\u001b[0m\u001b[1;33m\u001b[0m\u001b[1;33m\u001b[0m\u001b[0m\n\u001b[0m",
      "\u001b[1;31mAssertionError\u001b[0m: This code runs on Linux only."
     ]
    }
   ],
   "source": [
    "import sys\n",
    "assert ('linux' in sys.platform), \"This code runs on Linux only.\""
   ]
  },
  {
   "cell_type": "code",
   "execution_count": null,
   "id": "decent-jonathan",
   "metadata": {},
   "outputs": [
    {
     "name": "stdout",
     "output_type": "stream",
     "text": [
      "> \u001b[1;32m<ipython-input-1-e31e8d82fd13>\u001b[0m(2)\u001b[0;36m<module>\u001b[1;34m()\u001b[0m\n",
      "\u001b[1;32m      1 \u001b[1;33m\u001b[1;32mimport\u001b[0m \u001b[0msys\u001b[0m\u001b[1;33m\u001b[0m\u001b[1;33m\u001b[0m\u001b[0m\n",
      "\u001b[0m\u001b[1;32m----> 2 \u001b[1;33m\u001b[1;32massert\u001b[0m \u001b[1;33m(\u001b[0m\u001b[1;34m'linux'\u001b[0m \u001b[1;32min\u001b[0m \u001b[0msys\u001b[0m\u001b[1;33m.\u001b[0m\u001b[0mplatform\u001b[0m\u001b[1;33m)\u001b[0m\u001b[1;33m,\u001b[0m \u001b[1;34m\"This code runs on Linux only.\"\u001b[0m\u001b[1;33m\u001b[0m\u001b[1;33m\u001b[0m\u001b[0m\n",
      "\u001b[0m\n"
     ]
    }
   ],
   "source": [
    "%debug"
   ]
  },
  {
   "cell_type": "markdown",
   "id": "laden-columbia",
   "metadata": {},
   "source": [
    "## Requirement 18"
   ]
  },
  {
   "cell_type": "code",
   "execution_count": 5,
   "id": "unusual-elizabeth",
   "metadata": {},
   "outputs": [
    {
     "name": "stdout",
     "output_type": "stream",
     "text": [
      "\n",
      "Automagic is OFF, % prefix IS needed for line magics.\n"
     ]
    }
   ],
   "source": [
    "## Use at least 4 magic commands to time a function(s) that you have written\n",
    "\n",
    "%automagic 0"
   ]
  },
  {
   "cell_type": "code",
   "execution_count": 9,
   "id": "downtown-timothy",
   "metadata": {},
   "outputs": [
    {
     "name": "stdout",
     "output_type": "stream",
     "text": [
      "273 ns ± 12 ns per loop (mean ± std. dev. of 7 runs, 1000000 loops each)\n"
     ]
    }
   ],
   "source": [
    "%%timeit\n",
    "def cube(number):\n",
    "    ''' this step we are raising an arguement to the third power'''\n",
    "    \n",
    "    exmpl = 3\n",
    "    value = number**exmpl\n",
    "    ''' number to the power of (exmpl) which is 3.'''\n",
    "    return value\n",
    "''' The number we chose to raise to the third. '''\n",
    "cube(8)"
   ]
  },
  {
   "cell_type": "code",
   "execution_count": 10,
   "id": "saved-begin",
   "metadata": {},
   "outputs": [
    {
     "name": "stdout",
     "output_type": "stream",
     "text": [
      "Wall time: 0 ns\n"
     ]
    },
    {
     "data": {
      "text/plain": [
       "512"
      ]
     },
     "execution_count": 10,
     "metadata": {},
     "output_type": "execute_result"
    }
   ],
   "source": [
    "%%time \n",
    "def cube(number):\n",
    "    ''' this step we are raising an arguement to the third power'''\n",
    "    \n",
    "    exmpl = 3\n",
    "    value = number**exmpl\n",
    "    ''' number to the power of (exmpl) which is 3.'''\n",
    "    return value\n",
    "''' The number we chose to raise to the third. '''\n",
    "cube(8)"
   ]
  },
  {
   "cell_type": "code",
   "execution_count": 23,
   "id": "bearing-stretch",
   "metadata": {},
   "outputs": [
    {
     "name": "stdout",
     "output_type": "stream",
     "text": [
      " 403 ns ± 15.4 ns per loop (mean ± std. dev. of 7 runs, 1000000 loops each)\n"
     ]
    },
    {
     "data": {
      "text/plain": [
       "         3 function calls in 0.000 seconds\n",
       "\n",
       "   Ordered by: internal time\n",
       "\n",
       "   ncalls  tottime  percall  cumtime  percall filename:lineno(function)\n",
       "        1    0.000    0.000    0.000    0.000 {built-in method builtins.exec}\n",
       "        1    0.000    0.000    0.000    0.000 <string>:1(<module>)\n",
       "        1    0.000    0.000    0.000    0.000 {method 'disable' of '_lsprof.Profiler' objects}"
      ]
     },
     "metadata": {},
     "output_type": "display_data"
    }
   ],
   "source": [
    "%prun\n",
    "def factorial(R):\n",
    "    L = 1\n",
    "    for i in range(R):\n",
    "        L = L * (i+1)\n",
    "    return L\n",
    "\n",
    "\n",
    "%timeit factorial(5)"
   ]
  },
  {
   "cell_type": "code",
   "execution_count": 22,
   "id": "valued-occasion",
   "metadata": {},
   "outputs": [
    {
     "name": "stdout",
     "output_type": "stream",
     "text": [
      "Wall time: 0 ns\n"
     ]
    },
    {
     "data": {
      "text/plain": [
       "120"
      ]
     },
     "execution_count": 22,
     "metadata": {},
     "output_type": "execute_result"
    }
   ],
   "source": [
    "%timeit\n",
    "def factorial(R):\n",
    "    L = 1\n",
    "    for i in range(R):\n",
    "        L = L * (i+1)\n",
    "    return L\n",
    "\n",
    "\n",
    "%time factorial(5)"
   ]
  }
 ],
 "metadata": {
  "kernelspec": {
   "display_name": "Python 3",
   "language": "python",
   "name": "python3"
  },
  "language_info": {
   "codemirror_mode": {
    "name": "ipython",
    "version": 3
   },
   "file_extension": ".py",
   "mimetype": "text/x-python",
   "name": "python",
   "nbconvert_exporter": "python",
   "pygments_lexer": "ipython3",
   "version": "3.8.8"
  }
 },
 "nbformat": 4,
 "nbformat_minor": 5
}
