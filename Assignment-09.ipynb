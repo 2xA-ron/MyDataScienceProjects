{
 "cells": [
  {
   "cell_type": "markdown",
   "id": "bulgarian-drink",
   "metadata": {},
   "source": [
    "## This is Assigment 09 - Aaron Rodriguez"
   ]
  },
  {
   "cell_type": "markdown",
   "id": "conventional-madness",
   "metadata": {},
   "source": [
    "### Requirement 1"
   ]
  },
  {
   "cell_type": "code",
   "execution_count": 1,
   "id": "modified-penetration",
   "metadata": {},
   "outputs": [],
   "source": [
    "#  Explain how NumPy arrays are like Python lists and how they are different.\n",
    "\n",
    "#Python List\n",
    "\n",
    "# Able to store different data types in the same list\n",
    "#Storing each item in random location in the memory\n",
    "#Good for the scenario where list can grow dynamically\n",
    "#Inbuilt data type.\n",
    "#It has more inbuilt functions\n",
    "#Appending will take less time in O(1) time\n",
    "\n",
    "# NumPy Arrray\n",
    "#Can store only one data type in an array at any time\n",
    "#Storing each item is sequential which makes array more effective in processing.\n",
    "#Good for the scenario where the items are fixed size and same data time\n",
    "#Need to install external library NumPy\n",
    "#No extra functions, so it will not more memory store.\n",
    "#Appending elements will take more time in O(N) time\n",
    "\n",
    "# In common they are both good for scenarios"
   ]
  },
  {
   "cell_type": "markdown",
   "id": "julian-flesh",
   "metadata": {},
   "source": [
    "### Requirement 2"
   ]
  },
  {
   "cell_type": "code",
   "execution_count": 2,
   "id": "collective-illustration",
   "metadata": {},
   "outputs": [],
   "source": [
    "# Explain how variable typing is performed in Python compared to how it is \n",
    "# performed in a language like C.\n",
    "\n",
    "# Python sets the variable type based on the value that is assigned to it. Unlike more riggers languages, \n",
    "# Python will change the variable type if the variable value is set to another value. \n",
    "# For example: var = 123 # This will create a number integer assignment var = 'john' # the `var` variable is now a string type.\n",
    "\n",
    "#in C, the data types of each variable are explicitly declared, while in Python the types are dynamically inferred."
   ]
  },
  {
   "cell_type": "markdown",
   "id": "dental-indication",
   "metadata": {},
   "source": [
    "### Requirement 3"
   ]
  },
  {
   "cell_type": "code",
   "execution_count": 3,
   "id": "indirect-kingdom",
   "metadata": {},
   "outputs": [],
   "source": [
    "# Explain how integer storage is performed in Python compared to how it is \n",
    "# performed in a language like C.\n",
    "\n",
    "# A C integer is essentially a label for a position in memory whose bytes encode an integer value. \n",
    "# A Python integer is a pointer to a position in memory containing all the Python object information, \n",
    "# including the bytes that contain the integer value. \n",
    "# This extra information in the Python integer structure is what allows Python to be coded so freely and dynamically. \n",
    "# All this additional information in Python types comes at a cost, however, which becomes especially apparent in structures that combine many of these objects.\n",
    "\n"
   ]
  },
  {
   "cell_type": "markdown",
   "id": "wicked-growth",
   "metadata": {},
   "source": [
    "### Requirement 4"
   ]
  },
  {
   "cell_type": "code",
   "execution_count": 22,
   "id": "material-mumbai",
   "metadata": {},
   "outputs": [
    {
     "name": "stdout",
     "output_type": "stream",
     "text": [
      "['1', '2', '3', '4', '5', '6', '7', '8', '9', '10', '11', '12', '13', '14', '15', '16', '17', '18', '19', '20']\n"
     ]
    }
   ],
   "source": [
    "# Create a list (L1) of numbers 1-20. Convert the numbers in L1 to strings and \n",
    "# store them in a new list (L2).\n",
    "import array\n",
    "L1 = [1, 2, 3, 4, 5, 6, 7, 8, 9, 10, 11, 12, 13, 14, 15, 16, 17, 18, 19, 20]\n",
    "L2 = [str(c) for c in L1]\n",
    "print(L2)"
   ]
  },
  {
   "cell_type": "markdown",
   "id": "twelve-illustration",
   "metadata": {},
   "source": [
    "### Requirement 5"
   ]
  },
  {
   "cell_type": "code",
   "execution_count": 28,
   "id": "excess-brazil",
   "metadata": {},
   "outputs": [
    {
     "data": {
      "text/plain": [
       "[bool, str, float, int, bytes]"
      ]
     },
     "execution_count": 28,
     "metadata": {},
     "output_type": "execute_result"
    }
   ],
   "source": [
    "# Demonstrate a heterogeneous list with at least 5 different data types.\n",
    "\n",
    "L3 = [True, \"2\", 3.0, 4, b\"Hello\"]\n",
    "[type(item) for item in L3]\n"
   ]
  },
  {
   "cell_type": "markdown",
   "id": "spread-mills",
   "metadata": {},
   "source": [
    "### Requirement 6"
   ]
  },
  {
   "cell_type": "code",
   "execution_count": 29,
   "id": "signal-benchmark",
   "metadata": {},
   "outputs": [],
   "source": [
    "# Create a Python array using the built-in array module. Demonstrate the \n",
    "# following operations on the array:\n",
    "# • append\n",
    "# • insert\n",
    "# • index\n",
    "# • attempt to insert an element of a different type"
   ]
  },
  {
   "cell_type": "code",
   "execution_count": 45,
   "id": "popular-trust",
   "metadata": {
    "scrolled": true
   },
   "outputs": [
    {
     "name": "stdout",
     "output_type": "stream",
     "text": [
      "['Berries', 'Apples', 'Carrots', 'Oranges', 'Beans']\n",
      "['Berries', 'Apples', 'Goats', 'Carrots', 'Oranges', 'Beans']\n",
      "Carrots\n",
      "None\n"
     ]
    }
   ],
   "source": [
    "import array\n",
    "grocery = [\"Berries\", \"Apples\", \"Carrots\", \"Oranges\" ]\n",
    "\n",
    "#Append\n",
    "grocery.append(\"Beans\")\n",
    "print(grocery)\n",
    "\n",
    "#Insert\n",
    "grocery.insert(2, \"Goats\")\n",
    "print(grocery)\n",
    "\n",
    "#Index\n",
    "grocery[3]\n",
    "print(grocery[3])\n",
    "\n",
    "#Attempt to insert element of different type\n",
    "grocery.insert(True, 1)\n",
    "print(grocery.insert(True, 1))  # <---- Error occured"
   ]
  },
  {
   "cell_type": "markdown",
   "id": "proof-evidence",
   "metadata": {},
   "source": [
    "### Requirement 7"
   ]
  },
  {
   "cell_type": "code",
   "execution_count": 99,
   "id": "social-camcorder",
   "metadata": {},
   "outputs": [
    {
     "name": "stdout",
     "output_type": "stream",
     "text": [
      "<class 'numpy.float64'>\n",
      "<class 'numpy.float64'>\n",
      "<class 'numpy.float64'>\n",
      "<class 'numpy.float64'>\n",
      "<class 'numpy.float64'>\n",
      "<class 'numpy.float64'>\n",
      "<class 'numpy.float64'>\n",
      "<class 'numpy.float64'>\n",
      "<class 'numpy.float64'>\n",
      "<class 'numpy.float64'>\n",
      "<class 'int'>\n",
      "<class 'int'>\n",
      "<class 'int'>\n",
      "<class 'int'>\n",
      "<class 'int'>\n",
      "<class 'int'>\n",
      "<class 'int'>\n",
      "<class 'int'>\n",
      "<class 'int'>\n",
      "<class 'int'>\n"
     ]
    }
   ],
   "source": [
    "# Create a NumPy array of 10 floats named one_d_array. Demonstrate the \n",
    "# following operations on the array:\n",
    "# • implicit casting (the author calls this up-casting)\n",
    "# • explicit casting\n",
    "\n",
    "import numpy as np\n",
    "one_d_array = np.array([1.0, 1.5, 2.0, 2.5, 3.0, 3.5, 4.0, 4.5, 5.0, 5.5])\n",
    "\n",
    "# implicit conversion\n",
    "\n",
    "for item in one_d_array:\n",
    "\n",
    "    print(type(item))\n",
    "    \n",
    "# explicit conversion\n",
    "\n",
    "for item in one_d_array:\n",
    "\n",
    "    #item = float(item)\n",
    "\n",
    "    item = int(item)    # explicitly converted to int\n",
    "\n",
    "    print(type(item))    \n"
   ]
  },
  {
   "cell_type": "markdown",
   "id": "systematic-rogers",
   "metadata": {},
   "source": [
    "### Requirement 8"
   ]
  },
  {
   "cell_type": "code",
   "execution_count": 100,
   "id": "unsigned-attention",
   "metadata": {},
   "outputs": [
    {
     "data": {
      "text/plain": [
       "array([[1, 2, 3],\n",
       "       [2, 3, 4],\n",
       "       [3, 4, 5],\n",
       "       [4, 5, 6],\n",
       "       [5, 6, 7]])"
      ]
     },
     "execution_count": 100,
     "metadata": {},
     "output_type": "execute_result"
    }
   ],
   "source": [
    "# Use list comprehension to create a two-dimensional NumPy array named \n",
    "# two_d_array with 5 rows and 3 columns with the following content:\n",
    "\n",
    "import numpy as np\n",
    "\n",
    "two_d_array =np.array([(1,2,3),(2,3,4),(3,4,5),(4,5,6),(5,6,7)])\n",
    "two_d_array"
   ]
  },
  {
   "cell_type": "markdown",
   "id": "executive-astronomy",
   "metadata": {},
   "source": [
    "### Requirement 9"
   ]
  },
  {
   "cell_type": "code",
   "execution_count": 131,
   "id": "adverse-tulsa",
   "metadata": {
    "scrolled": true
   },
   "outputs": [
    {
     "data": {
      "text/plain": [
       "array([[[12, 15,  5,  0,  3],\n",
       "        [11,  3,  7,  9,  3],\n",
       "        [ 5,  2,  4,  7,  6],\n",
       "        [ 8,  8, 12, 10,  1],\n",
       "        [ 6,  7,  7, 14,  8]],\n",
       "\n",
       "       [[ 1,  5,  9, 13,  8],\n",
       "        [ 9,  4,  3,  0,  3],\n",
       "        [ 5, 14, 15, 15,  0],\n",
       "        [ 2,  3,  8,  1,  3],\n",
       "        [13,  3,  3, 14,  7]],\n",
       "\n",
       "       [[ 0,  1,  9,  9, 15],\n",
       "        [ 0, 15, 10,  4,  7],\n",
       "        [ 3, 14, 11,  2,  7],\n",
       "        [12,  2,  0,  0,  4],\n",
       "        [ 5,  5,  6,  8,  4]]])"
      ]
     },
     "execution_count": 131,
     "metadata": {},
     "output_type": "execute_result"
    }
   ],
   "source": [
    "# Create a 3-dimensional NumPy array named three_d_array\n",
    "import numpy as np\n",
    "np.random.seed(0)\n",
    "\n",
    "three_d_array = np.random.randint(16, size=(3,5,5))\n",
    "three_d_array"
   ]
  },
  {
   "cell_type": "code",
   "execution_count": 132,
   "id": "narrow-display",
   "metadata": {},
   "outputs": [
    {
     "name": "stdout",
     "output_type": "stream",
     "text": [
      "itemsize 4 bytes\n"
     ]
    }
   ],
   "source": [
    "#  display the size in bytes of the array\n",
    "\n",
    "print(\"itemsize\", three_d_array.itemsize, \"bytes\")"
   ]
  },
  {
   "cell_type": "markdown",
   "id": "jewish-gauge",
   "metadata": {},
   "source": [
    "### Requirement 10"
   ]
  },
  {
   "cell_type": "code",
   "execution_count": 133,
   "id": "cooked-payroll",
   "metadata": {},
   "outputs": [
    {
     "data": {
      "text/plain": [
       "array([[ 0,  1,  9,  9, 15]])"
      ]
     },
     "execution_count": 133,
     "metadata": {},
     "output_type": "execute_result"
    }
   ],
   "source": [
    "#  Demonstrate accessing 4 different individual elements of the \n",
    "# three_d_array.\n",
    "\n",
    "three_d_array[2, :1]\n"
   ]
  },
  {
   "cell_type": "markdown",
   "id": "enhanced-address",
   "metadata": {},
   "source": [
    "### Requirement 11"
   ]
  },
  {
   "cell_type": "code",
   "execution_count": 134,
   "id": "empirical-parish",
   "metadata": {},
   "outputs": [
    {
     "name": "stdout",
     "output_type": "stream",
     "text": [
      "[[[12 15  5  0  3]\n",
      "  [11  3  7  9  3]]\n",
      "\n",
      " [[ 1  5  9 13  8]\n",
      "  [ 9  4  3  0  3]]]\n"
     ]
    }
   ],
   "source": [
    "#  Demonstrate modifying 4 different individual elements of the \n",
    "# three_d_array\n",
    "\n",
    "three_d_array\n",
    "New_three_d_array = three_d_array [:2, :2]\n",
    "print(New_three_d_array)"
   ]
  },
  {
   "cell_type": "code",
   "execution_count": 135,
   "id": "lyric-injection",
   "metadata": {},
   "outputs": [
    {
     "name": "stdout",
     "output_type": "stream",
     "text": [
      "[[[101 101 101 101 101]\n",
      "  [ 11   3   7   9   3]]\n",
      "\n",
      " [[  1   5   9  13   8]\n",
      "  [  9   4   3   0   3]]]\n"
     ]
    }
   ],
   "source": [
    "# 2.\n",
    "New_three_d_array[0,0]=101\n",
    "print(New_three_d_array)"
   ]
  },
  {
   "cell_type": "code",
   "execution_count": 138,
   "id": "traditional-antigua",
   "metadata": {},
   "outputs": [
    {
     "name": "stdout",
     "output_type": "stream",
     "text": [
      "[[[600 600 600 600 600]\n",
      "  [600 600 600 600 600]]\n",
      "\n",
      " [[  1   5   9  13   8]\n",
      "  [  9   4   3   0   3]]]\n"
     ]
    }
   ],
   "source": [
    "# 3.\n",
    "New_three_d_array[0] =600\n",
    "print(New_three_d_array)"
   ]
  },
  {
   "cell_type": "code",
   "execution_count": 143,
   "id": "discrete-county",
   "metadata": {},
   "outputs": [
    {
     "name": "stdout",
     "output_type": "stream",
     "text": [
      "[[[55 55 55 55 55]\n",
      "  [55 55 55 55 55]]\n",
      "\n",
      " [[55 55 55 55 55]\n",
      "  [55 55 55 55 55]]]\n"
     ]
    }
   ],
   "source": [
    "# 4\n",
    "New_three_d_array[::1]=55\n",
    "print(New_three_d_array)"
   ]
  },
  {
   "cell_type": "markdown",
   "id": "dried-termination",
   "metadata": {},
   "source": [
    "### Requirement 12"
   ]
  },
  {
   "cell_type": "code",
   "execution_count": 158,
   "id": "second-scheme",
   "metadata": {},
   "outputs": [
    {
     "name": "stdout",
     "output_type": "stream",
     "text": [
      "[1.0, 1.5, 2.0, 2.5, 3.0, 3.5, 4.0]\n"
     ]
    }
   ],
   "source": [
    "#  Using one_d_array, demonstrate slicing:\n",
    "\n",
    "# the first 7 elements\n",
    "import numpy as np\n",
    "\n",
    "exm =one_d_array.tolist()\n",
    "print(exm[0:7])"
   ]
  },
  {
   "cell_type": "code",
   "execution_count": 157,
   "id": "heard-waters",
   "metadata": {},
   "outputs": [
    {
     "name": "stdout",
     "output_type": "stream",
     "text": [
      "[4.5, 5.0, 5.5]\n"
     ]
    }
   ],
   "source": [
    "# all after index 7\n",
    "print(exm[-3:])"
   ]
  },
  {
   "cell_type": "code",
   "execution_count": 159,
   "id": "excited-collector",
   "metadata": {},
   "outputs": [
    {
     "name": "stdout",
     "output_type": "stream",
     "text": [
      "[2.5, 3.0, 3.5, 4.0, 4.5]\n"
     ]
    }
   ],
   "source": [
    "# from index 3 to index 8\n",
    "print(exm[3:8])"
   ]
  },
  {
   "cell_type": "code",
   "execution_count": 163,
   "id": "anonymous-spell",
   "metadata": {},
   "outputs": [
    {
     "name": "stdout",
     "output_type": "stream",
     "text": [
      "[1.0, 2.0, 3.0, 4.0, 5.0]\n"
     ]
    }
   ],
   "source": [
    "# every other element\n",
    "print(exm[::2])"
   ]
  },
  {
   "cell_type": "code",
   "execution_count": 164,
   "id": "distant-purpose",
   "metadata": {},
   "outputs": [
    {
     "name": "stdout",
     "output_type": "stream",
     "text": [
      "[5.5, 5.0, 4.5, 4.0, 3.5, 3.0, 2.5, 2.0, 1.5, 1.0]\n"
     ]
    }
   ],
   "source": [
    "# elements reversed\n",
    "print(exm[::-1])"
   ]
  },
  {
   "cell_type": "code",
   "execution_count": 172,
   "id": "dimensional-shannon",
   "metadata": {},
   "outputs": [
    {
     "name": "stdout",
     "output_type": "stream",
     "text": [
      "[4.5]\n"
     ]
    }
   ],
   "source": [
    "# reverse every other element from index 7\n",
    "print(exm[-3::2][:-1])"
   ]
  },
  {
   "cell_type": "markdown",
   "id": "considered-warrior",
   "metadata": {},
   "source": [
    "### Requirement 13"
   ]
  },
  {
   "cell_type": "code",
   "execution_count": 228,
   "id": "upper-perfume",
   "metadata": {},
   "outputs": [
    {
     "name": "stdout",
     "output_type": "stream",
     "text": [
      "[[3 4]\n",
      " [4 5]]\n"
     ]
    }
   ],
   "source": [
    "#  Using two_d_array, demonstrate slicing:\n",
    "import numpy as np\n",
    "\n",
    "# first 2 rows and first 2 columns\n",
    "NewAr=two_d_array[1:3, 1:3]\n",
    "print(NewAr) "
   ]
  },
  {
   "cell_type": "code",
   "execution_count": 237,
   "id": "valuable-harvest",
   "metadata": {},
   "outputs": [
    {
     "data": {
      "text/plain": [
       "array([[1, 3],\n",
       "       [2, 4],\n",
       "       [3, 5],\n",
       "       [4, 6],\n",
       "       [5, 7]])"
      ]
     },
     "execution_count": 237,
     "metadata": {},
     "output_type": "execute_result"
    }
   ],
   "source": [
    "# all rows and every other column\n",
    "\n",
    "allRC=two_d_array\n",
    "allRC[:, ::2]\n"
   ]
  },
  {
   "cell_type": "code",
   "execution_count": 238,
   "id": "approved-pierce",
   "metadata": {},
   "outputs": [
    {
     "data": {
      "text/plain": [
       "array([[1, 2, 3],\n",
       "       [3, 4, 5],\n",
       "       [5, 6, 7]])"
      ]
     },
     "execution_count": 238,
     "metadata": {},
     "output_type": "execute_result"
    }
   ],
   "source": [
    "# all columns and every other row\n",
    "\n",
    "EoRC=two_d_array\n",
    "EoRC[::2, :]"
   ]
  },
  {
   "cell_type": "code",
   "execution_count": 243,
   "id": "original-omega",
   "metadata": {},
   "outputs": [
    {
     "data": {
      "text/plain": [
       "array([[1, 2],\n",
       "       [2, 3]])"
      ]
     },
     "execution_count": 243,
     "metadata": {},
     "output_type": "execute_result"
    }
   ],
   "source": [
    "# extracting a subarray\n",
    "extAR=two_d_array\n",
    "extAR[:2,:2]\n"
   ]
  },
  {
   "cell_type": "markdown",
   "id": "distinct-thesaurus",
   "metadata": {},
   "source": [
    "### Requirement 14"
   ]
  },
  {
   "cell_type": "code",
   "execution_count": 264,
   "id": "religious-batman",
   "metadata": {},
   "outputs": [
    {
     "data": {
      "text/plain": [
       "array([[  1,   2,   3,   4,   5,   6,   7,   8,   9,  10],\n",
       "       [ 11,  12,  13,  14,  15,  16,  17,  18,  19,  20],\n",
       "       [ 21,  22,  23,  24,  25,  26,  27,  28,  29,  30],\n",
       "       [ 31,  32,  33,  34,  35,  36,  37,  38,  39,  40],\n",
       "       [ 41,  42,  43,  44,  45,  46,  47,  48,  49,  50],\n",
       "       [ 51,  52,  53,  54,  55,  56,  57,  58,  59,  60],\n",
       "       [ 61,  62,  63,  64,  65,  66,  67,  68,  69,  70],\n",
       "       [ 71,  72,  73,  74,  75,  76,  77,  78,  79,  80],\n",
       "       [ 81,  82,  83,  84,  85,  86,  87,  88,  89,  90],\n",
       "       [ 91,  92,  93,  94,  95,  96,  97,  98,  99, 100]])"
      ]
     },
     "execution_count": 264,
     "metadata": {},
     "output_type": "execute_result"
    }
   ],
   "source": [
    "# Use NumPy’s arrange and reshape methods to create a 10x10 array with \n",
    "# values as shown:\n",
    "\n",
    "import numpy as np\n",
    "\n",
    "ARnRS = np.arange(1, 101).reshape((10, 10))\n",
    "ARnRS"
   ]
  },
  {
   "cell_type": "markdown",
   "id": "innovative-legislature",
   "metadata": {},
   "source": [
    "### Requirement 15"
   ]
  },
  {
   "cell_type": "code",
   "execution_count": 271,
   "id": "equivalent-shift",
   "metadata": {},
   "outputs": [
    {
     "name": "stdout",
     "output_type": "stream",
     "text": [
      "[[1.  1.5 2.  2.5 3.  3.5 4.  4.5 5.  5.5]]\n"
     ]
    }
   ],
   "source": [
    "#  Using one_d_array, create a row vector and a column vector.\n",
    "\n",
    "# Row Vector\n",
    "newV=one_d_array\n",
    "print(newV[np.newaxis, :])"
   ]
  },
  {
   "cell_type": "code",
   "execution_count": 272,
   "id": "nominated-humidity",
   "metadata": {},
   "outputs": [
    {
     "name": "stdout",
     "output_type": "stream",
     "text": [
      "[[1. ]\n",
      " [1.5]\n",
      " [2. ]\n",
      " [2.5]\n",
      " [3. ]\n",
      " [3.5]\n",
      " [4. ]\n",
      " [4.5]\n",
      " [5. ]\n",
      " [5.5]]\n"
     ]
    }
   ],
   "source": [
    "# Column Vector\n",
    "print(newV[:, np.newaxis])"
   ]
  },
  {
   "cell_type": "markdown",
   "id": "cardiovascular-novelty",
   "metadata": {},
   "source": [
    "### Requirement 16"
   ]
  },
  {
   "cell_type": "code",
   "execution_count": 273,
   "id": "outstanding-agreement",
   "metadata": {},
   "outputs": [],
   "source": [
    "# Explain what a NumPy universal function is and why they are useful.\n",
    "\n",
    "# A universal function (or ufunc for short) is a function that operates on ndarrays in an element-by-element fashion,\n",
    "# supporting array broadcasting, type casting, and several other standard features. \n",
    "# That is, a ufunc is a “vectorized” wrapper for a function that takes a fixed number of scalar inputs and produces a fixed number of scalar outputs.\n",
    "\n",
    "\n",
    "# ufuncs, whose main purpose is to quickly execute repeated operations on values in NumPy arrays. \n",
    "# Ufuncs are extremely flexible"
   ]
  },
  {
   "cell_type": "markdown",
   "id": "flying-timing",
   "metadata": {},
   "source": [
    "### Requirement 17"
   ]
  },
  {
   "cell_type": "code",
   "execution_count": 276,
   "id": "polar-sigma",
   "metadata": {},
   "outputs": [
    {
     "name": "stdout",
     "output_type": "stream",
     "text": [
      "[ 0. 10. 20. 30. 40.]\n"
     ]
    }
   ],
   "source": [
    "#  Demonstrate the use of the out argument.\n",
    "\n",
    "import numpy as np\n",
    "x = np.arange(5)\n",
    "y = np.empty(5)\n",
    "np.multiply(x, 10, out=y)\n",
    "print(y)"
   ]
  },
  {
   "cell_type": "markdown",
   "id": "sought-electric",
   "metadata": {},
   "source": [
    "### Requirement 18"
   ]
  },
  {
   "cell_type": "code",
   "execution_count": 275,
   "id": "dutch-stability",
   "metadata": {},
   "outputs": [
    {
     "data": {
      "text/plain": [
       "38981.25"
      ]
     },
     "execution_count": 275,
     "metadata": {},
     "output_type": "execute_result"
    }
   ],
   "source": [
    "# Use aggregates to show the product of all elements of one_d_array.\n",
    "\n",
    "import numpy as np\n",
    "\n",
    "agg=one_d_array \n",
    "np.multiply.reduce(agg)\n"
   ]
  },
  {
   "cell_type": "markdown",
   "id": "weird-royalty",
   "metadata": {},
   "source": [
    "### Requirement 19"
   ]
  },
  {
   "cell_type": "code",
   "execution_count": 2,
   "id": "engaged-indianapolis",
   "metadata": {},
   "outputs": [
    {
     "data": {
      "text/plain": [
       "array([[ 2,  2,  2,  2,  2],\n",
       "       [ 4,  4,  4,  4,  4],\n",
       "       [ 6,  6,  6,  6,  6],\n",
       "       [ 8,  8,  8,  8,  8],\n",
       "       [10, 10, 10, 10, 10]])"
      ]
     },
     "execution_count": 2,
     "metadata": {},
     "output_type": "execute_result"
    }
   ],
   "source": [
    "# Create the NumPy arrays x and y below and use the multiply() and outer() \n",
    "# methods to produce the output as shown.\n",
    "import numpy as np\n",
    "x = [1, 2, 3, 4, 5]\n",
    "y = [2, 2, 2, 2, 2]\n",
    "\n",
    "np.multiply.outer(x,y)"
   ]
  },
  {
   "cell_type": "markdown",
   "id": "acting-scanning",
   "metadata": {},
   "source": [
    "### Requirement 20"
   ]
  },
  {
   "cell_type": "code",
   "execution_count": 297,
   "id": "apparent-january",
   "metadata": {},
   "outputs": [
    {
     "name": "stdout",
     "output_type": "stream",
     "text": [
      "2.85 µs ± 60.8 ns per loop (mean ± std. dev. of 7 runs, 100000 loops each)\n"
     ]
    }
   ],
   "source": [
    "# Demonstrate NumPy’s sum, min, and max functions. Use the %timeit \n",
    "# magic function to compare the performance to Python’s built-in sum, min, \n",
    "# and max functions. \n",
    "import numpy as np\n",
    "\n",
    "# Sum\n",
    "SM = np.random.rand(101)\n",
    "%timeit np.sum(SM)"
   ]
  },
  {
   "cell_type": "code",
   "execution_count": 302,
   "id": "careful-weekly",
   "metadata": {
    "scrolled": true
   },
   "outputs": [
    {
     "name": "stdout",
     "output_type": "stream",
     "text": [
      "5.82 µs ± 90 ns per loop (mean ± std. dev. of 7 runs, 100000 loops each)\n"
     ]
    }
   ],
   "source": [
    "# Min\n",
    "%timeit min(SM)"
   ]
  },
  {
   "cell_type": "code",
   "execution_count": 303,
   "id": "domestic-creativity",
   "metadata": {},
   "outputs": [
    {
     "name": "stdout",
     "output_type": "stream",
     "text": [
      "5.8 µs ± 93.4 ns per loop (mean ± std. dev. of 7 runs, 100000 loops each)\n"
     ]
    }
   ],
   "source": [
    "# Max \n",
    "%timeit max(SM)"
   ]
  },
  {
   "cell_type": "markdown",
   "id": "neural-habitat",
   "metadata": {},
   "source": [
    "### Requirement 21"
   ]
  },
  {
   "cell_type": "code",
   "execution_count": 15,
   "id": "color-working",
   "metadata": {},
   "outputs": [],
   "source": [
    "# Use the file president_heights.csv to produce a histogram of U.S. President \n",
    "# height information.\n",
    "\n",
    "import numpy as np\n",
    "import pandas as pd\n",
    "data= pd.read_csv(r\"C:\\Users\\Rogue Leader\\Documents\\GitHub\\US-presidents-heights\\president_heights.csv\")"
   ]
  },
  {
   "cell_type": "code",
   "execution_count": 22,
   "id": "monetary-dominant",
   "metadata": {},
   "outputs": [
    {
     "name": "stdout",
     "output_type": "stream",
     "text": [
      "[189 170 189 163 183 171 185 168 173 183 173 173 175 178 183 193 178 173\n",
      " 174 183 183 168 170 178 182 180 183 178 182 188 175 179 183 193 182 183\n",
      " 177 185 188 188 182 185]\n"
     ]
    }
   ],
   "source": [
    "import pandas as pd\n",
    "heights = np.array(data['height(cm)'])\n",
    "print(heights)"
   ]
  },
  {
   "cell_type": "code",
   "execution_count": 23,
   "id": "tired-validation",
   "metadata": {},
   "outputs": [
    {
     "name": "stdout",
     "output_type": "stream",
     "text": [
      "Mean of heights=  179.73809523809524\n",
      "Standard Deviation=  6.931843442745892\n",
      "Minimum height=  163\n",
      "Maximum height=  193\n",
      "Median of heights=  182.0\n",
      "10th percentile of height=  170.1\n"
     ]
    }
   ],
   "source": [
    "print(\"Mean of heights= \", height.mean())\n",
    "print(\"Standard Deviation= \", height.std())\n",
    "print(\"Minimum height= \", height.min())\n",
    "print(\"Maximum height= \", height.max())\n",
    "print(\"Median of heights= \", np.median(height))\n",
    "print(\"10th percentile of height= \", np.percentile(height, 10))"
   ]
  },
  {
   "cell_type": "code",
   "execution_count": 24,
   "id": "iraqi-defense",
   "metadata": {},
   "outputs": [
    {
     "data": {
      "image/png": "[encoded data removed]",
      "text/plain": [
       "<Figure size 432x288 with 1 Axes>"
      ]
     },
     "metadata": {},
     "output_type": "display_data"
    }
   ],
   "source": [
    "plt.hist(height)\n",
    "plt.title(\"Distribution of US President height\")\n",
    "plt.xlabel(\"height(cm)\")\n",
    "plt.ylabel(\"Number\")\n",
    "plt.show()"
   ]
  },
  {
   "cell_type": "markdown",
   "id": "noble-denver",
   "metadata": {},
   "source": [
    "### Requirement 22"
   ]
  },
  {
   "cell_type": "code",
   "execution_count": 36,
   "id": "beneficial-bradford",
   "metadata": {},
   "outputs": [
    {
     "data": {
      "text/plain": [
       "array([[ 0.        ,  0.10204082,  0.20408163, ...,  4.79591837,\n",
       "         4.89795918,  5.        ],\n",
       "       [ 0.10204082,  0.20408163,  0.30612245, ...,  4.89795918,\n",
       "         5.        ,  5.10204082],\n",
       "       [ 0.20408163,  0.30612245,  0.40816327, ...,  5.        ,\n",
       "         5.10204082,  5.20408163],\n",
       "       ...,\n",
       "       [ 4.79591837,  4.89795918,  5.        , ...,  9.59183673,\n",
       "         9.69387755,  9.79591837],\n",
       "       [ 4.89795918,  5.        ,  5.10204082, ...,  9.69387755,\n",
       "         9.79591837,  9.89795918],\n",
       "       [ 5.        ,  5.10204082,  5.20408163, ...,  9.79591837,\n",
       "         9.89795918, 10.        ]])"
      ]
     },
     "execution_count": 36,
     "metadata": {},
     "output_type": "execute_result"
    }
   ],
   "source": [
    "#  Use broadcasting and Matplotlib to plot produce a plot of a two\n",
    "# dimensional array.\n",
    "\n",
    "import numpy as np\n",
    "\n",
    "x = np.linspace(0, 5, 50)\n",
    "y = np.linspace(0, 5, 50)[:, np.newaxis]\n",
    "\n",
    "z = np.sin(x) ** 10 + np.cos(10 + y * x) * np.cos(x)\n",
    "x + y"
   ]
  },
  {
   "cell_type": "code",
   "execution_count": 37,
   "id": "vocal-hampshire",
   "metadata": {},
   "outputs": [],
   "source": [
    "%matplotlib inline\n",
    "import matplotlib.pyplot as plt"
   ]
  },
  {
   "cell_type": "code",
   "execution_count": 38,
   "id": "retired-story",
   "metadata": {},
   "outputs": [
    {
     "data": {
      "image/png": "[encoded data removed]",
      "text/plain": [
       "<Figure size 432x288 with 2 Axes>"
      ]
     },
     "metadata": {
      "needs_background": "light"
     },
     "output_type": "display_data"
    }
   ],
   "source": [
    "plt.imshow(z, origin='lower', extent=[0, 5, 0, 5],\n",
    "           cmap='viridis')\n",
    "plt.colorbar();"
   ]
  },
  {
   "cell_type": "markdown",
   "id": "secure-klein",
   "metadata": {},
   "source": [
    "### Lots of technical work in this section required me to do alot of critical thinking especially towards the end. Great information and will for sure save this information for use in my future carrer. "
   ]
  },
  {
   "cell_type": "code",
   "execution_count": null,
   "id": "complimentary-queens",
   "metadata": {},
   "outputs": [],
   "source": []
  }
 ],
 "metadata": {
  "kernelspec": {
   "display_name": "Python 3",
   "language": "python",
   "name": "python3"
  },
  "language_info": {
   "codemirror_mode": {
    "name": "ipython",
    "version": 3
   },
   "file_extension": ".py",
   "mimetype": "text/x-python",
   "name": "python",
   "nbconvert_exporter": "python",
   "pygments_lexer": "ipython3",
   "version": "3.8.8"
  }
 },
 "nbformat": 4,
 "nbformat_minor": 5
}
