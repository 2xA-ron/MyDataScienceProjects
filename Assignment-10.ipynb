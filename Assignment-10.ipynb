{
 "cells": [
  {
   "cell_type": "markdown",
   "id": "proved-possibility",
   "metadata": {},
   "source": [
    "## Aaron Rodriguez Assignment - 10"
   ]
  },
  {
   "cell_type": "code",
   "execution_count": 127,
   "id": "divided-novel",
   "metadata": {},
   "outputs": [
    {
     "data": {
      "text/plain": [
       "array([ 1,  4,  3,  7,  8,  5, 10,  9,  2,  8,  1,  5,  7,  7,  1,  6,  4,\n",
       "        1,  3])"
      ]
     },
     "execution_count": 127,
     "metadata": {},
     "output_type": "execute_result"
    }
   ],
   "source": [
    "# Create a one-dimensional NumPy array named one_d_array of 20 random numbers\n",
    "# • <, >, <=, >=, !=, and ==\n",
    "\n",
    "import numpy as np\n",
    "\n",
    "one_d_array = np.array([1, 4, 3, 7, 8, 5, 10, 9, 2, 8, 1, 5, 7, 7, 1, 6, 4, 1, 3])\n",
    "one_d_array"
   ]
  },
  {
   "cell_type": "code",
   "execution_count": 128,
   "id": "cordless-founder",
   "metadata": {},
   "outputs": [
    {
     "data": {
      "text/plain": [
       "array([ True, False, False, False, False, False, False, False,  True,\n",
       "       False,  True, False, False, False,  True, False, False,  True,\n",
       "       False])"
      ]
     },
     "execution_count": 128,
     "metadata": {},
     "output_type": "execute_result"
    }
   ],
   "source": [
    "# less than\n",
    "one_d_array <3"
   ]
  },
  {
   "cell_type": "code",
   "execution_count": 129,
   "id": "going-military",
   "metadata": {},
   "outputs": [
    {
     "data": {
      "text/plain": [
       "array([False,  True,  True,  True,  True,  True,  True,  True,  True,\n",
       "        True, False,  True,  True,  True, False,  True,  True, False,\n",
       "        True])"
      ]
     },
     "execution_count": 129,
     "metadata": {},
     "output_type": "execute_result"
    }
   ],
   "source": [
    "# Greater than\n",
    "one_d_array >1"
   ]
  },
  {
   "cell_type": "code",
   "execution_count": 130,
   "id": "dated-oregon",
   "metadata": {},
   "outputs": [
    {
     "data": {
      "text/plain": [
       "array([ True,  True,  True,  True,  True,  True,  True,  True,  True,\n",
       "        True,  True,  True,  True,  True,  True,  True,  True,  True,\n",
       "        True])"
      ]
     },
     "execution_count": 130,
     "metadata": {},
     "output_type": "execute_result"
    }
   ],
   "source": [
    "# Less than or equal to\n",
    "one_d_array <= 10"
   ]
  },
  {
   "cell_type": "code",
   "execution_count": 131,
   "id": "comprehensive-diploma",
   "metadata": {},
   "outputs": [
    {
     "data": {
      "text/plain": [
       "array([False, False, False, False, False, False, False, False, False,\n",
       "       False, False, False, False, False, False, False, False, False,\n",
       "       False])"
      ]
     },
     "execution_count": 131,
     "metadata": {},
     "output_type": "execute_result"
    }
   ],
   "source": [
    "# Greater than or equal to\n",
    "one_d_array >= 12"
   ]
  },
  {
   "cell_type": "code",
   "execution_count": 132,
   "id": "tribal-mortality",
   "metadata": {},
   "outputs": [
    {
     "data": {
      "text/plain": [
       "array([ True, False,  True,  True,  True,  True,  True,  True,  True,\n",
       "        True,  True,  True,  True,  True,  True,  True, False,  True,\n",
       "        True])"
      ]
     },
     "execution_count": 132,
     "metadata": {},
     "output_type": "execute_result"
    }
   ],
   "source": [
    "# Not equal to\n",
    "one_d_array != 4"
   ]
  },
  {
   "cell_type": "code",
   "execution_count": 133,
   "id": "optimum-conversion",
   "metadata": {},
   "outputs": [
    {
     "data": {
      "text/plain": [
       "array([False, False, False, False, False,  True, False, False, False,\n",
       "       False, False,  True, False, False, False, False, False, False,\n",
       "       False])"
      ]
     },
     "execution_count": 133,
     "metadata": {},
     "output_type": "execute_result"
    }
   ],
   "source": [
    "# Absolute equal \n",
    "one_d_array == 5"
   ]
  },
  {
   "cell_type": "markdown",
   "id": "royal-binary",
   "metadata": {},
   "source": [
    "### Requirement 2"
   ]
  },
  {
   "cell_type": "code",
   "execution_count": 162,
   "id": "cordless-telescope",
   "metadata": {},
   "outputs": [
    {
     "data": {
      "text/plain": [
       "array([[ 1,  3,  8, 23, 17],\n",
       "       [ 4,  8, 32, 14, 19],\n",
       "       [25, 26, 17, 18, 10],\n",
       "       [32,  8,  4, 33,  1]])"
      ]
     },
     "execution_count": 162,
     "metadata": {},
     "output_type": "execute_result"
    }
   ],
   "source": [
    "# Create a two-dimensional NumPy array named two_d_array size = (4,5) with\n",
    "# any values between 11 – 34.\n",
    "\n",
    "two_d_array = np.array([22, 18, 31, 8, 7, 21, 3, 16, 34, 28, 26, 1, 29, 33, 5, 32])\n",
    "two_d_array = rng.randint(34, size=(4,5))\n",
    "two_d_array"
   ]
  },
  {
   "cell_type": "code",
   "execution_count": 163,
   "id": "respected-peninsula",
   "metadata": {},
   "outputs": [
    {
     "data": {
      "text/plain": [
       "array([[25, 16, 27, 17, 13],\n",
       "       [12, 33,  7, 18, 24],\n",
       "       [28, 32,  4, 12,  1],\n",
       "       [10, 20, 17, 27, 24]])"
      ]
     },
     "execution_count": 163,
     "metadata": {},
     "output_type": "execute_result"
    }
   ],
   "source": [
    "import numpy as np\n",
    "\n",
    "rng = np.random.RandomState(11)\n",
    "two_d_array = rng.randint(34, size=(4,5))\n",
    "two_d_array"
   ]
  },
  {
   "cell_type": "code",
   "execution_count": 164,
   "id": "suffering-sleeve",
   "metadata": {},
   "outputs": [
    {
     "data": {
      "text/plain": [
       "array([[False, False, False, False, False],\n",
       "       [False, False, False, False, False],\n",
       "       [False, False, False, False,  True],\n",
       "       [False, False, False, False, False]])"
      ]
     },
     "execution_count": 164,
     "metadata": {},
     "output_type": "execute_result"
    }
   ],
   "source": [
    "# Less tham\n",
    "two_d_array < 3"
   ]
  },
  {
   "cell_type": "code",
   "execution_count": 165,
   "id": "controlled-arrest",
   "metadata": {},
   "outputs": [
    {
     "data": {
      "text/plain": [
       "array([[ True,  True,  True,  True,  True],\n",
       "       [ True,  True,  True,  True,  True],\n",
       "       [ True,  True, False,  True, False],\n",
       "       [ True,  True,  True,  True,  True]])"
      ]
     },
     "execution_count": 165,
     "metadata": {},
     "output_type": "execute_result"
    }
   ],
   "source": [
    "# Greater than\n",
    "two_d_array > 4"
   ]
  },
  {
   "cell_type": "code",
   "execution_count": 166,
   "id": "embedded-noise",
   "metadata": {},
   "outputs": [
    {
     "data": {
      "text/plain": [
       "array([[ True,  True, False,  True,  True],\n",
       "       [ True, False,  True,  True,  True],\n",
       "       [False, False,  True,  True,  True],\n",
       "       [ True,  True,  True, False,  True]])"
      ]
     },
     "execution_count": 166,
     "metadata": {},
     "output_type": "execute_result"
    }
   ],
   "source": [
    "# less than or equal to\n",
    "two_d_array <= 25"
   ]
  },
  {
   "cell_type": "code",
   "execution_count": 167,
   "id": "mineral-grain",
   "metadata": {},
   "outputs": [
    {
     "data": {
      "text/plain": [
       "array([[ True,  True,  True,  True,  True],\n",
       "       [ True,  True,  True,  True,  True],\n",
       "       [ True,  True, False,  True, False],\n",
       "       [ True,  True,  True,  True,  True]])"
      ]
     },
     "execution_count": 167,
     "metadata": {},
     "output_type": "execute_result"
    }
   ],
   "source": [
    "# greater than or equal to\n",
    "two_d_array >= 7"
   ]
  },
  {
   "cell_type": "code",
   "execution_count": 168,
   "id": "measured-example",
   "metadata": {},
   "outputs": [
    {
     "data": {
      "text/plain": [
       "array([[ True,  True, False,  True,  True],\n",
       "       [ True,  True,  True,  True,  True],\n",
       "       [ True,  True,  True,  True,  True],\n",
       "       [ True,  True,  True, False,  True]])"
      ]
     },
     "execution_count": 168,
     "metadata": {},
     "output_type": "execute_result"
    }
   ],
   "source": [
    "# Not equal \n",
    "two_d_array != 27"
   ]
  },
  {
   "cell_type": "code",
   "execution_count": 169,
   "id": "fundamental-parks",
   "metadata": {},
   "outputs": [
    {
     "data": {
      "text/plain": [
       "array([[False, False, False, False, False],\n",
       "       [False, False, False, False,  True],\n",
       "       [False, False, False, False, False],\n",
       "       [False, False, False, False,  True]])"
      ]
     },
     "execution_count": 169,
     "metadata": {},
     "output_type": "execute_result"
    }
   ],
   "source": [
    "# Absolute equal \n",
    "two_d_array == 24"
   ]
  },
  {
   "cell_type": "code",
   "execution_count": 170,
   "id": "another-compiler",
   "metadata": {},
   "outputs": [
    {
     "data": {
      "text/plain": [
       "7"
      ]
     },
     "execution_count": 170,
     "metadata": {},
     "output_type": "execute_result"
    }
   ],
   "source": [
    "#  count the values < 15\n",
    "np.count_nonzero(two_d_array < 15)"
   ]
  },
  {
   "cell_type": "code",
   "execution_count": 171,
   "id": "applied-magnet",
   "metadata": {},
   "outputs": [
    {
     "data": {
      "text/plain": [
       "8"
      ]
     },
     "execution_count": 171,
     "metadata": {},
     "output_type": "execute_result"
    }
   ],
   "source": [
    "# sum the values > 20\n",
    "np.sum(two_d_array > 20)"
   ]
  },
  {
   "cell_type": "code",
   "execution_count": 172,
   "id": "coupled-right",
   "metadata": {},
   "outputs": [
    {
     "data": {
      "text/plain": [
       "array([2, 2, 2, 3], dtype=int64)"
      ]
     },
     "execution_count": 172,
     "metadata": {},
     "output_type": "execute_result"
    }
   ],
   "source": [
    "# count the values >= 19 in each row\n",
    "np.count_nonzero(two_d_array >=19, axis=1)"
   ]
  },
  {
   "cell_type": "code",
   "execution_count": 173,
   "id": "united-wells",
   "metadata": {},
   "outputs": [
    {
     "data": {
      "text/plain": [
       "True"
      ]
     },
     "execution_count": 173,
     "metadata": {},
     "output_type": "execute_result"
    }
   ],
   "source": [
    "# determine if any values < 12\n",
    "np.any(two_d_array <12)"
   ]
  },
  {
   "cell_type": "code",
   "execution_count": 174,
   "id": "certified-springfield",
   "metadata": {},
   "outputs": [
    {
     "data": {
      "text/plain": [
       "True"
      ]
     },
     "execution_count": 174,
     "metadata": {},
     "output_type": "execute_result"
    }
   ],
   "source": [
    "# determine if all values > 12\n",
    "np.any(two_d_array >12 )"
   ]
  },
  {
   "cell_type": "code",
   "execution_count": 175,
   "id": "alive-canvas",
   "metadata": {},
   "outputs": [
    {
     "data": {
      "text/plain": [
       "array([False,  True, False, False, False])"
      ]
     },
     "execution_count": 175,
     "metadata": {},
     "output_type": "execute_result"
    }
   ],
   "source": [
    "# determine if all values in each column > 14\n",
    "np.all(two_d_array >14, axis=0 )"
   ]
  },
  {
   "cell_type": "markdown",
   "id": "outdoor-pharmacy",
   "metadata": {},
   "source": [
    "### Requirement 3"
   ]
  },
  {
   "cell_type": "code",
   "execution_count": 176,
   "id": "original-strain",
   "metadata": {
    "scrolled": true
   },
   "outputs": [
    {
     "data": {
      "text/plain": [
       "(365,)"
      ]
     },
     "execution_count": 176,
     "metadata": {},
     "output_type": "execute_result"
    }
   ],
   "source": [
    "# Using the inches array from Chapter 02.06, \n",
    "# determine the number of values where: \n",
    "\n",
    "\n",
    "import numpy as np\n",
    "import pandas as pd\n",
    "\n",
    "rainfall= pd.read_csv(r\"https://raw.githubusercontent.com/amankharwal/Website-data/master/Seattle2014.csv\")['PRCP'].values\n",
    "inches = rainfall / 254.0 \n",
    "inches.shape"
   ]
  },
  {
   "cell_type": "code",
   "execution_count": 177,
   "id": "familiar-desktop",
   "metadata": {},
   "outputs": [
    {
     "name": "stdout",
     "output_type": "stream",
     "text": [
      "[  0  41  15   0   0   3 122  97  58  43 213  15   0   0   0   0   0   0\n",
      "   0   0   0   5   0   0   0   0   0  89 216   0  23  20   0   0   0   0\n",
      "   0   0  51   5 183 170  46  18  94 117 264 145 152  10  30  28  25  61\n",
      " 130   3   0   0   0   5 191 107 165 467  30   0 323  43 188   0   0   5\n",
      "  69  81 277   3   0   5   0   0   0   0   0  41  36   3 221 140   0   0\n",
      "   0   0  25   0  46   0   0  46   0   0   0   0   0   0   5 109 185   0\n",
      " 137   0  51 142  89 124   0  33  69   0   0   0   0   0 333 160  51   0\n",
      "   0 137  20   5   0   0   0   0   0   0   0   0   0   0   0   0  38   0\n",
      "  56   0   0   0   0   0   0   0   0   0   0   0   0   0   0   0   0   0\n",
      "  18  64   0   5  36  13   0   8   3   0   0   0   0   0   0  18  23   0\n",
      "   0   0   0   0   0   0   0   0   0   0   0   0   0   0   0   0   0   0\n",
      "   0   0   0   0   3 193   0   0   0   0   0   0   0   0   0   5   0   0\n",
      "   0   0   0   0   0   0   5 127 216   0  10   0   0   0   0   0   0   0\n",
      "   0   0   0   0   0   0   0  84  13   0  30   0   0   0   0   0   0   0\n",
      "   0   0   0   0   0   0   0   5   3   0   0   0   3 183 203  43  89   0\n",
      "   0   8   0   0   0   0   0   0   0   0   0   0   3  74   0  76  71  86\n",
      "   0  33 150   0 117  10 320  94  41  61  15   8 127   5 254 170   0  18\n",
      " 109  41  48  41   0   0  51   0   0   0   0   0   0   0   0   0   0  36\n",
      " 152   5 119  13 183   3  33 343  36   0   0   0   0   8  30  74   0  91\n",
      "  99 130  69   0   0   0   0   0  28 130  30 196   0   0 206  53   0   0\n",
      "  33  41   0   0   0]\n"
     ]
    }
   ],
   "source": [
    "print(rainfall)"
   ]
  },
  {
   "cell_type": "code",
   "execution_count": 178,
   "id": "based-security",
   "metadata": {},
   "outputs": [
    {
     "data": {
      "text/plain": [
       "83"
      ]
     },
     "execution_count": 178,
     "metadata": {},
     "output_type": "execute_result"
    }
   ],
   "source": [
    "#   0.15 <= value <= 1.15\n",
    "np.sum((inches >= 0.15) & (inches <= 1.15))"
   ]
  },
  {
   "cell_type": "code",
   "execution_count": 179,
   "id": "frequent-building",
   "metadata": {},
   "outputs": [
    {
     "data": {
      "text/plain": [
       "0"
      ]
     },
     "execution_count": 179,
     "metadata": {},
     "output_type": "execute_result"
    }
   ],
   "source": [
    "# Use ~ and | to return the same number as & above\n",
    "np.sum(~( (inches >= 0.15) | (inches <= 1.15) ))"
   ]
  },
  {
   "cell_type": "markdown",
   "id": "noble-stomach",
   "metadata": {},
   "source": [
    "### Requirement 4"
   ]
  },
  {
   "cell_type": "code",
   "execution_count": 180,
   "id": "operating-liberal",
   "metadata": {},
   "outputs": [
    {
     "name": "stdout",
     "output_type": "stream",
     "text": [
      "Nukmber of day without rain:   215\n",
      "Number of days with rain:      150\n",
      "Days with >=1 inch of rain:    8\n"
     ]
    }
   ],
   "source": [
    "#  Using the inches array from Chapter 02.06, show the following:\n",
    "\n",
    "# Number of days without rain\n",
    "print(\"Nukmber of day without rain:  \",np.sum(inches ==0))\n",
    "\n",
    "# Number of days with rain\n",
    "print(\"Number of days with rain:     \",np.sum(inches != 0))\n",
    "\n",
    "# Days with >=1 inches of rain\n",
    "print(\"Days with >=1 inch of rain:   \",np.sum(inches >=1))"
   ]
  },
  {
   "cell_type": "markdown",
   "id": "checked-container",
   "metadata": {},
   "source": [
    "### Requirement 5"
   ]
  },
  {
   "cell_type": "code",
   "execution_count": 181,
   "id": "religious-palmer",
   "metadata": {},
   "outputs": [
    {
     "data": {
      "text/plain": [
       "array([[25, 16, 27, 17, 13],\n",
       "       [12, 33,  7, 18, 24],\n",
       "       [28, 32,  4, 12,  1],\n",
       "       [10, 20, 17, 27, 24]])"
      ]
     },
     "execution_count": 181,
     "metadata": {},
     "output_type": "execute_result"
    }
   ],
   "source": [
    "# Use Boolean masking on two_d_array to:\n",
    "two_d_array"
   ]
  },
  {
   "cell_type": "code",
   "execution_count": 182,
   "id": "otherwise-potential",
   "metadata": {},
   "outputs": [
    {
     "data": {
      "text/plain": [
       "array([[False, False, False, False,  True],\n",
       "       [ True, False,  True, False, False],\n",
       "       [False, False,  True,  True,  True],\n",
       "       [ True, False, False, False, False]])"
      ]
     },
     "execution_count": 182,
     "metadata": {},
     "output_type": "execute_result"
    }
   ],
   "source": [
    "#return a Boolean array where < 15\n",
    "two_d_array <15"
   ]
  },
  {
   "cell_type": "code",
   "execution_count": 183,
   "id": "grand-thinking",
   "metadata": {},
   "outputs": [
    {
     "data": {
      "text/plain": [
       "array([13, 12,  7,  4, 12,  1, 10])"
      ]
     },
     "execution_count": 183,
     "metadata": {},
     "output_type": "execute_result"
    }
   ],
   "source": [
    "# return an array of vales of <15\n",
    "two_d_array[two_d_array <15]"
   ]
  },
  {
   "cell_type": "markdown",
   "id": "comprehensive-runner",
   "metadata": {},
   "source": [
    "### Requirement 6"
   ]
  },
  {
   "cell_type": "code",
   "execution_count": 184,
   "id": "received-occupation",
   "metadata": {},
   "outputs": [
    {
     "name": "stdout",
     "output_type": "stream",
     "text": [
      "Median precip on pouring days in 2014 (inches):    0.7283464566929134\n",
      "Median precip on pouring days in 2014 (inches):    0.0\n",
      "Maximum precip on summer days in 2014 (inches):    0.8503937007874016\n",
      "Median precip on non-summer pouring days (inches): 0.7204724409448819\n"
     ]
    }
   ],
   "source": [
    "# Using the inches rain data and the following definition (pouring = (inches > \n",
    "# 0.5)), output the following data:\n",
    "\n",
    "# Formula for pouring\n",
    "pouring=(inches >0.5) \n",
    "\n",
    "#Number of day set and number of days in summer set \n",
    "days = np.arange(365)\n",
    "summer = (days > 172) & (days < 262)\n",
    "\n",
    "# Median precip on pouring days in 2014 (inches):\n",
    "print(\"Median precip on pouring days in 2014 (inches):   \",\n",
    "     np.median(inches[pouring]))\n",
    "\n",
    "# Median precip on summer days in 2014 (inches):\n",
    "print(\"Median precip on pouring days in 2014 (inches):   \",\n",
    "     np.median(inches[summer]))\n",
    "\n",
    "# Maximum precip on summer days in 2014 (inches):\n",
    "print(\"Maximum precip on summer days in 2014 (inches):   \",\n",
    "     np.max(inches[summer]))\n",
    "\n",
    "# Median precip on non-summer pouring days in 2014 (inches):\n",
    "print(\"Median precip on non-summer pouring days (inches):\",\n",
    "     np.median(inches[pouring & ~summer]))"
   ]
  },
  {
   "cell_type": "markdown",
   "id": "anticipated-flight",
   "metadata": {},
   "source": [
    "### Requirement 7"
   ]
  },
  {
   "cell_type": "code",
   "execution_count": 185,
   "id": "regulation-advancement",
   "metadata": {},
   "outputs": [],
   "source": [
    "# Whats the difference between and or & |\n",
    "\n",
    "# And- You are using more than one operand to make a determination of an outcome \n",
    "\n",
    "# | - Is used more for is one or the other is valid. And if either are not valid it's  NULL or False.\n",
    "\n",
    "# Or - Is True if either statement is found or correct \n",
    "\n",
    "# & - Each bit position in the result is the logical and of the bits in the\n",
    " # corresponding position of the operands."
   ]
  },
  {
   "cell_type": "markdown",
   "id": "judicial-variety",
   "metadata": {},
   "source": [
    "### Requirement 8"
   ]
  },
  {
   "cell_type": "code",
   "execution_count": 195,
   "id": "answering-linux",
   "metadata": {},
   "outputs": [
    {
     "name": "stdout",
     "output_type": "stream",
     "text": [
      "[7 9 8]\n"
     ]
    }
   ],
   "source": [
    "# Demonstrate fancy indexing with:\n",
    "\n",
    "ind = [3, 7, 4]\n",
    "print(one_d_array[ind])"
   ]
  },
  {
   "cell_type": "code",
   "execution_count": 201,
   "id": "southwest-documentary",
   "metadata": {},
   "outputs": [
    {
     "data": {
      "text/plain": [
       "array([[[10, 20, 17, 27, 24],\n",
       "        [10, 20, 17, 27, 24]],\n",
       "\n",
       "       [[28, 32,  4, 12,  1],\n",
       "        [12, 33,  7, 18, 24]]])"
      ]
     },
     "execution_count": 201,
     "metadata": {},
     "output_type": "execute_result"
    }
   ],
   "source": [
    "Ind = np.array([[3, 3],\n",
    "              [2, 1]])\n",
    "two_d_array[Ind]"
   ]
  },
  {
   "cell_type": "markdown",
   "id": "stable-library",
   "metadata": {},
   "source": [
    "### Requirement 9"
   ]
  },
  {
   "cell_type": "code",
   "execution_count": 203,
   "id": "numerous-hearts",
   "metadata": {},
   "outputs": [
    {
     "data": {
      "text/plain": [
       "array([[28, 32,  4, 12,  1],\n",
       "       [10, 20, 17, 27, 24]])"
      ]
     },
     "execution_count": 203,
     "metadata": {},
     "output_type": "execute_result"
    }
   ],
   "source": [
    "# Demonstrate combined indexing with:\n",
    "\n",
    "#slicing\n",
    "two_d_array[2:5]"
   ]
  },
  {
   "cell_type": "code",
   "execution_count": 204,
   "id": "rational-confidence",
   "metadata": {},
   "outputs": [
    {
     "data": {
      "text/plain": [
       "array([25, 27, 33, 24, 28, 32, 27, 24])"
      ]
     },
     "execution_count": 204,
     "metadata": {},
     "output_type": "execute_result"
    }
   ],
   "source": [
    "# Maksing\n",
    "two_d_array[two_d_array > 20]"
   ]
  },
  {
   "cell_type": "code",
   "execution_count": 216,
   "id": "mature-genetics",
   "metadata": {},
   "outputs": [
    {
     "data": {
      "text/plain": [
       "array([[13, 16, 17, 25, 27],\n",
       "       [ 7, 12, 18, 24, 33],\n",
       "       [ 1,  4, 12, 28, 32],\n",
       "       [10, 17, 20, 24, 27]])"
      ]
     },
     "execution_count": 216,
     "metadata": {},
     "output_type": "execute_result"
    }
   ],
   "source": [
    "# Demonstrate the following using two_d_array:\n",
    "\n",
    "# Sort each row\n",
    "two_d_array.sort()\n",
    "two_d_array"
   ]
  },
  {
   "cell_type": "code",
   "execution_count": 217,
   "id": "answering-protein",
   "metadata": {},
   "outputs": [
    {
     "data": {
      "text/plain": [
       "array([[ 1,  4, 12, 28, 32],\n",
       "       [ 7, 12, 18, 24, 33],\n",
       "       [10, 17, 20, 24, 27],\n",
       "       [13, 16, 17, 25, 27]])"
      ]
     },
     "execution_count": 217,
     "metadata": {},
     "output_type": "execute_result"
    }
   ],
   "source": [
    "# Sort each column \n",
    "two_d_array[two_d_array[:, 0].argsort()]"
   ]
  },
  {
   "cell_type": "code",
   "execution_count": 306,
   "id": "ordinary-vermont",
   "metadata": {},
   "outputs": [
    {
     "data": {
      "text/plain": [
       "array([[16, 13, 17, 25, 27],\n",
       "       [12,  7, 18, 24, 33],\n",
       "       [ 4,  1, 12, 28, 32],\n",
       "       [17, 10, 20, 24, 27]])"
      ]
     },
     "execution_count": 306,
     "metadata": {},
     "output_type": "execute_result"
    }
   ],
   "source": [
    "# partition the array such that the first three values in each column are \n",
    "# the lowest values in that column\n",
    "import numpy as np\n",
    "\n",
    "x = two_d_array\n",
    "np.partition(x, 3)"
   ]
  },
  {
   "cell_type": "markdown",
   "id": "declared-vertex",
   "metadata": {},
   "source": [
    "### Requirement 10"
   ]
  },
  {
   "cell_type": "code",
   "execution_count": 310,
   "id": "minimal-looking",
   "metadata": {
    "scrolled": true
   },
   "outputs": [],
   "source": [
    "#  Produce a k-nearest neighbor plot using:\n",
    "# • a 25 X 2 array\n",
    "# • K = 3"
   ]
  },
  {
   "cell_type": "code",
   "execution_count": 10,
   "id": "bearing-application",
   "metadata": {
    "scrolled": true
   },
   "outputs": [],
   "source": [
    "import numpy as np\n",
    "\n",
    "def selection_sort(x):\n",
    "    for i in range(len(x)):\n",
    "        swap = i + np.argmin(x[i:])\n",
    "        (x[i], x[swap]) = (x[swap], x[i])\n",
    "    return x"
   ]
  },
  {
   "cell_type": "code",
   "execution_count": 11,
   "id": "refined-backup",
   "metadata": {},
   "outputs": [
    {
     "data": {
      "text/plain": [
       "array([1, 2, 3, 4, 5])"
      ]
     },
     "execution_count": 11,
     "metadata": {},
     "output_type": "execute_result"
    }
   ],
   "source": [
    "x = np.array([2, 1, 4, 3, 5])\n",
    "selection_sort(x)\n"
   ]
  },
  {
   "cell_type": "code",
   "execution_count": 12,
   "id": "coated-solomon",
   "metadata": {},
   "outputs": [
    {
     "data": {
      "text/plain": [
       "array([1, 2, 3, 4, 5])"
      ]
     },
     "execution_count": 12,
     "metadata": {},
     "output_type": "execute_result"
    }
   ],
   "source": [
    "def bogosort(x):\n",
    "    while np.any(x[:-1] > x[1:]):\n",
    "        np.random.shuffle(x)\n",
    "    return x\n",
    "x = np.array([2, 1, 4, 3, 5])\n",
    "bogosort(x)"
   ]
  },
  {
   "cell_type": "code",
   "execution_count": 13,
   "id": "terminal-cooking",
   "metadata": {},
   "outputs": [
    {
     "name": "stdout",
     "output_type": "stream",
     "text": [
      "[[6 3 7 4 6 9]\n",
      " [2 6 7 4 3 7]\n",
      " [7 2 5 4 1 7]\n",
      " [5 1 4 0 9 5]]\n"
     ]
    },
    {
     "data": {
      "text/plain": [
       "array([2, 1, 3, 4, 6, 5, 7])"
      ]
     },
     "execution_count": 13,
     "metadata": {},
     "output_type": "execute_result"
    }
   ],
   "source": [
    "x = np.array([2, 1, 4, 3, 5])\n",
    "np.sort(x)\n",
    "\n",
    "rand = np.random.RandomState(42)\n",
    "X = rand.randint(0, 10, (4, 6))\n",
    "print(X)\n",
    "x = np.array([7, 2, 3, 1, 6, 5, 4])\n",
    "np.partition(x, 3)"
   ]
  },
  {
   "cell_type": "code",
   "execution_count": 14,
   "id": "australian-monaco",
   "metadata": {},
   "outputs": [],
   "source": [
    "\n",
    "X = rand.rand(25, 2)"
   ]
  },
  {
   "cell_type": "code",
   "execution_count": 17,
   "id": "rural-steel",
   "metadata": {},
   "outputs": [
    {
     "data": {
      "image/png": "[encoded data removed]",
      "text/plain": [
       "<Figure size 432x288 with 1 Axes>"
      ]
     },
     "metadata": {},
     "output_type": "display_data"
    }
   ],
   "source": [
    "%matplotlib inline\n",
    "import matplotlib.pyplot as plt\n",
    "import seaborn; seaborn.set() # Plot styling\n",
    "plt.scatter(X[:, 0], X[:, 1], s=100);"
   ]
  },
  {
   "cell_type": "code",
   "execution_count": null,
   "id": "polished-siemens",
   "metadata": {},
   "outputs": [],
   "source": [
    "#  Had tough time trying to figure out requirement 10 I tried\n",
    "# following the DataScience handbook and othe python resources."
   ]
  },
  {
   "cell_type": "markdown",
   "id": "infrared-grocery",
   "metadata": {},
   "source": [
    "### Requirement 11"
   ]
  },
  {
   "cell_type": "code",
   "execution_count": 18,
   "id": "applicable-rouge",
   "metadata": {},
   "outputs": [],
   "source": [
    "#  Create a structured array named super_heroes using:\n",
    "# • the dictionary method\n",
    "# • NumPy data types for the element names\n",
    "# • with the following element names:\n",
    "\n",
    "name = ['Mace', 'Superman', '[Spiderman]']\n",
    "age = [25, 45, 37]\n",
    "birthplace = ['HaruunKal', 'Krypton', 'Brooklyn']\n",
    "super_power = ['Shatterpoint', 'LazerBeam', 'Websling']"
   ]
  },
  {
   "cell_type": "code",
   "execution_count": 19,
   "id": "accomplished-alabama",
   "metadata": {},
   "outputs": [],
   "source": [
    "import numpy as np"
   ]
  },
  {
   "cell_type": "code",
   "execution_count": 20,
   "id": "exempt-commercial",
   "metadata": {},
   "outputs": [
    {
     "name": "stdout",
     "output_type": "stream",
     "text": [
      "[('name', '<U10'), ('age', '<i4'), ('birthplace', '<f8'), ('super_power', '<U10')]\n"
     ]
    }
   ],
   "source": [
    "super_heros = np.zeros(4, dtype={'names':('name', 'age', 'birthplace', 'super_power'),\n",
    "                          'formats':('U10', 'i4', 'f8', 'U10')})\n",
    "print(super_heros.dtype)"
   ]
  },
  {
   "cell_type": "markdown",
   "id": "offshore-touch",
   "metadata": {},
   "source": [
    "#### Alot of deep concentration when it came to this assignment. Had  to really thinking about how to solve a few of these problems. I feel I am learning alot more than I thought I could, there's so much information, but this is helping build a foundation for my understanding in programming. "
   ]
  }
 ],
 "metadata": {
  "kernelspec": {
   "display_name": "Python 3",
   "language": "python",
   "name": "python3"
  },
  "language_info": {
   "codemirror_mode": {
    "name": "ipython",
    "version": 3
   },
   "file_extension": ".py",
   "mimetype": "text/x-python",
   "name": "python",
   "nbconvert_exporter": "python",
   "pygments_lexer": "ipython3",
   "version": "3.8.8"
  }
 },
 "nbformat": 4,
 "nbformat_minor": 5
}
