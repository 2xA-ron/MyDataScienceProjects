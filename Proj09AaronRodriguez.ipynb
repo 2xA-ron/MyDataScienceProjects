{
 "cells": [
  {
   "cell_type": "markdown",
   "id": "short-ethernet",
   "metadata": {},
   "source": [
    "### Table of Contents"
   ]
  },
  {
   "cell_type": "markdown",
   "id": "stable-government",
   "metadata": {},
   "source": [
    "* [Certification](#certification)\n",
    "* [Import Libraries](#import-libraries)\n",
    "* [Examining Data](#examine)\n",
    "* [Solution](#solution)"
   ]
  },
  {
   "cell_type": "markdown",
   "id": "willing-blade",
   "metadata": {},
   "source": [
    "### Certification <a class=\"anchor\" id=\"certification\" ></a>"
   ]
  },
  {
   "cell_type": "markdown",
   "id": "authentic-nickname",
   "metadata": {},
   "source": [
    "I certify that this project is my own work and is not the work of others. I agree not to share my solution with others. -Aaron Rodriguez"
   ]
  },
  {
   "cell_type": "markdown",
   "id": "standard-happening",
   "metadata": {},
   "source": [
    "### Import Libraries <a class=\"anchor\" id=\"import-libraries\" ></a>"
   ]
  },
  {
   "cell_type": "code",
   "execution_count": 1,
   "id": "plain-material",
   "metadata": {},
   "outputs": [],
   "source": [
    "import pandas as pd\n",
    "import numpy as np\n",
    "import matplotlib.pyplot as plt\n",
    "#Enable inline plotting\n",
    "%matplotlib inline"
   ]
  },
  {
   "cell_type": "code",
   "execution_count": 2,
   "id": "artistic-rescue",
   "metadata": {},
   "outputs": [],
   "source": [
    "DataSet01 = pd.read_excel(r'E:\\InterPython\\Stock01.xlsx',index_col='Date')"
   ]
  },
  {
   "cell_type": "markdown",
   "id": "elementary-extraction",
   "metadata": {},
   "source": [
    "The XLSX file above is stored in a file that was downloaded and shored in a folder in the following path."
   ]
  },
  {
   "cell_type": "markdown",
   "id": "incorporated-bouquet",
   "metadata": {},
   "source": [
    "### Examing Data <a class=\"anchor\" id=\"examine\" ></a>"
   ]
  },
  {
   "cell_type": "code",
   "execution_count": 3,
   "id": "lucky-scope",
   "metadata": {
    "scrolled": false
   },
   "outputs": [
    {
     "data": {
      "text/html": [
       "<div>\n",
       "<style scoped>\n",
       "    .dataframe tbody tr th:only-of-type {\n",
       "        vertical-align: middle;\n",
       "    }\n",
       "\n",
       "    .dataframe tbody tr th {\n",
       "        vertical-align: top;\n",
       "    }\n",
       "\n",
       "    .dataframe thead th {\n",
       "        text-align: right;\n",
       "    }\n",
       "</style>\n",
       "<table border=\"1\" class=\"dataframe\">\n",
       "  <thead>\n",
       "    <tr style=\"text-align: right;\">\n",
       "      <th></th>\n",
       "      <th>Open</th>\n",
       "      <th>High</th>\n",
       "      <th>Low</th>\n",
       "      <th>Close</th>\n",
       "      <th>Volume</th>\n",
       "      <th>Name</th>\n",
       "    </tr>\n",
       "    <tr>\n",
       "      <th>Date</th>\n",
       "      <th></th>\n",
       "      <th></th>\n",
       "      <th></th>\n",
       "      <th></th>\n",
       "      <th></th>\n",
       "      <th></th>\n",
       "    </tr>\n",
       "  </thead>\n",
       "  <tbody>\n",
       "    <tr>\n",
       "      <th>2006-01-03</th>\n",
       "      <td>39.69</td>\n",
       "      <td>41.22</td>\n",
       "      <td>38.79</td>\n",
       "      <td>40.91</td>\n",
       "      <td>24232729</td>\n",
       "      <td>AABA</td>\n",
       "    </tr>\n",
       "    <tr>\n",
       "      <th>2006-01-04</th>\n",
       "      <td>41.22</td>\n",
       "      <td>41.90</td>\n",
       "      <td>40.77</td>\n",
       "      <td>40.97</td>\n",
       "      <td>20553479</td>\n",
       "      <td>AABA</td>\n",
       "    </tr>\n",
       "    <tr>\n",
       "      <th>2006-01-05</th>\n",
       "      <td>40.93</td>\n",
       "      <td>41.73</td>\n",
       "      <td>40.85</td>\n",
       "      <td>41.53</td>\n",
       "      <td>12829610</td>\n",
       "      <td>AABA</td>\n",
       "    </tr>\n",
       "    <tr>\n",
       "      <th>2006-01-06</th>\n",
       "      <td>42.88</td>\n",
       "      <td>43.57</td>\n",
       "      <td>42.80</td>\n",
       "      <td>43.21</td>\n",
       "      <td>29422828</td>\n",
       "      <td>AABA</td>\n",
       "    </tr>\n",
       "    <tr>\n",
       "      <th>2006-01-09</th>\n",
       "      <td>43.10</td>\n",
       "      <td>43.66</td>\n",
       "      <td>42.82</td>\n",
       "      <td>43.42</td>\n",
       "      <td>16268338</td>\n",
       "      <td>AABA</td>\n",
       "    </tr>\n",
       "    <tr>\n",
       "      <th>2006-01-10</th>\n",
       "      <td>42.96</td>\n",
       "      <td>43.34</td>\n",
       "      <td>42.34</td>\n",
       "      <td>42.98</td>\n",
       "      <td>16288580</td>\n",
       "      <td>AABA</td>\n",
       "    </tr>\n",
       "    <tr>\n",
       "      <th>2006-01-11</th>\n",
       "      <td>42.19</td>\n",
       "      <td>42.31</td>\n",
       "      <td>41.72</td>\n",
       "      <td>41.87</td>\n",
       "      <td>26192772</td>\n",
       "      <td>AABA</td>\n",
       "    </tr>\n",
       "    <tr>\n",
       "      <th>2006-01-12</th>\n",
       "      <td>41.92</td>\n",
       "      <td>41.99</td>\n",
       "      <td>40.76</td>\n",
       "      <td>40.89</td>\n",
       "      <td>18921686</td>\n",
       "      <td>AABA</td>\n",
       "    </tr>\n",
       "    <tr>\n",
       "      <th>2006-01-13</th>\n",
       "      <td>41.00</td>\n",
       "      <td>41.08</td>\n",
       "      <td>39.62</td>\n",
       "      <td>39.90</td>\n",
       "      <td>30966185</td>\n",
       "      <td>AABA</td>\n",
       "    </tr>\n",
       "    <tr>\n",
       "      <th>2006-01-17</th>\n",
       "      <td>39.09</td>\n",
       "      <td>40.39</td>\n",
       "      <td>38.96</td>\n",
       "      <td>40.11</td>\n",
       "      <td>42429911</td>\n",
       "      <td>AABA</td>\n",
       "    </tr>\n",
       "    <tr>\n",
       "      <th>2006-01-18</th>\n",
       "      <td>35.01</td>\n",
       "      <td>36.16</td>\n",
       "      <td>34.74</td>\n",
       "      <td>35.18</td>\n",
       "      <td>118670393</td>\n",
       "      <td>AABA</td>\n",
       "    </tr>\n",
       "    <tr>\n",
       "      <th>2006-01-19</th>\n",
       "      <td>35.82</td>\n",
       "      <td>35.84</td>\n",
       "      <td>34.24</td>\n",
       "      <td>34.33</td>\n",
       "      <td>60918436</td>\n",
       "      <td>AABA</td>\n",
       "    </tr>\n",
       "    <tr>\n",
       "      <th>2006-01-20</th>\n",
       "      <td>34.44</td>\n",
       "      <td>34.66</td>\n",
       "      <td>33.21</td>\n",
       "      <td>33.74</td>\n",
       "      <td>57681688</td>\n",
       "      <td>AABA</td>\n",
       "    </tr>\n",
       "  </tbody>\n",
       "</table>\n",
       "</div>"
      ],
      "text/plain": [
       "             Open   High    Low  Close     Volume  Name\n",
       "Date                                                   \n",
       "2006-01-03  39.69  41.22  38.79  40.91   24232729  AABA\n",
       "2006-01-04  41.22  41.90  40.77  40.97   20553479  AABA\n",
       "2006-01-05  40.93  41.73  40.85  41.53   12829610  AABA\n",
       "2006-01-06  42.88  43.57  42.80  43.21   29422828  AABA\n",
       "2006-01-09  43.10  43.66  42.82  43.42   16268338  AABA\n",
       "2006-01-10  42.96  43.34  42.34  42.98   16288580  AABA\n",
       "2006-01-11  42.19  42.31  41.72  41.87   26192772  AABA\n",
       "2006-01-12  41.92  41.99  40.76  40.89   18921686  AABA\n",
       "2006-01-13  41.00  41.08  39.62  39.90   30966185  AABA\n",
       "2006-01-17  39.09  40.39  38.96  40.11   42429911  AABA\n",
       "2006-01-18  35.01  36.16  34.74  35.18  118670393  AABA\n",
       "2006-01-19  35.82  35.84  34.24  34.33   60918436  AABA\n",
       "2006-01-20  34.44  34.66  33.21  33.74   57681688  AABA"
      ]
     },
     "execution_count": 3,
     "metadata": {},
     "output_type": "execute_result"
    }
   ],
   "source": [
    "DataSet01.head(13)"
   ]
  },
  {
   "cell_type": "code",
   "execution_count": 4,
   "id": "potential-couple",
   "metadata": {
    "scrolled": true
   },
   "outputs": [
    {
     "data": {
      "text/html": [
       "<div>\n",
       "<style scoped>\n",
       "    .dataframe tbody tr th:only-of-type {\n",
       "        vertical-align: middle;\n",
       "    }\n",
       "\n",
       "    .dataframe tbody tr th {\n",
       "        vertical-align: top;\n",
       "    }\n",
       "\n",
       "    .dataframe thead th {\n",
       "        text-align: right;\n",
       "    }\n",
       "</style>\n",
       "<table border=\"1\" class=\"dataframe\">\n",
       "  <thead>\n",
       "    <tr style=\"text-align: right;\">\n",
       "      <th></th>\n",
       "      <th>Open</th>\n",
       "      <th>High</th>\n",
       "      <th>Low</th>\n",
       "      <th>Close</th>\n",
       "      <th>Volume</th>\n",
       "      <th>Name</th>\n",
       "    </tr>\n",
       "    <tr>\n",
       "      <th>Date</th>\n",
       "      <th></th>\n",
       "      <th></th>\n",
       "      <th></th>\n",
       "      <th></th>\n",
       "      <th></th>\n",
       "      <th></th>\n",
       "    </tr>\n",
       "  </thead>\n",
       "  <tbody>\n",
       "    <tr>\n",
       "      <th>2006-01-03</th>\n",
       "      <td>39.69</td>\n",
       "      <td>41.22</td>\n",
       "      <td>38.79</td>\n",
       "      <td>40.91</td>\n",
       "      <td>24232729</td>\n",
       "      <td>AABA</td>\n",
       "    </tr>\n",
       "    <tr>\n",
       "      <th>2006-01-05</th>\n",
       "      <td>40.93</td>\n",
       "      <td>41.73</td>\n",
       "      <td>40.85</td>\n",
       "      <td>41.53</td>\n",
       "      <td>12829610</td>\n",
       "      <td>AABA</td>\n",
       "    </tr>\n",
       "    <tr>\n",
       "      <th>2006-01-09</th>\n",
       "      <td>43.10</td>\n",
       "      <td>43.66</td>\n",
       "      <td>42.82</td>\n",
       "      <td>43.42</td>\n",
       "      <td>16268338</td>\n",
       "      <td>AABA</td>\n",
       "    </tr>\n",
       "    <tr>\n",
       "      <th>2006-01-11</th>\n",
       "      <td>42.19</td>\n",
       "      <td>42.31</td>\n",
       "      <td>41.72</td>\n",
       "      <td>41.87</td>\n",
       "      <td>26192772</td>\n",
       "      <td>AABA</td>\n",
       "    </tr>\n",
       "    <tr>\n",
       "      <th>2006-01-13</th>\n",
       "      <td>41.00</td>\n",
       "      <td>41.08</td>\n",
       "      <td>39.62</td>\n",
       "      <td>39.90</td>\n",
       "      <td>30966185</td>\n",
       "      <td>AABA</td>\n",
       "    </tr>\n",
       "    <tr>\n",
       "      <th>2006-01-18</th>\n",
       "      <td>35.01</td>\n",
       "      <td>36.16</td>\n",
       "      <td>34.74</td>\n",
       "      <td>35.18</td>\n",
       "      <td>118670393</td>\n",
       "      <td>AABA</td>\n",
       "    </tr>\n",
       "    <tr>\n",
       "      <th>2006-01-20</th>\n",
       "      <td>34.44</td>\n",
       "      <td>34.66</td>\n",
       "      <td>33.21</td>\n",
       "      <td>33.74</td>\n",
       "      <td>57681688</td>\n",
       "      <td>AABA</td>\n",
       "    </tr>\n",
       "  </tbody>\n",
       "</table>\n",
       "</div>"
      ],
      "text/plain": [
       "             Open   High    Low  Close     Volume  Name\n",
       "Date                                                   \n",
       "2006-01-03  39.69  41.22  38.79  40.91   24232729  AABA\n",
       "2006-01-05  40.93  41.73  40.85  41.53   12829610  AABA\n",
       "2006-01-09  43.10  43.66  42.82  43.42   16268338  AABA\n",
       "2006-01-11  42.19  42.31  41.72  41.87   26192772  AABA\n",
       "2006-01-13  41.00  41.08  39.62  39.90   30966185  AABA\n",
       "2006-01-18  35.01  36.16  34.74  35.18  118670393  AABA\n",
       "2006-01-20  34.44  34.66  33.21  33.74   57681688  AABA"
      ]
     },
     "execution_count": 4,
     "metadata": {},
     "output_type": "execute_result"
    }
   ],
   "source": [
    "DataSet02 = DataSet01.loc['2006-01-03':'2006-01-20':2]\n",
    "DataSet02.head(7)"
   ]
  },
  {
   "cell_type": "markdown",
   "id": "disturbed-arrangement",
   "metadata": {},
   "source": [
    "Above I am understanding the the data I need to plot "
   ]
  },
  {
   "cell_type": "markdown",
   "id": "expected-softball",
   "metadata": {},
   "source": [
    "### Solution <a class=\"anchor\" id=\"solution\"></a>"
   ]
  },
  {
   "cell_type": "code",
   "execution_count": 8,
   "id": "modified-jonathan",
   "metadata": {
    "scrolled": true
   },
   "outputs": [
    {
     "data": {
      "text/plain": [
       "<AxesSubplot:xlabel='Date'>"
      ]
     },
     "execution_count": 8,
     "metadata": {},
     "output_type": "execute_result"
    },
    {
     "data": {
      "image/png": "[encoded data removed]",
      "text/plain": [
       "<Figure size 504x216 with 1 Axes>"
      ]
     },
     "metadata": {
      "needs_background": "light"
     },
     "output_type": "display_data"
    }
   ],
   "source": [
    "DataSet02 = DataSet01.loc['2006-01-03':'2006-01-21','Open':'Close']\n",
    "DataSet02.plot(figsize = (7,3))"
   ]
  },
  {
   "cell_type": "code",
   "execution_count": 11,
   "id": "concerned-therapy",
   "metadata": {},
   "outputs": [],
   "source": [
    "## The End ##"
   ]
  }
 ],
 "metadata": {
  "kernelspec": {
   "display_name": "Python 3",
   "language": "python",
   "name": "python3"
  },
  "language_info": {
   "codemirror_mode": {
    "name": "ipython",
    "version": 3
   },
   "file_extension": ".py",
   "mimetype": "text/x-python",
   "name": "python",
   "nbconvert_exporter": "python",
   "pygments_lexer": "ipython3",
   "version": "3.8.8"
  }
 },
 "nbformat": 4,
 "nbformat_minor": 5
}
